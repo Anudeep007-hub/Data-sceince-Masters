{
 "cells": [
  {
   "cell_type": "markdown",
   "metadata": {},
   "source": [
    "Q1"
   ]
  },
  {
   "cell_type": "raw",
   "metadata": {},
   "source": [
    "In GET method we can not send large amount of data rather limited data is sent because the request parameter is appended into the URL. \n",
    "In POST method large amount of data can be sent because the request parameter is appended into the body"
   ]
  },
  {
   "cell_type": "raw",
   "metadata": {},
   "source": [
    "Q2"
   ]
  },
  {
   "cell_type": "raw",
   "metadata": {},
   "source": [
    "The Flask Request Object is used to perform both sending and receiving operations from a user's browser to the server and process the request data from the server."
   ]
  },
  {
   "cell_type": "raw",
   "metadata": {},
   "source": [
    "Q3"
   ]
  },
  {
   "cell_type": "raw",
   "metadata": {},
   "source": [
    "A redirect is used in the Flask class to send the user to a particular URL with the status code. conversely, this status code additionally identifies the issue"
   ]
  },
  {
   "cell_type": "raw",
   "metadata": {},
   "source": [
    "Q4"
   ]
  },
  {
   "cell_type": "raw",
   "metadata": {},
   "source": [
    "render_template is a Flask function from the flask. templating package. render_template is used to generate output from a template file based on the Jinja2 engine that is found in the application's templates folder. \n",
    "Note that render_template is typically imported directly from the flask package instead of from flask."
   ]
  },
  {
   "cell_type": "raw",
   "metadata": {},
   "source": [
    "Q5"
   ]
  },
  {
   "cell_type": "raw",
   "metadata": {},
   "source": [
    "https://file+.vscode-resource.vscode-cdn.net/c%3A/Users/AUSU/Documents/PWskills/Assignments_Answers/SIMPLE_API.png?version%3D1690722693471"
   ]
  },
  {
   "cell_type": "raw",
   "metadata": {},
   "source": []
  }
 ],
 "metadata": {
  "kernelspec": {
   "display_name": "Python 3",
   "language": "python",
   "name": "python3"
  },
  "language_info": {
   "codemirror_mode": {
    "name": "ipython",
    "version": 3
   },
   "file_extension": ".py",
   "mimetype": "text/x-python",
   "name": "python",
   "nbconvert_exporter": "python",
   "pygments_lexer": "ipython3",
   "version": "3.10.9"
  },
  "orig_nbformat": 4
 },
 "nbformat": 4,
 "nbformat_minor": 2
}
