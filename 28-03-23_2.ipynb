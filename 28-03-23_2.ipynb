{
 "cells": [
  {
   "cell_type": "markdown",
   "id": "b248d42c-5a5b-43c1-af5f-5948c29e8da5",
   "metadata": {},
   "source": [
    "Q1"
   ]
  },
  {
   "cell_type": "code",
   "execution_count": 2,
   "id": "b4d65f07-fbab-46fc-b07e-afd0dcaf6f3c",
   "metadata": {},
   "outputs": [
    {
     "name": "stdin",
     "output_type": "stream",
     "text": [
      "Enter your password :\n",
      " ANudee!@#%\n"
     ]
    },
    {
     "name": "stdout",
     "output_type": "stream",
     "text": [
      "Invalid Password\n"
     ]
    }
   ],
   "source": [
    "i_1 = input(\"Enter your password :\\n\")\n",
    "cou_l = 0 # Stores the number of lower case letters\n",
    "cou_u = 0 # Stores the number of upper case letters\n",
    "for i in i_1:\n",
    "    if i >= \"a\" and i<= \"z\":\n",
    "        cou_l += 1 \n",
    "    elif i >= \"A\" and i <= \"Z\":\n",
    "        cou_u += 1 \n",
    "    else:\n",
    "        continue \n",
    "pass_len = len(i_1) # Storing length of the password\n",
    "cou_num = 0 # Used to store the number of numbers \n",
    "for i in i_1:\n",
    "    if i >= \"0\" and i<= \"9\":\n",
    "        cou_num += 1 \n",
    "    else:\n",
    "        continue  \n",
    "coun_spc = 0\n",
    "for i in i_1:\n",
    "    if i.isalpha():\n",
    "        continue \n",
    "    elif i.isdigit():\n",
    "        continue \n",
    "    else:\n",
    "        coun_spc += 1 \n",
    "if (cou_l >= 2 and cou_u >= 2 and cou_num >= 1 and coun_spc >= 3 and pass_len == 10):\n",
    "    print(\"Valid Password\")\n",
    "else:\n",
    "    print(\"Invalid Password\")  "
   ]
  },
  {
   "cell_type": "markdown",
   "id": "545c8208-5907-401f-93ea-60c39c234c4a",
   "metadata": {},
   "source": [
    "Q2"
   ]
  },
  {
   "cell_type": "code",
   "execution_count": 12,
   "id": "5d0bca4b-b118-41c0-bdec-255982cf10db",
   "metadata": {},
   "outputs": [
    {
     "name": "stdout",
     "output_type": "stream",
     "text": [
      "['apple']\n"
     ]
    }
   ],
   "source": [
    "# 1st question\n",
    "string_list = [\"apple\", \"banana\", \"cherry\", \"kiwi\"]\n",
    "letter = \"a\"\n",
    "filtered_list = list(filter(lambda x: x.startswith(letter), string_list))\n",
    "print(filtered_list)  \n"
   ]
  },
  {
   "cell_type": "code",
   "execution_count": 4,
   "id": "83e52a50-da8c-4f7b-983b-e110181ab493",
   "metadata": {},
   "outputs": [
    {
     "name": "stdout",
     "output_type": "stream",
     "text": [
      "['123', '456', '789']\n"
     ]
    }
   ],
   "source": [
    "# 2nd question \n",
    "string_list = [\"123\", \"abc\", \"456\", \"def\", \"789\"]\n",
    "filtered_list = list(filter(lambda x: x.isnumeric(), string_list))\n",
    "print(filtered_list)  \n"
   ]
  },
  {
   "cell_type": "code",
   "execution_count": 11,
   "id": "043d50da-8533-49fa-b3ed-4926d3459658",
   "metadata": {},
   "outputs": [
    {
     "name": "stdout",
     "output_type": "stream",
     "text": [
      "[('grapes', 1000), ('mango', 99), ('orange', 80)]\n"
     ]
    }
   ],
   "source": [
    "# 3rd question \n",
    "fruits = [(\"mango\", 99), (\"orange\", 80), (\"grapes\", 1000)]\n",
    "sorted_fruits = sorted(fruits, key=lambda x: x[1], reverse=True)\n",
    "print(sorted_fruits)  \n"
   ]
  },
  {
   "cell_type": "code",
   "execution_count": 6,
   "id": "4b0ed3e4-0d87-4097-8134-b693f3d3b3ce",
   "metadata": {},
   "outputs": [
    {
     "name": "stdout",
     "output_type": "stream",
     "text": [
      "[1, 4, 9, 16, 25, 36, 49, 64, 81, 100]\n"
     ]
    }
   ],
   "source": [
    "#4th question \n",
    "squares = [x**2 for x in range(1, 11)]\n",
    "print(squares) \n"
   ]
  },
  {
   "cell_type": "code",
   "execution_count": 7,
   "id": "666d61cd-8fc1-47ec-9a1d-63ec086a5066",
   "metadata": {},
   "outputs": [
    {
     "name": "stdout",
     "output_type": "stream",
     "text": [
      "[1.0, 1.2599210498948732, 1.4422495703074083, 1.5874010519681994, 1.7099759466766968, 1.8171205928321397, 1.912931182772389, 2.0, 2.080083823051904, 2.154434690031884]\n"
     ]
    }
   ],
   "source": [
    "# 5th question\n",
    "from math import pow\n",
    "\n",
    "cube_roots = [pow(x, 1/3) for x in range(1, 11)]\n",
    "print(cube_roots)  "
   ]
  },
  {
   "cell_type": "code",
   "execution_count": 8,
   "id": "09037128-150d-48b2-be25-3ce6f6f5625e",
   "metadata": {},
   "outputs": [
    {
     "name": "stdout",
     "output_type": "stream",
     "text": [
      "True\n",
      "False\n"
     ]
    }
   ],
   "source": [
    "# 6th question \n",
    "is_even = lambda x: x % 2 == 0\n",
    "print(is_even(4))  \n",
    "print(is_even(5))  \n"
   ]
  },
  {
   "cell_type": "code",
   "execution_count": 9,
   "id": "9fa30eb2-addd-4828-924c-386bec2ef613",
   "metadata": {},
   "outputs": [
    {
     "name": "stdout",
     "output_type": "stream",
     "text": [
      "[1, 3, 5, 7, 9]\n"
     ]
    }
   ],
   "source": [
    "# 7th question \n",
    "numbers = [1, 2, 3, 4, 5, 6, 7, 8, 9, 10]\n",
    "odd_numbers = list(filter(lambda x: x % 2 != 0, numbers))\n",
    "print(odd_numbers)  \n"
   ]
  },
  {
   "cell_type": "code",
   "execution_count": 10,
   "id": "0ded65c3-6d21-46a4-81b8-9550631c7f15",
   "metadata": {},
   "outputs": [
    {
     "name": "stdout",
     "output_type": "stream",
     "text": [
      "[1, 2, 3, 4, 5, 6]\n",
      "[-1, -2, -3, -4, -5]\n"
     ]
    }
   ],
   "source": [
    "# 8th question \n",
    "numbers = [1, 2, 3, 4, 5, 6, -1, -2, -3, -4, -5, 0]\n",
    "positive_numbers = [x for x in numbers if x > 0]\n",
    "negative_numbers = [x for x in numbers if x < 0]\n",
    "print(positive_numbers)  \n",
    "print(negative_numbers)  \n"
   ]
  },
  {
   "cell_type": "code",
   "execution_count": null,
   "id": "b2759e23-0bc9-4aee-b129-e0ceb616ba9a",
   "metadata": {},
   "outputs": [],
   "source": []
  }
 ],
 "metadata": {
  "kernelspec": {
   "display_name": "Python 3 (ipykernel)",
   "language": "python",
   "name": "python3"
  },
  "language_info": {
   "codemirror_mode": {
    "name": "ipython",
    "version": 3
   },
   "file_extension": ".py",
   "mimetype": "text/x-python",
   "name": "python",
   "nbconvert_exporter": "python",
   "pygments_lexer": "ipython3",
   "version": "3.10.8"
  }
 },
 "nbformat": 4,
 "nbformat_minor": 5
}
