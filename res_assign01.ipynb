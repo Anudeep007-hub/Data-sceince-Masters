{
 "cells": [
  {
   "cell_type": "markdown",
   "metadata": {},
   "source": [
    "Q-1"
   ]
  },
  {
   "cell_type": "code",
   "execution_count": null,
   "metadata": {},
   "outputs": [],
   "source": [
    "def add_numbers(a, b):\n",
    "    temp = 0\n",
    "    temp = a+b \n",
    "    return a+b \n",
    "a,b = 5,6 \n",
    "add_numbers(a,b)"
   ]
  },
  {
   "cell_type": "markdown",
   "metadata": {},
   "source": [
    "Q-2"
   ]
  },
  {
   "cell_type": "code",
   "execution_count": null,
   "metadata": {},
   "outputs": [],
   "source": [
    "import math \n",
    "def give_sqrt(a):\n",
    "    temp = 0 \n",
    "    temp = math.sqrt(a)\n",
    "    return temp \n",
    "\n",
    "a = 25 \n",
    "give_sqrt(a)"
   ]
  },
  {
   "cell_type": "markdown",
   "metadata": {},
   "source": [
    "Q-3"
   ]
  },
  {
   "cell_type": "code",
   "execution_count": null,
   "metadata": {},
   "outputs": [],
   "source": [
    "def isPrime(a):\n",
    "    temp = 0\n",
    "    if a <2:\n",
    "        return False \n",
    "    elif a == 2:\n",
    "        return True\n",
    "    else:\n",
    "        for i in range(2,a-1):\n",
    "            if a%i == 0:\n",
    "                return False \n",
    "                break\n",
    "            else:\n",
    "                continue\n",
    "        return True\n",
    "\n",
    "for i in range(0,51):\n",
    "    if (isPrime(i)):\n",
    "        print(i)\n",
    "    else:\n",
    "        continue"
   ]
  },
  {
   "cell_type": "markdown",
   "metadata": {},
   "source": [
    "Q-4"
   ]
  },
  {
   "cell_type": "code",
   "execution_count": null,
   "metadata": {},
   "outputs": [],
   "source": [
    "def swap_three(a,b,c):\n",
    "    a = a+c \n",
    "    c = a-c\n",
    "    a = a-c\n",
    "    b = b+c \n",
    "    c = b-c \n",
    "    b = b-c\n",
    "    print(\"a = \"+str(a))\n",
    "    print(\"b = \"+str(b))\n",
    "    print(\"c = \"+str((c)))\n",
    "\n",
    "a,b,c = 5,8,9\n",
    "swap_three(a,b,c)\n",
    "\n"
   ]
  },
  {
   "cell_type": "markdown",
   "metadata": {},
   "source": [
    "Q-5"
   ]
  },
  {
   "cell_type": "code",
   "execution_count": null,
   "metadata": {},
   "outputs": [],
   "source": [
    "def say_number(a):\n",
    "    if a<0:\n",
    "        print(\"It is a Negative number\")\n",
    "    elif a>0:\n",
    "        print(\"It is a Positive number\")\n",
    "    if a==0:\n",
    "        print(\"It is Zero\")\n",
    "a = float(input(\"Enter a number: \"))\n",
    "say_number(a)\n"
   ]
  },
  {
   "cell_type": "markdown",
   "metadata": {},
   "source": [
    "Q-6"
   ]
  },
  {
   "cell_type": "code",
   "execution_count": null,
   "metadata": {},
   "outputs": [],
   "source": [
    "def EvenOrOdd(a):\n",
    "    if a%2 == 0:\n",
    "        print(\"It's an even number\")\n",
    "    else:\n",
    "        print(\"It's an odd number\") \n",
    "a = int(input(\"Enter a number: \"))\n",
    "EvenOrOdd(a)"
   ]
  },
  {
   "cell_type": "markdown",
   "metadata": {},
   "source": [
    "Q-7"
   ]
  },
  {
   "cell_type": "code",
   "execution_count": null,
   "metadata": {},
   "outputs": [],
   "source": [
    "def get_sum_of_digits(a):\n",
    "    temp_sum = 0\n",
    "    temp_string = str(a)\n",
    "    for i in temp_string:\n",
    "        temp_sum += int(i) \n",
    "    print(temp_sum)\n",
    "\n",
    "a = int(input(\"Enter a numeber\"))\n",
    "get_sum_of_digits(a) \n",
    "\n"
   ]
  },
  {
   "cell_type": "markdown",
   "metadata": {},
   "source": [
    "Q-8"
   ]
  },
  {
   "cell_type": "code",
   "execution_count": null,
   "metadata": {},
   "outputs": [],
   "source": [
    "a = input(\"Enter a number: \")\n",
    "print(int(a[::-1]))"
   ]
  },
  {
   "cell_type": "markdown",
   "metadata": {},
   "source": [
    "Q-9"
   ]
  },
  {
   "cell_type": "code",
   "execution_count": null,
   "metadata": {},
   "outputs": [],
   "source": [
    "def check_Armstrong_Number(a):\n",
    "    temp_string = str(a)\n",
    "    temp_sum = 0\n",
    "    for i in temp_string:\n",
    "        temp_sum += int(i)**3 \n",
    "    if temp_sum == a:\n",
    "        print(\"It's an Armstrong number\")\n",
    "    else:\n",
    "        print(\"It's not an Armstrong number\")\n",
    "        \n",
    "a = int(input(\"Enter a number\"))\n",
    "check_Armstrong_Number(a)"
   ]
  },
  {
   "cell_type": "markdown",
   "metadata": {},
   "source": [
    "Q-10"
   ]
  },
  {
   "cell_type": "code",
   "execution_count": null,
   "metadata": {},
   "outputs": [],
   "source": [
    "def isLeapYear(a):\n",
    "    if a%4 != 0:\n",
    "        print(\"It's not a leap year\")\n",
    "    else:\n",
    "        if ((a%100 == 0) and (a%400 == 0)) or ((a%100 != 0) and (a%400 != 0)):\n",
    "            print(\"It's a leap year\")\n",
    "        else:\n",
    "            print(\"It's not a leap year\")\n",
    "\n",
    "a = int(input(\"Enter a number: \"))\n",
    "isLeapYear(a)\n"
   ]
  }
 ],
 "metadata": {
  "kernelspec": {
   "display_name": "myvenv",
   "language": "python",
   "name": "python3"
  },
  "language_info": {
   "codemirror_mode": {
    "name": "ipython",
    "version": 3
   },
   "file_extension": ".py",
   "mimetype": "text/x-python",
   "name": "python",
   "nbconvert_exporter": "python",
   "pygments_lexer": "ipython3",
   "version": "3.10.9"
  }
 },
 "nbformat": 4,
 "nbformat_minor": 2
}
