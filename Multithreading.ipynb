{
 "cells": [
  {
   "cell_type": "markdown",
   "id": "46b3c39e-8802-4217-9d7a-10d8358685e0",
   "metadata": {},
   "source": [
    "Q1"
   ]
  },
  {
   "cell_type": "markdown",
   "id": "e86246fc-c58f-4a7d-9c5d-40611d64dcaa",
   "metadata": {},
   "source": [
    "Multithreading in Python refers to the ability of a program to concurrently execute multiple threads of execution within a single process. A thread is a lightweight unit of execution that can run concurrently with other threads, allowing for parallelism and improved performance in certain scenarios.\n",
    "\n",
    "Multithreading is used to achieve concurrent execution and to handle tasks that can be performed independently. By dividing a program into multiple threads, each thread can work on a separate task simultaneously. This can be particularly useful in situations where there are blocking operations, such as waiting for I/O or network operations, where the program can continue executing other threads instead of being idle.\n",
    "\n",
    "Python provides a built-in module called \"threading\" to handle threads. The \"threading\" module provides classes and functions for creating and managing threads in Python programs. It offers a higher-level interface compared to the lower-level \"thread\" module, which has been deprecated.\n",
    "\n",
    "Here's a simple example of using the \"threading\" module to create and start a new thread:"
   ]
  },
  {
   "cell_type": "code",
   "execution_count": 13,
   "id": "771d78cb-6390-448c-8977-ae1f168e10f8",
   "metadata": {},
   "outputs": [
    {
     "name": "stdout",
     "output_type": "stream",
     "text": [
      " test1 print the value of x 100 and print the value of i 0 \n",
      " test1 print the value of x 10 and print the value of i 0 \n",
      " test1 print the value of x 20 and print the value of i 0 \n",
      " test1 print the value of x 5 and print the value of i 0 \n",
      " test1 print the value of x 100 and print the value of i 1 \n",
      " test1 print the value of x 10 and print the value of i 1 \n",
      " test1 print the value of x 20 and print the value of i 1 \n",
      " test1 print the value of x 5 and print the value of i 1 \n",
      " test1 print the value of x 100 and print the value of i 2 \n",
      " test1 print the value of x 10 and print the value of i 2 \n",
      " test1 print the value of x 20 and print the value of i 2 \n",
      " test1 print the value of x 5 and print the value of i 2 \n",
      " test1 print the value of x 100 and print the value of i 3 \n",
      " test1 print the value of x 10 and print the value of i 3 \n",
      " test1 print the value of x 20 and print the value of i 3 \n",
      " test1 print the value of x 5 and print the value of i 3 \n",
      " test1 print the value of x 100 and print the value of i 4 \n",
      " test1 print the value of x 10 and print the value of i 4 \n",
      " test1 print the value of x 20 and print the value of i 4 \n",
      " test1 print the value of x 5 and print the value of i 4 \n",
      " test1 print the value of x 100 and print the value of i 5 \n",
      " test1 print the value of x 10 and print the value of i 5 \n",
      " test1 print the value of x 20 and print the value of i 5 \n",
      " test1 print the value of x 5 and print the value of i 5 \n",
      " test1 print the value of x 100 and print the value of i 6 \n",
      " test1 print the value of x 10 and print the value of i 6 \n",
      " test1 print the value of x 20 and print the value of i 6 \n",
      " test1 print the value of x 5 and print the value of i 6 \n",
      " test1 print the value of x 100 and print the value of i 7 \n",
      " test1 print the value of x 10 and print the value of i 7 \n",
      " test1 print the value of x 20 and print the value of i 7 \n",
      " test1 print the value of x 5 and print the value of i 7 \n",
      " test1 print the value of x 100 and print the value of i 8 \n",
      " test1 print the value of x 10 and print the value of i 8 \n",
      " test1 print the value of x 20 and print the value of i 8 \n",
      " test1 print the value of x 5 and print the value of i 8 \n",
      " test1 print the value of x 100 and print the value of i 9 \n",
      " test1 print the value of x 10 and print the value of i 9 \n",
      " test1 print the value of x 20 and print the value of i 9 \n",
      " test1 print the value of x 5 and print the value of i 9 \n"
     ]
    }
   ],
   "source": [
    "import threading, time\n",
    "\n",
    "def test2(x) : \n",
    "    for i in range(10) : \n",
    "        print(\" test1 print the value of x %d and print the value of i %d \" %(x,i))\n",
    "        time.sleep(1)\n",
    "thread2 = [threading.Thread(target=test2 , args=(i,)) for i in [100 , 10,20,5]]\n",
    "for t in thread2:\n",
    "    t.start()\n"
   ]
  },
  {
   "cell_type": "markdown",
   "id": "06522985-ece7-419c-95f2-8172c5f944f6",
   "metadata": {},
   "source": [
    "Q2"
   ]
  },
  {
   "cell_type": "code",
   "execution_count": 19,
   "id": "69f37f8a-182f-4c6f-9a9e-5c156c83ccc1",
   "metadata": {},
   "outputs": [
    {
     "name": "stdout",
     "output_type": "stream",
     "text": [
      "Number of active threads: 8\n",
      "Current thread name: MainThread\n",
      "Current thread ID: 140128330377024\n",
      "Thread name: MainThread\n",
      "Thread ID: 140128330377024\n",
      "Thread name: IOPub\n",
      "Thread ID: 140128259847744\n",
      "Thread name: Heartbeat\n",
      "Thread ID: 140128251455040\n",
      "Thread name: Thread-3 (_watch_pipe_fd)\n",
      "Thread ID: 140128226276928\n",
      "Thread name: Thread-4 (_watch_pipe_fd)\n",
      "Thread ID: 140128217884224\n",
      "Thread name: Control\n",
      "Thread ID: 140127871432256\n",
      "Thread name: IPythonHistorySavingThread\n",
      "Thread ID: 140127863039552\n",
      "Thread name: Thread-2\n",
      "Thread ID: 140127854646848\n"
     ]
    },
    {
     "name": "stderr",
     "output_type": "stream",
     "text": [
      "/tmp/ipykernel_77/2347162948.py:15: DeprecationWarning: activeCount() is deprecated, use active_count() instead\n",
      "  num_threads = threading.activeCount()\n",
      "/tmp/ipykernel_77/2347162948.py:29: DeprecationWarning: currentThread() is deprecated, use current_thread() instead\n",
      "  current_thread = threading.currentThread()\n"
     ]
    },
    {
     "data": {
      "text/plain": [
       "'\\nThese functions provide useful information and control over threads in a Python program, allowing you to manage and monitor their execution and behavior.\\n'"
      ]
     },
     "execution_count": 19,
     "metadata": {},
     "output_type": "execute_result"
    }
   ],
   "source": [
    "\"\"\"\n",
    "The threading module in Python is used to handle threads and provides a higher-level interface for creating, managing, and synchronizing threads in a Python program. It is commonly used when you need to achieve concurrent execution and handle tasks that can run independently.\n",
    "\n",
    "Here's a brief explanation of the functions you mentioned in the threading module:\n",
    "\n",
    "1. activeCount():\n",
    "   The activeCount() function returns the number of Thread objects currently alive. It counts the total number of active threads, including the main thread. This function is useful to monitor the number of threads in your program.\n",
    "\n",
    "   Example usage:\n",
    "   ```python\n",
    "\"\"\"\n",
    "import threading\n",
    "\n",
    "   # Get the number of active threads\n",
    "num_threads = threading.activeCount()\n",
    "print(\"Number of active threads:\", num_threads)\n",
    "  \n",
    "\"\"\"\n",
    "2. currentThread():\n",
    "   The currentThread() function returns the Thread object representing the current thread of execution. It is often used to obtain information about the current thread, such as its name or identification.\n",
    "\n",
    "   Example usage:\n",
    "\n",
    "   \n",
    "\n",
    "\"\"\"\n",
    "\n",
    "   # Get the current thread\n",
    "current_thread = threading.currentThread()\n",
    "print(\"Current thread name:\", current_thread.name)\n",
    "print(\"Current thread ID:\", current_thread.ident)\n",
    "\n",
    "\"\"\"\n",
    "3. enumerate():\n",
    "   The enumerate() function returns a list of all Thread objects currently alive. It returns a list of Thread objects, allowing you to iterate over and access information about each active thread.\n",
    "\n",
    "   Example usage:\n",
    "\n",
    "\"\"\"\n",
    "   # Get a list of all active threads\n",
    "threads = threading.enumerate()\n",
    "\n",
    "   # Print information about each thread\n",
    "for thread in threads:\n",
    "    print(\"Thread name:\", thread.name)\n",
    "    print(\"Thread ID:\", thread.ident)\n",
    "  \n",
    "\"\"\"\n",
    "These functions provide useful information and control over threads in a Python program, allowing you to manage and monitor their execution and behavior.\n",
    "\"\"\""
   ]
  },
  {
   "cell_type": "markdown",
   "id": "0eaec49f-ed49-4f86-95ec-e3cc8e9bae13",
   "metadata": {},
   "source": [
    "Q3"
   ]
  },
  {
   "cell_type": "markdown",
   "id": "d97ca30a-bcfe-4412-bf1e-03f5d0c8ae6f",
   "metadata": {},
   "source": [
    "run():\n",
    "The run() function is the entry point for the thread's activity. It represents the code that will be executed when the thread starts running. The run() method needs to be overridden in a subclass of the Thread class to define the specific behavior of the thread. When a thread is started, its run() method is called automatically.\n",
    "\n",
    "Example usage:"
   ]
  },
  {
   "cell_type": "code",
   "execution_count": 1,
   "id": "92500e59-106f-49f6-8b28-218b28d7dcca",
   "metadata": {},
   "outputs": [
    {
     "name": "stdout",
     "output_type": "stream",
     "text": [
      "Thread is running\n"
     ]
    }
   ],
   "source": [
    "import threading\n",
    "\n",
    "class MyThread(threading.Thread):\n",
    "    def run(self):\n",
    "        # Code to be executed in the thread\n",
    "        print(\"Thread is running\")\n",
    "\n",
    "# Create and start the thread\n",
    "my_thread = MyThread()\n",
    "my_thread.start()\n"
   ]
  },
  {
   "cell_type": "markdown",
   "id": "ea673a06-2b36-438c-8e5c-73964e93e9cc",
   "metadata": {},
   "source": [
    "start():\n",
    "The start() function is used to start the execution of a thread. It initiates the thread's activity and calls its run() method. Once the start() method is called, the thread is considered \"alive\" and can begin executing concurrently with other threads. It is important to note that start() should be called only once on a thread object; calling it multiple times will raise an exception.\n",
    "\n",
    "Example usage:"
   ]
  },
  {
   "cell_type": "code",
   "execution_count": 2,
   "id": "6c921e15-5613-4cc8-bab5-79a22666d183",
   "metadata": {},
   "outputs": [
    {
     "name": "stdout",
     "output_type": "stream",
     "text": [
      "Thread is running\n"
     ]
    }
   ],
   "source": [
    "import threading\n",
    "\n",
    "def my_function():\n",
    "    # Code to be executed in the thread\n",
    "    print(\"Thread is running\")\n",
    "\n",
    "# Create a new thread\n",
    "my_thread = threading.Thread(target=my_function)\n",
    "\n",
    "# Start the thread\n",
    "my_thread.start()\n"
   ]
  },
  {
   "cell_type": "markdown",
   "id": "c5c8beda-49e7-4a49-8b6e-d40b3f7183c0",
   "metadata": {},
   "source": [
    "join():\n",
    "The join() function is used to wait for a thread to complete its execution. When called on a thread, it blocks the execution of the calling thread until the target thread finishes. This is useful when you want to ensure that a certain thread has completed its task before proceeding with the rest of the program.\n",
    "\n",
    "Example usage:"
   ]
  },
  {
   "cell_type": "code",
   "execution_count": 3,
   "id": "7ac847ea-2418-4c02-a99d-c5a4e11f7a19",
   "metadata": {},
   "outputs": [
    {
     "name": "stdout",
     "output_type": "stream",
     "text": [
      "Thread is running\n",
      "Thread has completed\n"
     ]
    }
   ],
   "source": [
    "import threading\n",
    "\n",
    "def my_function():\n",
    "    # Code to be executed in the thread\n",
    "    print(\"Thread is running\")\n",
    "\n",
    "# Create a new thread\n",
    "my_thread = threading.Thread(target=my_function)\n",
    "\n",
    "# Start the thread\n",
    "my_thread.start()\n",
    "\n",
    "# Wait for the thread to finish\n",
    "my_thread.join()\n",
    "\n",
    "print(\"Thread has completed\")\n"
   ]
  },
  {
   "cell_type": "markdown",
   "id": "1edb96c8-88cf-42ad-9189-6dd00f3555ff",
   "metadata": {},
   "source": [
    "isAlive():\n",
    "The isAlive() function is used to check whether a thread is currently running or not. It returns a Boolean value indicating the thread's status. If the thread is still active and executing, isAlive() returns True; otherwise, it returns False.\n",
    "\n",
    "Example usage:"
   ]
  },
  {
   "cell_type": "code",
   "execution_count": 6,
   "id": "3a6ba2c5-f654-4546-a846-d5c29df110ae",
   "metadata": {},
   "outputs": [
    {
     "name": "stdout",
     "output_type": "stream",
     "text": [
      "Thread is still running\n"
     ]
    }
   ],
   "source": [
    "import threading\n",
    "import time\n",
    "\n",
    "def my_function():\n",
    "    time.sleep(2)\n",
    "\n",
    "# Create a new thread\n",
    "my_thread = threading.Thread(target=my_function)\n",
    "\n",
    "# Start the thread\n",
    "my_thread.start()\n",
    "\n",
    "# Check if the thread is alive\n",
    "if my_thread.is_alive:\n",
    "    print(\"Thread is still running\")\n",
    "else:\n",
    "    print(\"Thread has finished\")\n"
   ]
  },
  {
   "cell_type": "markdown",
   "id": "6b8561da-2743-4bbe-b097-32f489802fd9",
   "metadata": {},
   "source": [
    "Q4"
   ]
  },
  {
   "cell_type": "code",
   "execution_count": 1,
   "id": "45a6d05e-55c7-4b87-ad21-b313f8188c00",
   "metadata": {},
   "outputs": [
    {
     "name": "stdout",
     "output_type": "stream",
     "text": [
      "Square: 1 -> 1\n",
      "Square: 2 -> 4\n",
      "Square: 3 -> 9\n",
      "Square: 4 -> 16\n",
      "Square: 5 -> 25\n",
      "Cube: 1 -> 1\n",
      "Cube: 2 -> 8\n",
      "Cube: 3 -> 27\n",
      "Cube: 4 -> 64\n",
      "Cube: 5 -> 125\n"
     ]
    }
   ],
   "source": [
    "import threading\n",
    "\n",
    "def print_squares(numbers):\n",
    "    for num in numbers:\n",
    "        square = num ** 2\n",
    "        print(f\"Square: {num} -> {square}\")\n",
    "\n",
    "def print_cubes(numbers):\n",
    "    for num in numbers:\n",
    "        cube = num ** 3\n",
    "        print(f\"Cube: {num} -> {cube}\")\n",
    "\n",
    "# Define the list of numbers\n",
    "numbers = [1, 2, 3, 4, 5]\n",
    "\n",
    "# Create the threads\n",
    "thread1 = threading.Thread(target=print_squares, args=(numbers,))\n",
    "thread2 = threading.Thread(target=print_cubes, args=(numbers,))\n",
    "\n",
    "# Start the threads\n",
    "thread1.start()\n",
    "thread2.start()\n",
    "\n",
    "# Wait for both threads to finish\n",
    "thread1.join()\n",
    "thread2.join()\n"
   ]
  },
  {
   "cell_type": "markdown",
   "id": "7d4f918e-88a6-4225-80f3-bc845f651004",
   "metadata": {},
   "source": [
    "Q5"
   ]
  },
  {
   "cell_type": "markdown",
   "id": "ad471cf3-1bf1-41d3-9f90-857f75479971",
   "metadata": {},
   "source": [
    "Multithreading, the concurrent execution of multiple threads within a single program, offers several advantages and disadvantages. Let's explore them:\n",
    "\n",
    "Advantages of Multithreading:\n",
    "\n",
    "1. Responsiveness and improved performance: Multithreading allows for concurrent execution of multiple tasks, enabling better responsiveness and improved performance. It enables programs to perform multiple operations simultaneously, such as running background tasks while the main program continues to respond to user input.\n",
    "\n",
    "2. Resource utilization: Multithreading allows for efficient utilization of system resources. By dividing a program into smaller threads, each performing a specific task, the overall resource usage can be optimized. Threads can share data and resources, reducing the memory footprint and overhead compared to running multiple independent processes.\n",
    "\n",
    "3. Simplified program design: Multithreading can simplify program design by separating different functionalities into separate threads. This modular approach improves code organization and makes it easier to understand, maintain, and debug complex programs.\n",
    "\n",
    "4. Enhanced interactivity: Multithreading can improve the interactivity of graphical user interfaces (GUIs) by keeping the user interface responsive while performing time-consuming tasks in the background. This ensures that the program remains interactive and doesn't freeze or become unresponsive.\n",
    "\n",
    "Disadvantages of Multithreading:\n",
    "\n",
    "1. Complexity and difficulty of synchronization: Multithreaded programs can be complex to design, implement, and debug, especially when shared resources or data need to be accessed and modified by multiple threads concurrently. Synchronization mechanisms, such as locks or semaphores, are required to prevent race conditions and ensure data integrity, which adds complexity and potential for errors.\n",
    "\n",
    "2. Increased likelihood of bugs and issues: Multithreading introduces the possibility of subtle and hard-to-reproduce bugs, such as deadlocks, livelocks, and race conditions. These issues can arise when multiple threads access shared resources or synchronize their execution improperly, leading to unexpected program behavior and difficult-to-diagnose problems.\n",
    "\n",
    "3. Overhead and resource contention: Multithreading adds overhead in terms of memory usage and context switching between threads. Additionally, threads may contend for shared resources, leading to bottlenecks and reduced performance if synchronization is not properly managed.\n",
    "\n",
    "4. Limited scalability: Although multithreading can improve performance on systems with multiple processors or cores, there is a practical limit to the scalability of multithreaded programs. As the number of threads increases, the overhead of managing and synchronizing them can outweigh the benefits, leading to diminishing returns or even performance degradation.\n",
    "\n",
    "It's important to carefully consider the advantages and disadvantages of multithreading when deciding whether to use it in a particular program or system. Proper design, synchronization, and testing techniques are essential to harness the benefits while mitigating the potential issues."
   ]
  },
  {
   "cell_type": "markdown",
   "id": "74ff773f-e3da-4607-9ebe-08d8764c10d3",
   "metadata": {},
   "source": [
    "Q6"
   ]
  },
  {
   "cell_type": "markdown",
   "id": "5691de82-baea-4810-bdd6-762c0faff1da",
   "metadata": {},
   "source": [
    "Deadlocks and race conditions are both concurrency-related issues that can occur in multithreaded or multitasking environments, but they represent different scenarios:\n",
    "\n",
    "1. Deadlock:\n",
    "A deadlock is a situation where two or more processes or threads are blocked indefinitely because each process/thread is holding a resource and waiting for another resource held by some other process/thread. This creates a circular dependency, preventing any of the processes/threads from making progress. Deadlocks can occur when four necessary conditions are present: mutual exclusion, hold and wait, no preemption, and circular wait.\n",
    "\n",
    "For example, consider two threads, A and B, where Thread A holds Resource X and waits for Resource Y, while Thread B holds Resource Y and waits for Resource X. Neither thread can proceed, resulting in a deadlock.\n",
    "\n",
    "Deadlocks can be resolved through techniques such as deadlock detection, where the system identifies the existence of a deadlock, or deadlock prevention, where one or more of the necessary conditions are eliminated. Resource scheduling algorithms and careful resource management can help prevent or resolve deadlocks.\n",
    "\n",
    "2. Race Condition:\n",
    "A race condition occurs when the behavior or outcome of a program depends on the relative timing or interleaving of multiple threads or processes. It happens when two or more threads access shared data or resources concurrently, and the final result is dependent on the order in which the threads are scheduled to run.\n",
    "\n",
    "In a race condition, the output of the program may vary each time it is executed, as the timing of thread execution can change. Race conditions can lead to unexpected and incorrect results, data corruption, or program crashes.\n",
    "\n",
    "For example, consider two threads, T1 and T2, that access and modify a shared variable simultaneously. If the threads perform read-modify-write operations on the shared variable without proper synchronization, the final value of the variable may be inconsistent and dependent on the timing of the threads.\n",
    "\n",
    "Race conditions can be mitigated by using synchronization techniques such as locks, semaphores, or atomic operations to ensure mutual exclusion and proper ordering of shared resource access. By enforcing synchronization, the program can guarantee the desired behavior and prevent race conditions from occurring.\n",
    "\n",
    "Both deadlocks and race conditions are important concepts to consider when designing concurrent programs, as they can lead to unpredictable and undesirable behavior. Careful synchronization and resource management are necessary to avoid or resolve these issues and ensure the correctness and reliability of concurrent systems."
   ]
  },
  {
   "cell_type": "code",
   "execution_count": null,
   "id": "bf359ee6-cb36-42b1-98bc-faacb24085d8",
   "metadata": {},
   "outputs": [],
   "source": []
  }
 ],
 "metadata": {
  "kernelspec": {
   "display_name": "Python 3 (ipykernel)",
   "language": "python",
   "name": "python3"
  },
  "language_info": {
   "codemirror_mode": {
    "name": "ipython",
    "version": 3
   },
   "file_extension": ".py",
   "mimetype": "text/x-python",
   "name": "python",
   "nbconvert_exporter": "python",
   "pygments_lexer": "ipython3",
   "version": "3.10.8"
  }
 },
 "nbformat": 4,
 "nbformat_minor": 5
}
