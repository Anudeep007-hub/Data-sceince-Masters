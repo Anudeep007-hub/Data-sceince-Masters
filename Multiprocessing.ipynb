{
 "cells": [
  {
   "cell_type": "markdown",
   "id": "ab34f6ed-bb51-4dd3-a555-ce8d34e10542",
   "metadata": {},
   "source": [
    "Q1"
   ]
  },
  {
   "cell_type": "markdown",
   "id": "24284ac9-e7fd-43f3-b42d-bcab3554b71c",
   "metadata": {},
   "source": [
    "Multiprocessing is a execution of a program with multiple processores in single thread. \n",
    "It's make the compiler to perform effeciently. "
   ]
  },
  {
   "cell_type": "markdown",
   "id": "a76e1b70-927a-425a-9fad-5dfb10ee30af",
   "metadata": {},
   "source": [
    "Q2"
   ]
  },
  {
   "cell_type": "markdown",
   "id": "fd17263e-0fe5-4653-aaf4-3b5841f54736",
   "metadata": {},
   "source": [
    "Multiprocessing: \n",
    "                Multiprocessing is a execution of a program with multiple processores in single thread.\n",
    "Multithreading:\n",
    "               Multithreading is execution program with multiple paths sequentuially"
   ]
  },
  {
   "cell_type": "markdown",
   "id": "49a26d18-b7bb-4ecc-b18e-ea4eadc29187",
   "metadata": {},
   "source": [
    "Q3"
   ]
  },
  {
   "cell_type": "code",
   "execution_count": 2,
   "id": "86000c28-42a1-451e-822e-c06794fb774c",
   "metadata": {},
   "outputs": [
    {
     "name": "stdout",
     "output_type": "stream",
     "text": [
      "<Process name='Process-1' parent=84 initial>\n"
     ]
    }
   ],
   "source": [
    "import multiprocessing \n",
    "\n",
    "def cal_len(sen):\n",
    "    len_lst = []\n",
    "    for i in sen:\n",
    "        len_lst.append(i)\n",
    "        \n",
    "lst = [\"NARAYANA\", \"SRI CHAITANYA\", \"KKR GOWTHAM\", \"BHASHYAM\"]\n",
    "mlt = multiprocessing.Process(target = cal_len)\n",
    "print(mlt)\n",
    "        "
   ]
  },
  {
   "cell_type": "markdown",
   "id": "b98ff855-3512-4f78-9d22-c46800be0ebc",
   "metadata": {},
   "source": [
    "Q4"
   ]
  },
  {
   "cell_type": "markdown",
   "id": "5d961925-7912-4fa4-8c27-a4020e2566c9",
   "metadata": {},
   "source": [
    "Multiprocessing pool is used for executing multiple inputs \n",
    "\n",
    "It can be executed as:"
   ]
  },
  {
   "cell_type": "code",
   "execution_count": 5,
   "id": "292a7dfc-7684-4a7a-bdc8-6bd9e22fab0e",
   "metadata": {},
   "outputs": [
    {
     "name": "stdout",
     "output_type": "stream",
     "text": [
      "[144, 169, 225, 256, 400]\n"
     ]
    }
   ],
   "source": [
    "def find_area(ele):\n",
    "    return ele**2 \n",
    "\n",
    "import multiprocessing\n",
    "group = [12,13,15,16,20]\n",
    "with multiprocessing.Pool(processes = 3) as ml:\n",
    "    final_list = ml.map(find_area, group)\n",
    "    print(final_list)\n",
    "        "
   ]
  },
  {
   "cell_type": "markdown",
   "id": "fb74173d-0c43-4121-91bc-55516c4f4e4d",
   "metadata": {},
   "source": [
    "Q5"
   ]
  },
  {
   "cell_type": "code",
   "execution_count": 6,
   "id": "856a837a-ceef-4ad1-a5d7-9df66ac782e3",
   "metadata": {},
   "outputs": [
    {
     "name": "stdout",
     "output_type": "stream",
     "text": [
      "1\n",
      "2\n",
      "3\n",
      "4\n"
     ]
    }
   ],
   "source": [
    "import multiprocessing\n",
    "\n",
    "def print_number(number):\n",
    "    print(number)\n",
    "\n",
    "if __name__ == '__main__':\n",
    "    processes = []\n",
    "\n",
    "    for i in range(4):\n",
    "        number = i + 1\n",
    "        process = multiprocessing.Process(target=print_number, args=(number,))\n",
    "        processes.append(process)\n",
    "        process.start()\n",
    "\n",
    "    for process in processes:\n",
    "        process.join()\n"
   ]
  },
  {
   "cell_type": "code",
   "execution_count": null,
   "id": "3b3093ad-86a2-4177-87ec-7c482f2767a7",
   "metadata": {},
   "outputs": [],
   "source": []
  }
 ],
 "metadata": {
  "kernelspec": {
   "display_name": "Python 3 (ipykernel)",
   "language": "python",
   "name": "python3"
  },
  "language_info": {
   "codemirror_mode": {
    "name": "ipython",
    "version": 3
   },
   "file_extension": ".py",
   "mimetype": "text/x-python",
   "name": "python",
   "nbconvert_exporter": "python",
   "pygments_lexer": "ipython3",
   "version": "3.10.8"
  }
 },
 "nbformat": 4,
 "nbformat_minor": 5
}
