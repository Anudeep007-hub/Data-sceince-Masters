{
 "cells": [
  {
   "cell_type": "markdown",
   "id": "ab34f6ed-bb51-4dd3-a555-ce8d34e10542",
   "metadata": {},
   "source": [
    "Q1"
   ]
  },
  {
   "cell_type": "markdown",
   "id": "24284ac9-e7fd-43f3-b42d-bcab3554b71c",
   "metadata": {},
   "source": [
    "Multiprocessing is a execution of a program with multiple processores in single thread. \n",
    "It's make the compiler to perform effeciently. "
   ]
  },
  {
   "cell_type": "markdown",
   "id": "a76e1b70-927a-425a-9fad-5dfb10ee30af",
   "metadata": {},
   "source": [
    "Q2"
   ]
  },
  {
   "cell_type": "markdown",
   "id": "fd17263e-0fe5-4653-aaf4-3b5841f54736",
   "metadata": {},
   "source": [
    "Multiprocessing: \n",
    "                Multiprocessing is a execution of a program with multiple processores in single thread.\n",
    "Multithreading:\n",
    "               Multithreading is execution program with multiple paths sequentuially"
   ]
  },
  {
   "cell_type": "markdown",
   "id": "49a26d18-b7bb-4ecc-b18e-ea4eadc29187",
   "metadata": {},
   "source": [
    "Q3"
   ]
  },
  {
   "cell_type": "code",
   "execution_count": 2,
   "id": "86000c28-42a1-451e-822e-c06794fb774c",
   "metadata": {},
   "outputs": [
    {
     "name": "stdout",
     "output_type": "stream",
     "text": [
      "<Process name='Process-1' parent=84 initial>\n"
     ]
    }
   ],
   "source": [
    "import multiprocessing \n",
    "\n",
    "def cal_len(sen):\n",
    "    len_lst = []\n",
    "    for i in sen:\n",
    "        len_lst.append(i)\n",
    "        \n",
    "lst = [\"NARAYANA\", \"SRI CHAITANYA\", \"KKR GOWTHAM\", \"BHASHYAM\"]\n",
    "mlt = multiprocessing.Process(target = cal_len)\n",
    "print(mlt)\n",
    "        "
   ]
  },
  {
   "cell_type": "markdown",
   "id": "b98ff855-3512-4f78-9d22-c46800be0ebc",
   "metadata": {},
   "source": [
    "Q4"
   ]
  },
  {
   "cell_type": "markdown",
   "id": "5d961925-7912-4fa4-8c27-a4020e2566c9",
   "metadata": {},
   "source": [
    "Multiprocessing pool is used for executing multiple inputs \n",
    "\n",
    "It can be executed as:"
   ]
  },
  {
   "cell_type": "code",
   "execution_count": 5,
   "id": "292a7dfc-7684-4a7a-bdc8-6bd9e22fab0e",
   "metadata": {},
   "outputs": [
    {
     "name": "stdout",
     "output_type": "stream",
     "text": [
      "[144, 169, 225, 256, 400]\n"
     ]
    }
   ],
   "source": [
    "def find_area(ele):\n",
    "    return ele**2 \n",
    "\n",
    "import multiprocessing\n",
    "group = [12,13,15,16,20]\n",
    "with multiprocessing.Pool(processes = 3) as ml:\n",
    "    final_list = ml.map(find_area, group)\n",
    "    print(final_list)\n",
    "        "
   ]
  },
  {
   "cell_type": "markdown",
   "id": "b963e389-1a0b-49f1-acef-5ac99ed56080",
   "metadata": {},
   "source": [
    "Q5\n"
   ]
  },
  {
   "cell_type": "markdown",
   "id": "940651fc-2d47-47da-beaf-71fa88026426",
   "metadata": {},
   "source": [
    "\n",
    "To create a pool of worker processes in Python using the `multiprocessing` module, you can follow these steps:\n",
    "\n",
    "1. Import the `multiprocessing` module:\n",
    "```python\n",
    "import multiprocessing\n",
    "```\n",
    "\n",
    "2. Define a function that will be executed by each worker process in the pool. This function should take a task as an argument and perform the required work:\n",
    "```python\n",
    "def worker_function(task):\n",
    "    # Perform the task here\n",
    "    # ...\n",
    "    return result\n",
    "```\n",
    "\n",
    "3. Create a `Pool` object, specifying the number of worker processes you want in the pool:\n",
    "```python\n",
    "pool = multiprocessing.Pool(processes=num_processes)\n",
    "```\n",
    "Here, `num_processes` is the number of worker processes you want to create.\n",
    "\n",
    "4. Submit tasks to the worker processes in the pool using the `apply_async` method. This method allows you to asynchronously apply a function to the arguments provided:\n",
    "```python\n",
    "result = pool.apply_async(worker_function, (task,))\n",
    "```\n",
    "Here, `worker_function` is the function to be executed by the worker process, and `task` is the task you want to pass to the function.\n",
    "\n",
    "5. Retrieve the result of the task by calling the `get` method on the `AsyncResult` object returned by `apply_async`:\n",
    "```python\n",
    "task_result = result.get()\n",
    "```\n",
    "\n",
    "6. Once you have submitted all tasks, you can close the pool and wait for the worker processes to finish using the `close` and `join` methods:\n",
    "```python\n",
    "pool.close()\n",
    "pool.join()\n",
    "```\n",
    "The `close` method prevents any more tasks from being submitted, and the `join` method blocks the main process until all the worker processes have completed.\n",
    "\n",
    "Here's an example that demonstrates the above steps:\n",
    "\n",
    "```python\n",
    "import multiprocessing\n",
    "\n",
    "def worker_function(task):\n",
    "    # Perform the task here\n",
    "    result = task * 2\n",
    "    return result\n",
    "\n",
    "if __name__ == '__main__':\n",
    "    num_processes = 4\n",
    "    pool = multiprocessing.Pool(processes=num_processes)\n",
    "\n",
    "    tasks = [1, 2, 3, 4, 5]\n",
    "    results = []\n",
    "    \n",
    "    for task in tasks:\n",
    "        result = pool.apply_async(worker_function, (task,))\n",
    "        results.append(result)\n",
    "\n",
    "    pool.close()\n",
    "    pool.join()\n",
    "\n",
    "    for result in results:\n",
    "        task_result = result.get()\n",
    "        print(task_result)\n",
    "```\n",
    "\n",
    "In this example, we create a pool of 4 worker processes using `multiprocessing.Pool`. We submit tasks to the worker processes using `apply_async`, and then retrieve the results using `get`. Finally, we print the results obtained from each worker process."
   ]
  },
  {
   "cell_type": "markdown",
   "id": "fb74173d-0c43-4121-91bc-55516c4f4e4d",
   "metadata": {},
   "source": [
    "Q6"
   ]
  },
  {
   "cell_type": "code",
   "execution_count": 7,
   "id": "856a837a-ceef-4ad1-a5d7-9df66ac782e3",
   "metadata": {},
   "outputs": [
    {
     "name": "stdout",
     "output_type": "stream",
     "text": [
      "1\n",
      "2\n",
      "3\n",
      "4\n"
     ]
    }
   ],
   "source": [
    "import multiprocessing\n",
    "\n",
    "def print_number(number):\n",
    "    print(number)\n",
    "\n",
    "if __name__ == '__main__':\n",
    "    processes = []\n",
    "\n",
    "    for i in range(4):\n",
    "        number = i + 1\n",
    "        process = multiprocessing.Process(target=print_number, args=(number,))\n",
    "        processes.append(process)\n",
    "        process.start()\n",
    "\n",
    "    for process in processes:\n",
    "        process.join()\n"
   ]
  },
  {
   "cell_type": "code",
   "execution_count": null,
   "id": "3b3093ad-86a2-4177-87ec-7c482f2767a7",
   "metadata": {},
   "outputs": [],
   "source": []
  }
 ],
 "metadata": {
  "kernelspec": {
   "display_name": "Python 3 (ipykernel)",
   "language": "python",
   "name": "python3"
  },
  "language_info": {
   "codemirror_mode": {
    "name": "ipython",
    "version": 3
   },
   "file_extension": ".py",
   "mimetype": "text/x-python",
   "name": "python",
   "nbconvert_exporter": "python",
   "pygments_lexer": "ipython3",
   "version": "3.10.8"
  }
 },
 "nbformat": 4,
 "nbformat_minor": 5
}
