{
 "cells": [
  {
   "cell_type": "raw",
   "metadata": {},
   "source": [
    "Q-1 answer  \n",
    "\n",
    "web_scrapping:\n",
    "              Web scrapping is the idea of scrapping(collecting) a data ideally \n",
    "              from a web page. \n",
    "              \n",
    "              * It is used to to collect huge data from a certain website \n",
    "\n",
    "^ To get user rating or revies or user feedback it can be used.\n",
    "^ To analysis a data from a website it can be used.\n",
    "^ For Monitoring data.\n",
    "\n"
   ]
  },
  {
   "cell_type": "raw",
   "metadata": {},
   "source": [
    "Q-2 answer \n",
    "\n",
    "HTML Parsing. HTML parsing involves the use of JavaScript to target a linear or nested HTML page. ...\n",
    "DOM Parsing. ...\n",
    "Vertical Aggregation. ...\n",
    "XPath. ...\n",
    "Google Sheets. ...\n",
    "Rate Limit User Requests. ...\n",
    "Mitigate High-Volume Requesters with CAPTCHAs. ...\n",
    "Regularly Modify HTML Markup. \n",
    "\n"
   ]
  },
  {
   "cell_type": "raw",
   "metadata": {},
   "source": [
    "Q-3 answer \n",
    "\n",
    "Beautiful Soup is a Python package for parsing HTML and XML documents (including having malformed markup, i.e. non-closed tags, so named after tag soup). \n",
    "It creates a parse tree for parsed pages that can be used to extract data from HTML, which is useful for web scraping."
   ]
  },
  {
   "cell_type": "raw",
   "metadata": {},
   "source": [
    "Q-4 answer \n",
    "\n",
    "Flask is a lightweight framework to build websites. We'll use this to parse our collected data and display it as HTML in a new HTML file. \n",
    "The requests module allows us to send http requests to the website we want to scrape. The first line imports the Flask class and the render_template method from the flask library"
   ]
  },
  {
   "cell_type": "raw",
   "metadata": {},
   "source": [
    "Q-5 answer \n",
    "\n",
    " AWS Beanstalk\n",
    "Developers have to deal with enough headaches as it is. AWS Beanstalk was created to help developers manage website infrastructure. \n",
    "It's difficult for developers to switch from development to maintenance at the drop of a hat. \n",
    "Yet, AWS Beanstalk offers autoscaling to ensure automatic updates of new software. And, this service runs automatically. \n",
    "\n",
    "AWS Beanstalk really is a timesaver. It automates the setup, configuration, and provisioning of other AWS services such as EC2, RDS, and S3. Not to mention, the automated setup also helps to mitigate human error."
   ]
  }
 ],
 "metadata": {
  "kernelspec": {
   "display_name": "Python 3",
   "language": "python",
   "name": "python3"
  },
  "language_info": {
   "codemirror_mode": {
    "name": "ipython",
    "version": 3
   },
   "file_extension": ".py",
   "mimetype": "text/x-python",
   "name": "python",
   "nbconvert_exporter": "python",
   "pygments_lexer": "ipython3",
   "version": "3.10.9"
  },
  "orig_nbformat": 4
 },
 "nbformat": 4,
 "nbformat_minor": 2
}
