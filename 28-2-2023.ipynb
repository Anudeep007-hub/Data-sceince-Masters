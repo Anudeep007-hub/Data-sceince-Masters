{
 "cells": [
  {
   "cell_type": "markdown",
   "id": "4db40487-d4a8-485f-8ab1-84b4b7463a10",
   "metadata": {},
   "source": [
    "Q1"
   ]
  },
  {
   "cell_type": "code",
   "execution_count": 2,
   "id": "800985b2-a4ac-4795-b7f2-e55b0a5f9e4d",
   "metadata": {},
   "outputs": [
    {
     "name": "stdout",
     "output_type": "stream",
     "text": [
      "78718933113238978560\n"
     ]
    }
   ],
   "source": [
    "list1 = [1,2,3,4, [44,55,66, True], False, (34,56,78,89,34), {1,2,3,3,2,1}, {1:34, \"key2\": [55, 67, 78, 89], 4: (45,\n",
    "22, 61, 34)}, [56, 'data science'], 'Machine Learning']\n",
    "def product_of_numbers(lst):\n",
    "    flattened_list = []\n",
    "    for item in lst:\n",
    "        if type(item) == list or type(item) == tuple or type(item) == set:\n",
    "            flattened_list += list(filter(lambda x: type(x) == int or type(x) == float, item))\n",
    "        elif type(item) == dict:\n",
    "            for key, value in item.items():\n",
    "                if type(key) == int or type(key) == float:\n",
    "                    flattened_list.append(key)\n",
    "                if type(value) == int or type(value) == float:\n",
    "                    flattened_list.append(value)\n",
    "        elif type(item) == int or type(item) == float:\n",
    "            flattened_list.append(item)\n",
    "    product = 1\n",
    "    for num in flattened_list:\n",
    "        product *= num\n",
    "    return product\n",
    "\n",
    "print(product_of_numbers(list1))"
   ]
  },
  {
   "cell_type": "markdown",
   "id": "55c97298-601e-4179-9ca2-677f549e00ec",
   "metadata": {},
   "source": [
    "Q2"
   ]
  },
  {
   "cell_type": "code",
   "execution_count": 3,
   "id": "72a0485b-cf8d-4c97-bb96-49706c0eb53e",
   "metadata": {},
   "outputs": [
    {
     "name": "stdout",
     "output_type": "stream",
     "text": [
      "i$wznt$to$yexome$z$dztz$sxientist.\n"
     ]
    }
   ],
   "source": [
    "i_2 = \"I want to become a Data Scientist.\"\n",
    "i_2 = i_2.lower() \n",
    "new_string = \"\"\n",
    "for i in i_2:\n",
    "    if i == \"a\":\n",
    "        i_2 = i_2.replace(i,\"z\")\n",
    "    elif i == \"b\":\n",
    "        i_2 = i_2.replace(i,\"y\")\n",
    "    elif i == \"c\":\n",
    "        i_2 = i_2.replace(i,\"x\")\n",
    "    elif i == \" \":\n",
    "        i_2 = i_2.replace(i,\"$\") \n",
    "    else:\n",
    "        continue \n",
    "print(i_2)"
   ]
  },
  {
   "cell_type": "code",
   "execution_count": null,
   "id": "d5377db4-1366-4907-8636-f8cddfa6b0d3",
   "metadata": {},
   "outputs": [],
   "source": []
  }
 ],
 "metadata": {
  "kernelspec": {
   "display_name": "Python 3 (ipykernel)",
   "language": "python",
   "name": "python3"
  },
  "language_info": {
   "codemirror_mode": {
    "name": "ipython",
    "version": 3
   },
   "file_extension": ".py",
   "mimetype": "text/x-python",
   "name": "python",
   "nbconvert_exporter": "python",
   "pygments_lexer": "ipython3",
   "version": "3.10.8"
  }
 },
 "nbformat": 4,
 "nbformat_minor": 5
}
