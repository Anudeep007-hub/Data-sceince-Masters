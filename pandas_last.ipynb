{
 "cells": [
  {
   "cell_type": "markdown",
   "metadata": {},
   "source": [
    "Q-1"
   ]
  },
  {
   "cell_type": "code",
   "execution_count": null,
   "metadata": {},
   "outputs": [],
   "source": [
    "import pandas as pd \n",
    "course_name = [\"Data Science\", \"Machine Learning\", \"Big Data\", \"Data Engineer\"]\n",
    "duration = [2,3,6,4]\n",
    "df = pd.DataFrame(data = {\"course_name\" : course_name, \"duration\" : duration})"
   ]
  },
  {
   "cell_type": "code",
   "execution_count": null,
   "metadata": {},
   "outputs": [],
   "source": [
    "df.iloc[1] \n",
    "# iloc is used to print data present in the dataframe using integer indexing"
   ]
  },
  {
   "cell_type": "markdown",
   "metadata": {},
   "source": [
    "Q-2 \n",
    "loc: \n",
    "    loc is used to update/identify the row[s] by giving row name, by using column name or by using integer indexing.\n",
    "iloc:\n",
    "    iloc is used to identify/slicing the rows as only through integer values.\n"
   ]
  },
  {
   "cell_type": "code",
   "execution_count": null,
   "metadata": {},
   "outputs": [],
   "source": [
    "#Examples of extracting some sample data thorough loc function\n",
    "df.loc[df[\"course_name\"] == \"Machine Learning\"] \n"
   ]
  },
  {
   "cell_type": "code",
   "execution_count": null,
   "metadata": {},
   "outputs": [],
   "source": [
    "df.loc[2]"
   ]
  },
  {
   "cell_type": "code",
   "execution_count": null,
   "metadata": {},
   "outputs": [],
   "source": [
    "# using iloc \n",
    "df.iloc[2]"
   ]
  },
  {
   "cell_type": "code",
   "execution_count": null,
   "metadata": {},
   "outputs": [],
   "source": [
    "df.iloc[0:4:2]"
   ]
  },
  {
   "cell_type": "markdown",
   "metadata": {},
   "source": [
    "Q-3"
   ]
  },
  {
   "cell_type": "code",
   "execution_count": null,
   "metadata": {},
   "outputs": [],
   "source": [
    "new_df = df.reindex(index=[3,0,1,2]) \n",
    "new_df"
   ]
  },
  {
   "cell_type": "code",
   "execution_count": null,
   "metadata": {},
   "outputs": [],
   "source": [
    "new_df.loc[2]"
   ]
  },
  {
   "cell_type": "code",
   "execution_count": null,
   "metadata": {},
   "outputs": [],
   "source": [
    "new_df.iloc[2]"
   ]
  },
  {
   "cell_type": "markdown",
   "metadata": {},
   "source": [
    "After reindexing the dataframe we can observe that loc is using the new reindexed row integer values for indentification of rows. But, iloc method identifying the rows as by default row integer values"
   ]
  },
  {
   "cell_type": "markdown",
   "metadata": {},
   "source": [
    "Q-4"
   ]
  },
  {
   "cell_type": "code",
   "execution_count": null,
   "metadata": {},
   "outputs": [],
   "source": [
    "import pandas as pd\n",
    "import numpy as np\n",
    "columns = ['column_1', 'column_2', 'column_3', 'column_4', 'column_5', 'column_6']\n",
    "indices = [1,2,3,4,5,6]\n",
    "#Creating a dataframe:\n",
    "df1 = pd.DataFrame(np.random.rand(6,6), columns = columns, index = indices)"
   ]
  },
  {
   "cell_type": "code",
   "execution_count": null,
   "metadata": {},
   "outputs": [],
   "source": [
    "df1"
   ]
  },
  {
   "cell_type": "code",
   "execution_count": null,
   "metadata": {},
   "outputs": [],
   "source": [
    "df1.mean() \n",
    "# It represents mean of every column in that dataframe"
   ]
  },
  {
   "cell_type": "code",
   "execution_count": null,
   "metadata": {},
   "outputs": [],
   "source": [
    "df1[\"column_2\"].std() \n",
    "# It represents the standard deviation of second column in \n",
    "# dataframe"
   ]
  },
  {
   "cell_type": "markdown",
   "metadata": {},
   "source": [
    "Q-5"
   ]
  },
  {
   "cell_type": "code",
   "execution_count": null,
   "metadata": {},
   "outputs": [],
   "source": [
    "df1[\"column_2\"].iloc[1] = \"salaar\" \n",
    "# Replacing the value of second row of column_2 with \n",
    "# a string variable\n"
   ]
  },
  {
   "cell_type": "code",
   "execution_count": null,
   "metadata": {},
   "outputs": [],
   "source": [
    "df1[\"column_2\"].mean() \n",
    "# Here I am getting 'TypeError' because the mean operation \n",
    "# will work for either int or float type of variables but here, \n",
    "# we are passing string datatype, so it gives error."
   ]
  },
  {
   "cell_type": "markdown",
   "metadata": {},
   "source": [
    "Q-6"
   ]
  },
  {
   "cell_type": "markdown",
   "metadata": {},
   "source": [
    "Window functions are used to perform calculations across a set\n",
    "of rows with its predecessor rows.\n",
    "Here below are some showcases of examples"
   ]
  },
  {
   "cell_type": "code",
   "execution_count": null,
   "metadata": {},
   "outputs": [],
   "source": [
    "df1.rolling(window=2).mean()"
   ]
  },
  {
   "cell_type": "code",
   "execution_count": null,
   "metadata": {},
   "outputs": [],
   "source": [
    "df1.rolling(window=2).std()"
   ]
  },
  {
   "cell_type": "code",
   "execution_count": null,
   "metadata": {},
   "outputs": [],
   "source": [
    "sd = df1.groupby(\"column_1\") "
   ]
  },
  {
   "cell_type": "code",
   "execution_count": null,
   "metadata": {},
   "outputs": [],
   "source": [
    "print(sd)"
   ]
  },
  {
   "cell_type": "markdown",
   "metadata": {},
   "source": [
    "Q-7"
   ]
  },
  {
   "cell_type": "code",
   "execution_count": null,
   "metadata": {},
   "outputs": [],
   "source": [
    "import pandas as pd\n",
    "from datetime import datetime\n",
    "\n",
    "# Get the current date and time\n",
    "current_date = datetime.now()\n",
    "\n",
    "# Extract the month and year using pandas\n",
    "current_month_year = pd.to_datetime(current_date).strftime('%B %Y')\n",
    "\n",
    "# Print the result\n",
    "print(\"Present Month and Year:\", current_month_year)\n",
    "\n",
    "\n",
    "\n"
   ]
  },
  {
   "cell_type": "markdown",
   "metadata": {},
   "source": [
    "Q-8"
   ]
  },
  {
   "cell_type": "code",
   "execution_count": null,
   "metadata": {},
   "outputs": [],
   "source": [
    "from datetime import datetime, timedelta\n",
    "\n",
    "# Function to get user input for date\n",
    "def get_user_input():\n",
    "    while True:\n",
    "        try:\n",
    "            date_str = input(\"Enter a date in YYYY-MM-DD format: \")\n",
    "            date_obj = datetime.strptime(date_str, \"%Y-%m-%d\")\n",
    "            return date_obj\n",
    "        except ValueError:\n",
    "            print(\"Invalid date format. Please enter the date in the correct format.\")\n",
    "\n",
    "# Get user input for the first date\n",
    "print(\"Enter the first date:\")\n",
    "date1 = get_user_input()\n",
    "\n",
    "# Get user input for the second date\n",
    "print(\"\\nEnter the second date:\")\n",
    "date2 = get_user_input()\n",
    "\n",
    "# Calculate the difference between the two dates\n",
    "date_difference = date2 - date1\n",
    "\n",
    "# Extract days, hours, and minutes from the timedelta object\n",
    "days = date_difference.days\n",
    "hours, remainder = divmod(date_difference.seconds, 3600)\n",
    "minutes, _ = divmod(remainder, 60)\n",
    "\n",
    "# Display the result\n",
    "print(\"\\nDifference between the two dates:\")\n",
    "print(f\"Days: {days} days\")\n",
    "print(f\"Hours: {hours} hours\")\n",
    "print(f\"Minutes: {minutes} minutes\")\n"
   ]
  },
  {
   "cell_type": "markdown",
   "metadata": {},
   "source": [
    "Q-9\n"
   ]
  },
  {
   "cell_type": "code",
   "execution_count": null,
   "metadata": {},
   "outputs": [],
   "source": [
    "import pandas as pd\n",
    "\n",
    "# Function to get user input for file path, column name, and category order\n",
    "def get_user_input():\n",
    "    file_path = input(\"Enter the path to the CSV file: \")\n",
    "    column_name = input(\"Enter the column name to convert to categorical data type: \")\n",
    "    category_order = input(\"Enter the category order (comma-separated, e.g., cat1,cat2,cat3): \").split(',')\n",
    "    return file_path, column_name, category_order\n",
    "\n",
    "# Read CSV file\n",
    "def read_and_convert_to_categorical(file_path, column_name, category_order):\n",
    "    # Read CSV file into a DataFrame\n",
    "    df = pd.read_csv(file_path)\n",
    "\n",
    "    # Convert the specified column to categorical data type with the specified order\n",
    "    df[column_name] = pd.Categorical(df[column_name], categories=category_order, ordered=True)\n",
    "\n",
    "    # Display the sorted data\n",
    "    sorted_data = df.sort_values(by=[column_name])\n",
    "    print(\"\\nSorted Data:\")\n",
    "    print(sorted_data)\n",
    "\n",
    "# Get user input\n",
    "file_path, column_name, category_order = get_user_input()\n",
    "\n",
    "# Read CSV file and convert specified column to categorical data type\n",
    "read_and_convert_to_categorical(file_path, column_name, category_order)\n"
   ]
  },
  {
   "cell_type": "markdown",
   "metadata": {},
   "source": [
    "Q-10"
   ]
  },
  {
   "cell_type": "code",
   "execution_count": null,
   "metadata": {},
   "outputs": [],
   "source": [
    "import pandas as pd\n",
    "import matplotlib.pyplot as plt\n",
    "\n",
    "# Function to get user input for file path\n",
    "def get_user_input():\n",
    "    file_path = input(\"Enter the path to the CSV file: \")\n",
    "    return file_path\n",
    "\n",
    "# Function to read CSV file and create a stacked bar chart\n",
    "def visualize_sales_data(file_path):\n",
    "    # Read CSV file into a DataFrame\n",
    "    df = pd.read_csv(file_path)\n",
    "\n",
    "    # Assuming the CSV file has columns: 'Date', 'ProductCategory', and 'Sales'\n",
    "    \n",
    "    # Convert 'Date' column to datetime type\n",
    "    df['Date'] = pd.to_datetime(df['Date'])\n",
    "    \n",
    "    # Pivot the DataFrame to create a table suitable for a stacked bar chart\n",
    "    pivot_df = df.pivot_table(values='Sales', index='Date', columns='ProductCategory', aggfunc='sum', fill_value=0)\n",
    "\n",
    "    # Plot the stacked bar chart\n",
    "    pivot_df.plot(kind='bar', stacked=True, figsize=(10, 6))\n",
    "    \n",
    "    # Customize the chart\n",
    "    plt.title('Sales of Each Product Category Over Time')\n",
    "    plt.xlabel('Date')\n",
    "    plt.ylabel('Sales')\n",
    "    plt.legend(title='Product Category', bbox_to_anchor=(1.05, 1), loc='upper left')\n",
    "    \n",
    "    # Show the chart\n",
    "    plt.show()\n",
    "\n",
    "# Get user input\n",
    "file_path = get_user_input()\n",
    "\n",
    "# Visualize sales data using a stacked bar chart\n",
    "visualize_sales_data(file_path)\n"
   ]
  },
  {
   "cell_type": "markdown",
   "metadata": {},
   "source": [
    "Q-11"
   ]
  },
  {
   "cell_type": "code",
   "execution_count": null,
   "metadata": {},
   "outputs": [],
   "source": [
    "import pandas as pd\n",
    "\n",
    "# Function to get user input for file path\n",
    "def get_user_input():\n",
    "    file_path = input(\"Enter the path to the CSV file: \")\n",
    "    return file_path\n",
    "\n",
    "# Function to read CSV file and calculate mean, median, and mode\n",
    "def analyze_student_scores(file_path):\n",
    "    # Read CSV file into a DataFrame\n",
    "    df = pd.read_csv(file_path)\n",
    "\n",
    "    # Extract test scores from the DataFrame\n",
    "    test_scores = df['TestScore']\n",
    "\n",
    "    # Calculate mean, median, and mode\n",
    "    mean_score = test_scores.mean()\n",
    "    median_score = test_scores.median()\n",
    "    mode_score = test_scores.mode().iloc[0]  # Mode may have multiple values, so taking the first one\n",
    "    \n",
    "    # Create a summary DataFrame\n",
    "    summary_df = pd.DataFrame({\n",
    "        'Statistic': ['Mean', 'Median', 'Mode'],\n",
    "        'Test Score': [mean_score, median_score, mode_score]\n",
    "    })\n",
    "\n",
    "    # Display the results\n",
    "    print(\"\\nSummary of Test Scores:\")\n",
    "    print(summary_df)\n",
    "\n",
    "# Get user input\n",
    "file_path = get_user_input()\n",
    "\n",
    "# Analyze student scores and display results\n",
    "analyze_student_scores(file_path)\n"
   ]
  }
 ],
 "metadata": {
  "kernelspec": {
   "display_name": "venv",
   "language": "python",
   "name": "python3"
  },
  "language_info": {
   "codemirror_mode": {
    "name": "ipython",
    "version": 3
   },
   "file_extension": ".py",
   "mimetype": "text/x-python",
   "name": "python",
   "nbconvert_exporter": "python",
   "pygments_lexer": "ipython3",
   "version": "3.10.13"
  }
 },
 "nbformat": 4,
 "nbformat_minor": 2
}
