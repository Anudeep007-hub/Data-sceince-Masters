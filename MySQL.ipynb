{
 "cells": [
  {
   "cell_type": "markdown",
   "id": "606ca2fe-46fa-4ef2-abd2-407bb8b003db",
   "metadata": {},
   "source": [
    "Q1"
   ]
  },
  {
   "cell_type": "raw",
   "id": "d73f8afd-acdf-42c4-bb80-074957941eee",
   "metadata": {},
   "source": [
    "Database:\n",
    "         Database is used to store the information by means of a table or any other type of format. \n",
    "SQL:\n",
    "    SQL(Structured Query Language) is a programming language used to store tables files and some structured type of information in database \n",
    "NoSQL:\n",
    "      NoSQL is used to store multiple type of information like images, videos, gifs, etc along with textfiles, tables.  "
   ]
  },
  {
   "cell_type": "markdown",
   "id": "8eb4decf-3a89-45d5-99b8-7879ef836af0",
   "metadata": {},
   "source": [
    "Q2"
   ]
  },
  {
   "cell_type": "raw",
   "id": "d7fb0463-16fa-4d5f-8a24-b1ec40d332b3",
   "metadata": {},
   "source": [
    "DDL stands for Data Definition Language, and it is a subset of SQL (Structured Query Language) used to define and manage the structure of a database. DDL statements are used to create, modify, and delete database objects such as tables, indexes, and views.\n",
    "\n",
    "Here are explanations and examples of the commonly used DDL statements:"
   ]
  },
  {
   "cell_type": "raw",
   "id": "8e43e0a0-8d7a-4531-bfdf-60dd21ad5979",
   "metadata": {},
   "source": [
    "CREATE: The CREATE statement is used to create new database objects such as tables, views, indexes, or even entire databases. It defines the structure of the object along with its attributes. Here's an example of creating a table:"
   ]
  },
  {
   "cell_type": "code",
   "execution_count": null,
   "id": "31afb77c-d29f-4320-aa25-cfe35b547168",
   "metadata": {},
   "outputs": [],
   "source": [
    "CREATE TABLE employees (\n",
    "    id INT PRIMARY KEY,\n",
    "    name VARCHAR(50),\n",
    "    age INT,\n",
    "    salary DECIMAL(10,2)\n",
    ");\n"
   ]
  },
  {
   "cell_type": "raw",
   "id": "1171a41f-a73b-4656-9d99-96e3fc086ca4",
   "metadata": {},
   "source": [
    "DROP: The DROP statement is used to delete existing database objects such as tables, views, or indexes. It permanently removes the object and all its associated data. Here's an example of dropping a table:\n",
    "\n",
    "# DROP TABLE employees;\n"
   ]
  },
  {
   "cell_type": "raw",
   "id": "30a0d0e8-8577-4dc9-ad95-844ddf469156",
   "metadata": {},
   "source": [
    "ALTER: The ALTER statement is used to modify the structure of an existing database object. It allows you to add, modify, or delete columns, constraints, or other attributes of the object. Here's an example of altering a table:"
   ]
  },
  {
   "cell_type": "code",
   "execution_count": null,
   "id": "a7120bf7-51d9-4c75-b44c-46fd232cecd4",
   "metadata": {},
   "outputs": [],
   "source": [
    "ALTER TABLE employees\n",
    "ADD COLUMN email VARCHAR(100);\n"
   ]
  },
  {
   "cell_type": "raw",
   "id": "8cb2a89c-bdb4-44c4-916e-8fdf8b12a7e2",
   "metadata": {},
   "source": [
    "TRUNCATE: The TRUNCATE statement is used to delete all the data from a table while keeping its structure intact. Unlike the DROP statement, it does not remove the table itself. Here's an example of truncating a table:"
   ]
  },
  {
   "cell_type": "raw",
   "id": "44db5325-4616-44f5-a491-ee954802aed4",
   "metadata": {},
   "source": [
    "TRUNCATE TABLE employees;\n"
   ]
  },
  {
   "cell_type": "markdown",
   "id": "49557068-be20-4a96-86e2-241732ce9644",
   "metadata": {},
   "source": [
    "Q3"
   ]
  },
  {
   "cell_type": "raw",
   "id": "a4b3f61e-8c56-4c73-ae43-dded28df6461",
   "metadata": {},
   "source": [
    "The structured query language (SQL) commands deal with the manipulation of data present in the database that belongs to the DML or Data Manipulation Language. This includes most of the SQL statements.\n",
    "\n",
    "Examples of DML\n",
    "The examples of DML in the Database Management System (DBMS) are as follows −\n",
    "\n",
    "SELECT − Retrieve data from the database.\n",
    "\n",
    "INSERT − Insert data into a table.\n",
    "\n",
    "UPDATE − Update existing data within a table.\n",
    "\n",
    "DELETE − Delete records from a database table.\n",
    "\n",
    "Syntax for DML Commands\n",
    "The syntax for the DML commands are as follows −\n",
    "\n",
    "INSERT\n",
    "Insert command is used to insert data into a table.\n",
    "\n",
    "The syntax for insert command is as follows −\n",
    "\n",
    "Syntax\n",
    "\n",
    "Insert into <table_name> (column list) values (column values);\n",
    "For example, if we want to insert multiple rows to the Employee table, we can use the following command −\n",
    "\n",
    "Example\n",
    "\n",
    "Insert into Employee(Emp_id, Emp_name) values (001, “ bhanu”);\n",
    "Insert into Employee(Emp_id, Emp_name) values (002, “ hari”);\n",
    "Insert into Employee(Emp_id, Emp_name) values (003, “ bob”);\n",
    "SELECT\n",
    "Select command is used to retrieve data from the database.\n",
    "\n",
    "The syntax for the select command is as follows −\n",
    "\n",
    "Syntax\n",
    "\n",
    "SELECT * from <table_name>;\n",
    "For example, if we want to select all rows from the Employee database, we can use the following command −\n",
    "\n",
    "Example\n",
    "\n",
    "SELECT * from Employee;\n",
    "DELETE\n",
    "Delete command is used to delete records from a database table.\n",
    "\n",
    "The syntax for the delete command is as follows -\n",
    "\n",
    "Syntax\n",
    "\n",
    " Delete from <table_name>WHERE condition;\n",
    "For example, if we want to delete an entire row of employee id 002, we can use the following command −\n",
    "\n",
    "Example\n",
    "\n",
    "DELETE from Employee WHERE Emp_id=002;\n",
    "UPDATE\n",
    "Update command is used to update existing data within a table.\n",
    "\n",
    "The syntax for the update command is as follows -\n",
    "\n",
    "Syntax\n",
    "\n",
    "UPDATE <table_name> SET column_number =value_number WHERE condition;\n",
    "For example, if we want to update the name of the employee having the employee id 001, we can use the command given below −\n",
    "\n",
    "Example\n",
    "\n",
    "UPDATE Employee SET Emp_name= Ram WHERE Emp_id= 001;"
   ]
  },
  {
   "cell_type": "markdown",
   "id": "30827cdf-8522-4663-bff4-f991e43b1ae7",
   "metadata": {},
   "source": [
    "Q4"
   ]
  },
  {
   "cell_type": "raw",
   "id": "b2ebd93c-743d-4f63-b703-754b60dae7dc",
   "metadata": {},
   "source": [
    "Query languages, often known as DQLs or Data Query Languages, are computer languages that are used to make various queries in information systems and databases. The Structured Query Language (SQL) is a well-known example. DQL statements are used to query the data contained in schema objects."
   ]
  },
  {
   "cell_type": "code",
   "execution_count": null,
   "id": "a80c8ea1-61a0-46cd-898b-638dbaef96ba",
   "metadata": {},
   "outputs": [],
   "source": [
    "CREATE TABLE employees (\n",
    "    id INT PRIMARY KEY,\n",
    "    name VARCHAR(50),\n",
    "    age INT,\n",
    "    salary DECIMAL(10,2)\n",
    ");\n",
    "SELECT * FROM employees;\n",
    "SELECT name, salary FROM employees;\n",
    "SELECT * FROM employees WHERE salary > 5000;\n"
   ]
  },
  {
   "cell_type": "markdown",
   "id": "eee513da-6fab-4055-a468-a7ef09018379",
   "metadata": {},
   "source": [
    "Q5"
   ]
  },
  {
   "cell_type": "raw",
   "id": "d4ea2920-6dce-407b-b31f-85e06f70471c",
   "metadata": {},
   "source": [
    "A primary key is used to ensure data in the specific column is unique. A foreign key is a column or group of columns in a relational database table that provides a link between data in two tables"
   ]
  },
  {
   "cell_type": "markdown",
   "id": "fe482aa3-34f4-4796-b7dc-8ad7499af39e",
   "metadata": {},
   "source": [
    "Q6"
   ]
  },
  {
   "cell_type": "code",
   "execution_count": null,
   "id": "7c9a5405-92ff-4dc8-bf93-2d8c407d10bf",
   "metadata": {},
   "outputs": [],
   "source": [
    "import mysql.connector\n",
    "\n",
    "# Establishing the connection\n",
    "connection = mysql.connector.connect(\n",
    "    host=\"your_host\",\n",
    "    user=\"your_username\",\n",
    "    password=\"your_password\",\n",
    "    database=\"your_database\"\n",
    ")\n",
    "\n",
    "# Creating a cursor object\n",
    "cursor = connection.cursor()\n",
    "\n",
    "# Executing a query\n",
    "query = \"SELECT * FROM your_table\"\n",
    "cursor.execute(query)\n",
    "\n",
    "# Fetching the results\n",
    "results = cursor.fetchall()\n",
    "for row in results:\n",
    "    print(row)\n",
    "\n",
    "# Closing the cursor and connection\n",
    "cursor.close()\n",
    "connection.close()\n",
    "\"\"\"\n",
    "cursor(): The cursor() method creates a cursor object that allows you to execute SQL statements and fetch results from the database. It is invoked on the database connection object.\n",
    "\n",
    "execute(): The execute() method is used to execute an SQL statement or query. It is invoked on the cursor object. You pass the SQL query as a string parameter to the execute() method.\n",
    "\"\"\""
   ]
  },
  {
   "cell_type": "markdown",
   "id": "3526eb78-cd04-4469-9b5e-cf755309383b",
   "metadata": {},
   "source": [
    "Q7"
   ]
  },
  {
   "cell_type": "raw",
   "id": "ac62387d-8e9d-4af0-90bf-b6e730ea8a2d",
   "metadata": {},
   "source": [
    "In a typical SQL query, the clauses are executed in the following order:\n",
    "\n",
    "1. FROM: The FROM clause specifies the table or tables from which the data is retrieved. It is executed first, identifying the data source.\n",
    "\n",
    "2. WHERE: The WHERE clause is used to filter the data based on specified conditions. It is executed after the FROM clause, narrowing down the result set.\n",
    "\n",
    "3. GROUP BY: The GROUP BY clause is used to group the rows in the result set based on one or more columns. It is executed after the WHERE clause and before the HAVING clause.\n",
    "\n",
    "4. HAVING: The HAVING clause is used to filter the grouped data based on specified conditions. It is executed after the GROUP BY clause, further refining the result set.\n",
    "\n",
    "5. SELECT: The SELECT clause is used to specify the columns to be retrieved from the result set. It is executed after the previous clauses, generating the final set of columns to be returned.\n",
    "\n",
    "6. ORDER BY: The ORDER BY clause is used to sort the result set based on one or more columns. It is executed after the SELECT clause, arranging the rows in the desired order.\n",
    "\n",
    "7. LIMIT/OFFSET: The LIMIT and OFFSET clauses are used to restrict the number of rows returned and specify the starting point for the result set. They are executed after all the previous clauses, finalizing the result set.\n",
    "\n",
    "It's important to note that some clauses, such as GROUP BY, HAVING, and ORDER BY, may not be present in every SQL query. The clauses are executed sequentially, with each clause operating on the result of the previous clause, except for the SELECT clause, which specifies the final columns to be returned."
   ]
  }
 ],
 "metadata": {
  "kernelspec": {
   "display_name": "Python 3 (ipykernel)",
   "language": "python",
   "name": "python3"
  },
  "language_info": {
   "codemirror_mode": {
    "name": "ipython",
    "version": 3
   },
   "file_extension": ".py",
   "mimetype": "text/x-python",
   "name": "python",
   "nbconvert_exporter": "python",
   "pygments_lexer": "ipython3",
   "version": "3.10.8"
  }
 },
 "nbformat": 4,
 "nbformat_minor": 5
}
