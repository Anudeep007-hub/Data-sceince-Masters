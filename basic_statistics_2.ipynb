{
 "cells": [
  {
   "cell_type": "markdown",
   "metadata": {},
   "source": [
    "Q-1"
   ]
  },
  {
   "cell_type": "markdown",
   "metadata": {},
   "source": [
    "Mean, Mode and Median are the three measures of central tendency."
   ]
  },
  {
   "cell_type": "markdown",
   "metadata": {},
   "source": [
    "Q-2"
   ]
  },
  {
   "cell_type": "markdown",
   "metadata": {},
   "source": [
    "Mean:- \n",
    "    Mean in simple words is put as \"average of the data set\". i.e., summation of elements divided by number of elements\n",
    "\n",
    "Mode:- \n",
    "    Mode is the highest frequent occured elements[s] \n",
    "\n",
    "Median:- \n",
    "    Median is the middle element of average of middle two elements in case of even number of observations of a sorted set"
   ]
  },
  {
   "cell_type": "markdown",
   "metadata": {},
   "source": [
    "Q-3"
   ]
  },
  {
   "cell_type": "code",
   "execution_count": 16,
   "metadata": {},
   "outputs": [
    {
     "name": "stdout",
     "output_type": "stream",
     "text": [
      "Mean:  177.01875\n",
      "Median:  177.0\n",
      "Mode:  178\n"
     ]
    }
   ],
   "source": [
    "import statistics as sta\n",
    "import scipy.stats as sts\n",
    "\n",
    "q3 = [178,177,176,177,178.2,178,175,179,180,175,178.9,176.2,177,172.5,178,176.5] \n",
    "\n",
    "print(\"Mean: \",sta.mean(q3))\n",
    "print(\"Median: \", sta.median(q3))\n",
    "print(\"Mode: \", sta.mode(q3))\n"
   ]
  },
  {
   "cell_type": "markdown",
   "metadata": {},
   "source": [
    "Q-4"
   ]
  },
  {
   "cell_type": "code",
   "execution_count": 17,
   "metadata": {},
   "outputs": [
    {
     "name": "stdout",
     "output_type": "stream",
     "text": [
      "staandard deviation:  1.8472389305844188\n"
     ]
    }
   ],
   "source": [
    "import statistics as sta\n",
    "\n",
    "q4 = [178,177,176,177,178.2,178,175,179,180,175,178.9,176.2,177,172.5,178,176.5]\n",
    "\n",
    "print(\"staandard deviation: \", sta.stdev(q4))"
   ]
  },
  {
   "cell_type": "markdown",
   "metadata": {},
   "source": [
    "Q-5"
   ]
  },
  {
   "cell_type": "markdown",
   "metadata": {},
   "source": [
    "Measures of dispersion, such as range, variance, and standard deviation, provide insights into the spread or variability of a dataset. They quantify how much individual data points differ from the central tendency, giving a sense of how \"spread out\" the values are. Here's how each measure is used and an example to illustrate:\n",
    "\n",
    "1. **Range:**\n",
    "   - *Description:* The range is the simplest measure of dispersion and is calculated as the difference between the maximum and minimum values in a dataset.\n",
    "   - *Use:* It provides a quick indication of the spread of the data. However, it is sensitive to extreme values and may not be a robust measure.\n",
    "   - *Example:* Consider two datasets: Dataset A with values [5, 10, 15, 20, 25] and Dataset B with values [2, 8, 15, 22, 30]. Both datasets have the same range of 20, but Dataset B has a wider spread of values.\n",
    "\n",
    "2. **Variance:**\n",
    "   - *Description:* Variance measures the average squared deviation of each data point from the mean. It is calculated by summing the squared differences between each data point and the mean, then dividing by the number of data points.\n",
    "   - *Use:* It provides a more comprehensive measure of the spread of data than the range. However, it is in squared units and can be sensitive to outliers.\n",
    "   - *Example:* Using the same datasets A and B, if the mean of Dataset A is 15 and Dataset B is 15.4, the variance of Dataset A might be smaller than that of Dataset B, indicating a more concentrated distribution.\n",
    "\n",
    "3. **Standard Deviation:**\n",
    "   - *Description:* The standard deviation is the square root of the variance. It provides a measure of the average distance between each data point and the mean.\n",
    "   - *Use:* Like variance, it offers a comprehensive measure of spread, but it is in the original units of the data.\n",
    "   - *Example:* If the standard deviation of Dataset A is 5 and Dataset B is 7, it indicates that the values in Dataset B are more dispersed from the mean compared to Dataset A.\n",
    "\n",
    "**Example:**\n",
    "\n",
    "Consider exam scores for two classes:\n",
    "\n",
    "- Class X: [75, 80, 85, 90, 95]\n",
    "- Class Y: [60, 70, 85, 95, 100]\n",
    "\n",
    "- **Range:**\n",
    "  - Class X: Range = 20 (95 - 75)\n",
    "  - Class Y: Range = 40 (100 - 60)\n",
    "\n",
    "- **Variance and Standard Deviation:**\n",
    "  - Class X: Suppose the mean is 85, then variance might be calculated as [(75-85)² + (80-85)² + ...] / 5. The standard deviation is the square root of the variance.\n",
    "  - Class Y: Similar calculations for variance and standard deviation.\n",
    "\n",
    "In this example, Class Y has a larger range, indicating more spread in scores. The variance and standard deviation would provide more detailed information about the extent of variability in each class."
   ]
  },
  {
   "cell_type": "markdown",
   "metadata": {},
   "source": [
    "Q-6"
   ]
  },
  {
   "cell_type": "markdown",
   "metadata": {},
   "source": [
    "A Venn diagram is a visual representation that illustrates the relationships and commonalities between different sets or groups. It is composed of circles, each representing a set, and the overlapping areas depict the elements shared between the sets. Venn diagrams are widely used in various fields to convey logical relationships and help visualize the intersection and differences between different groups.\n",
    "\n",
    "Key components of a Venn diagram include:\n",
    "\n",
    "1. **Circles:**\n",
    "   - Each circle in the diagram represents a set. The size of the circles is not necessarily proportional to the size of the sets they represent.\n",
    "\n",
    "2. **Overlap:**\n",
    "   - Overlapping regions between circles represent the elements that are common to the sets they connect. The extent of the overlap reflects the degree of intersection between sets.\n",
    "\n",
    "3. **Non-overlapping Areas:**\n",
    "   - The areas within individual circles that do not overlap with other circles represent elements unique to each set.\n",
    "\n",
    "Venn diagrams can be used to represent various logical relationships, including intersections, unions, differences, and complements between sets. The number of circles in a Venn diagram depends on the number of sets being compared. Common types include:\n",
    "\n",
    "- **Two-set Venn diagram:** Represents the relationship between two sets.\n",
    "- **Three-set Venn diagram:** Represents the relationship between three sets.\n",
    "- **Multi-set Venn diagram:** Represents the relationship between more than three sets.\n",
    "\n",
    "**Example:**\n",
    "Consider two sets, A and B, where:\n",
    "\n",
    "- Set A = {1, 2, 3, 4, 5}\n",
    "- Set B = {3, 4, 5, 6, 7}\n",
    "\n",
    "A Venn diagram for these sets would have two circles, one for each set. The overlap would include the common elements {3, 4, 5}, and the non-overlapping areas would represent the unique elements in each set ({1, 2} in A and {6, 7} in B). The diagram visually illustrates the relationship between the sets and the shared elements."
   ]
  },
  {
   "cell_type": "markdown",
   "metadata": {},
   "source": [
    "Q-7"
   ]
  },
  {
   "cell_type": "code",
   "execution_count": 18,
   "metadata": {},
   "outputs": [
    {
     "data": {
      "text/plain": [
       "Text(0.5, 1.0, 'Venn Diagram - Intersection and Union')"
      ]
     },
     "execution_count": 18,
     "metadata": {},
     "output_type": "execute_result"
    },
    {
     "data": {
      "image/png": "[encoded data removed]",
      "text/plain": [
       "<Figure size 640x480 with 1 Axes>"
      ]
     },
     "metadata": {},
     "output_type": "display_data"
    }
   ],
   "source": [
    "import matplotlib_venn as venn\n",
    "import matplotlib.pyplot as plt\n",
    "A = {2,3,4,5,6,7}\n",
    "B = {0,2,6,8,10}\n",
    "union = A.union(B)\n",
    "intersection = A.intersection(B)\n",
    "venn.venn2(subsets=(len(A-intersection), len(B-intersection), len(intersection)), set_labels=(A,B))\n",
    "plt.title(\"Venn Diagram - Intersection and Union\")\n"
   ]
  },
  {
   "cell_type": "markdown",
   "metadata": {},
   "source": [
    "Q-8"
   ]
  },
  {
   "cell_type": "markdown",
   "metadata": {},
   "source": [
    "Skewness is a statistical measure that describes the asymmetry or lack of symmetry in a distribution of data. It indicates whether the data is skewed to the left (negatively skewed), skewed to the right (positively skewed), or approximately symmetric.\n",
    "\n",
    "- **Negatively Skewed (Left Skew):** In a negatively skewed distribution, the tail on the left side is longer or fatter than the right side. The majority of the data points are concentrated on the right side of the distribution, and the mean is typically less than the median.\n",
    "\n",
    "- **Positively Skewed (Right Skew):** In a positively skewed distribution, the tail on the right side is longer or fatter than the left side. Most data points are concentrated on the left side, and the mean is typically greater than the median.\n",
    "\n",
    "- **Symmetric:** In a symmetric distribution, the two sides of the distribution are mirror images of each other. The mean and median are roughly equal, and there is no skewness.\n",
    "\n",
    "Skewness is often quantified using a skewness coefficient. The skewness coefficient (usually denoted as γ or skewness) is a measure of the asymmetry of a distribution. It can be calculated using the following formula:\n",
    "\n",
    "\n",
    "\n",
    "The skewness coefficient is positive for positively skewed distributions, negative for negatively skewed distributions, and close to zero for approximately symmetric distributions.\n",
    "\n",
    "Understanding skewness is important in data analysis because it provides insights into the shape and characteristics of a distribution. It helps in identifying departures from normality and can impact the choice of statistical methods and models for analysis."
   ]
  },
  {
   "cell_type": "markdown",
   "metadata": {},
   "source": [
    "Q-9"
   ]
  },
  {
   "cell_type": "markdown",
   "metadata": {},
   "source": [
    "In a right-skewed distribution, the tail on the right side is longer or fatter than the left side. This means that there are more data points concentrated on the left side, leading to a distribution where the majority of values are smaller, and a few larger values extend the right tail.\n",
    "\n",
    "In a right-skewed distribution:\n",
    "\n",
    "1. **Mean:** The mean is typically greater than the median.\n",
    "2. **Median:** The median is less than the mean.\n",
    "\n",
    "This relationship is a general characteristic of right-skewed distributions. The presence of a few larger values in the right tail pulls the mean to the right of the median. The mean is influenced by extreme values, while the median is less affected by outliers and represents the middle value of the dataset.\n",
    "\n",
    "To summarize:\n",
    "- In a right-skewed distribution, the mean is pulled towards the right by the presence of larger values.\n",
    "- The median is generally smaller than the mean in a right-skewed distribution.\n",
    "\n",
    "It's important to note that skewness provides information about the shape of the distribution, and the actual positions of the mean and median will depend on the specific values in the dataset."
   ]
  },
  {
   "cell_type": "markdown",
   "metadata": {},
   "source": [
    "Q-10"
   ]
  },
  {
   "cell_type": "markdown",
   "metadata": {},
   "source": [
    "**Covariance:**\n",
    "\n",
    "Covariance is a measure that describes the extent to which two variables change together. It measures the degree of joint variability between two random variables. A positive covariance indicates that as one variable increases, the other tends to increase, and vice versa for negative covariance. However, covariance is sensitive to the scale of the variables, and its value is not standardized.\n",
    "\n",
    "\n",
    "\n",
    "**Correlation:**\n",
    "\n",
    "Correlation is a standardized measure that quantifies the strength and direction of a linear relationship between two variables. Unlike covariance, correlation is dimensionless and ranges from -1 to 1. A correlation of 1 indicates a perfect positive linear relationship, -1 indicates a perfect negative linear relationship, and 0 indicates no linear relationship.\n",
    "\n",
    "\n",
    "\n",
    "\n",
    "**Differences:**\n",
    "\n",
    "1. **Scale Sensitivity:**\n",
    "   - Covariance is sensitive to the scale of the variables, and its value is not standardized. It can take any value, positive or negative.\n",
    "   - Correlation is standardized and always falls between -1 and 1, making it easier to interpret.\n",
    "\n",
    "2. **Interpretation:**\n",
    "   - Covariance doesn't provide a clear measure of the strength and direction of the relationship because it is not standardized.\n",
    "   - Correlation provides a standardized measure that explicitly indicates the strength and direction of a linear relationship.\n",
    "\n",
    "**Use in Statistical Analysis:**\n",
    "\n",
    "- **Covariance:** Covariance is used to understand the direction of the linear relationship between two variables. However, it has limitations due to its sensitivity to scale, making interpretation challenging.\n",
    "\n",
    "- **Correlation:** Correlation is widely used in statistical analysis to assess the strength and direction of the linear relationship between two variables. It is particularly useful because it is standardized, making it easier to compare relationships across different datasets. Pearson correlation is commonly used for linear relationships, but other correlation coefficients, like Spearman's rank correlation, may be used for non-linear relationships. Correlation is a fundamental tool in regression analysis, time-series analysis, and other statistical applications."
   ]
  },
  {
   "cell_type": "markdown",
   "metadata": {},
   "source": [
    "Q-11"
   ]
  },
  {
   "cell_type": "markdown",
   "metadata": {},
   "source": [
    "The sample mean, X-bar is calculated as the sum of all individual values in a dataset divided by the number of observations in that dataset. The formula for calculating the sample mean is:\n",
    "\n",
    "\n",
    "\n",
    "Let's go through an example to illustrate the calculation of the sample mean:\n",
    "\n",
    "Example dataset: (3, 6, 8, 11, 15)\n",
    "\n",
    "1. Sum all the values in the dataset: (3 + 6 + 8 + 11 + 15 = 43)\n",
    "2. Count the number of observations: (n = 5)\n",
    "3. Calculate the sample mean using the formula:\n",
    "\n",
    "\n",
    "So, for the given dataset, the sample mean is 8.6. This represents the average value of the observations in the dataset."
   ]
  },
  {
   "cell_type": "markdown",
   "metadata": {},
   "source": [
    "Q-12"
   ]
  },
  {
   "cell_type": "markdown",
   "metadata": {},
   "source": [
    "For a normal distribution, three common measures of central tendency—mean, median, and mode—have an interesting relationship:\n",
    "\n",
    "1. **Mean (μ):**\n",
    "   - In a normal distribution, the mean is located at the center of the distribution. It is the balancing point where the distribution is symmetrically divided into two equal halves. The mean is equal to the median in a perfectly normal distribution.\n",
    "\n",
    "2. **Median:**\n",
    "   - In a perfectly normal distribution, the median is also located at the center, and it is equal to the mean. Normal distributions are symmetric, so the values to the left and right of the median are equally balanced.\n",
    "\n",
    "3. **Mode:**\n",
    "   - In a normal distribution, the mode is at the peak or center of the distribution. In a perfectly normal distribution, all measures of central tendency (mean, median, and mode) coincide at the center of the distribution.\n",
    "\n",
    "In summary, for a truly normal distribution:\n",
    "\n",
    "MEAN = MEDIAN = MODE\n",
    "\n",
    "It's important to note that this relationship holds for a perfectly normal distribution. In real-world scenarios, data may exhibit slight deviations from perfect normality, and the equality of mean, median, and mode may not hold precisely. However, in practice, if a distribution is approximately normal, the mean, median, and mode are still close to each other and provide a central tendency that can be considered representative of the distribution."
   ]
  },
  {
   "cell_type": "markdown",
   "metadata": {},
   "source": [
    "Q-13"
   ]
  },
  {
   "cell_type": "markdown",
   "metadata": {},
   "source": [
    "Covariance and correlation are both measures that describe the relationship between two variables, but they have key differences in terms of scale and interpretation.\n",
    "\n",
    "**Covariance:**\n",
    "\n",
    "- **Definition:** Covariance measures the degree of joint variability between two random variables. It indicates whether an increase in one variable is associated with an increase or decrease in another variable.\n",
    "  \n",
    "\n",
    "\n",
    "- **Scale:** Covariance is not standardized and depends on the scales of the variables. Its value can be positive, negative, or zero, but the magnitude is not easily interpretable.\n",
    "\n",
    "**Correlation:**\n",
    "\n",
    "- **Definition:** Correlation is a standardized measure that quantifies the strength and direction of a linear relationship between two variables. It is a dimensionless quantity that ranges from -1 to 1.\n",
    "\n",
    "\n",
    "\n",
    "- **Scale:** Correlation is standardized, making it easier to interpret. A correlation of 1 indicates a perfect positive linear relationship, -1 indicates a perfect negative linear relationship, and 0 indicates no linear relationship.\n",
    "\n",
    "**Differences:**\n",
    "\n",
    "1. **Scale Sensitivity:**\n",
    "   - Covariance is sensitive to the scale of the variables, making it challenging to compare covariances across different datasets.\n",
    "   - Correlation is standardized, allowing for easy comparison of relationships between different pairs of variables.\n",
    "\n",
    "2. **Interpretation:**\n",
    "   - Covariance does not provide a clear measure of the strength and direction of the relationship because it is not standardized.\n",
    "   - Correlation provides a standardized measure, explicitly indicating the strength and direction of a linear relationship.\n",
    "\n",
    "In summary, while both covariance and correlation measure the relationship between two variables, correlation is more interpretable and suitable for comparing relationships across different datasets due to its standardization."
   ]
  },
  {
   "cell_type": "markdown",
   "metadata": {},
   "source": [
    "Q-14"
   ]
  },
  {
   "cell_type": "markdown",
   "metadata": {},
   "source": [
    "Outliers can significantly impact measures of central tendency and dispersion, leading to skewed and distorted statistics. Here's how outliers affect these measures:\n",
    "\n",
    "**1. Measures of Central Tendency:**\n",
    "\n",
    "- **Mean:** Outliers have a substantial effect on the mean. Since the mean is calculated by summing all values and dividing by the number of observations, a single extreme value can pull the mean toward it. If there is a high positive outlier, the mean will be inflated, and if there is a low negative outlier, the mean will be deflated.\n",
    "\n",
    "- **Median:** The median is less affected by outliers. It represents the middle value when the data is ordered, and extreme values have less impact on its calculation. Thus, the median is often a more robust measure of central tendency in the presence of outliers.\n",
    "\n",
    "- **Mode:** Outliers may not affect the mode directly, as it represents the most frequent value(s) in the dataset. However, in the presence of outliers, the mode may become less representative of the central tendency.\n",
    "\n",
    "**2. Measures of Dispersion:**\n",
    "\n",
    "- **Range:** Outliers can significantly affect the range because it is determined by the difference between the maximum and minimum values. If there are extreme values, the range may be much larger than it would be without outliers.\n",
    "\n",
    "- **Variance and Standard Deviation:** Outliers can have a substantial impact on variance and standard deviation. Since these measures involve squared differences from the mean, extreme values contribute disproportionately to the overall variability. Therefore, the presence of outliers tends to increase the calculated variance and standard deviation.\n",
    "\n",
    "- **Interquartile Range (IQR):** The IQR is a more robust measure of dispersion because it is less sensitive to outliers. The IQR is calculated as the difference between the third quartile (Q3) and the first quartile (Q1), and extreme values have less influence on these quartiles than on the mean.\n",
    "\n",
    "**Example:**\n",
    "\n",
    "Consider the following dataset:\n",
    "\n",
    "{ 5, 10, 15, 20, 25,1000}\n",
    "\n",
    "- **Mean:** The mean is significantly influenced by the outlier (1000) and is much larger than the typical central value of the dataset.\n",
    "\n",
    "- **Median:** The median remains 17.5, which is less affected by the extreme value.\n",
    "\n",
    "- **Standard Deviation:** The standard deviation increases due to the presence of the outlier.\n",
    "\n",
    "In summary, outliers can distort measures of central tendency (especially the mean) and increase measures of dispersion, emphasizing the importance of considering their impact in data analysis. Choosing robust statistics or preprocessing methods may help mitigate the influence of outliers in certain situations."
   ]
  }
 ],
 "metadata": {
  "kernelspec": {
   "display_name": ".venv",
   "language": "python",
   "name": "python3"
  },
  "language_info": {
   "codemirror_mode": {
    "name": "ipython",
    "version": 3
   },
   "file_extension": ".py",
   "mimetype": "text/x-python",
   "name": "python",
   "nbconvert_exporter": "python",
   "pygments_lexer": "ipython3",
   "version": "3.10.9"
  }
 },
 "nbformat": 4,
 "nbformat_minor": 2
}
