{
 "cells": [
  {
   "cell_type": "markdown",
   "id": "ba35c156-bd40-4541-816c-833d9823a9c7",
   "metadata": {},
   "source": [
    "\n",
    "\n"
   ]
  },
  {
   "cell_type": "markdown",
   "id": "b8820088-ffb9-4322-8e67-d2251111a5f8",
   "metadata": {},
   "source": [
    "Q1\n"
   ]
  },
  {
   "cell_type": "raw",
   "id": "b4e04b3c-3a2a-47af-b479-54b856a295f9",
   "metadata": {},
   "source": [
    "Tuples are the one of built-in data storage types in python like array's and lists, it has some following characteristics as:\n",
    "*we can store multiple data types like 'int', 'char', 'float' etc, in a single tuple \n",
    "*It is immutable \n",
    "*It has only 2 built-in functions to use in it like  \n",
    "say (a) is a tuple then, a.count(\"anudeep\"), a.index(\"3\"), as conpared to lists and dictionary etc \n",
    "\n",
    "\n"
   ]
  },
  {
   "cell_type": "markdown",
   "id": "d12cf8ef-fce2-4042-82ca-b2e433922e51",
   "metadata": {},
   "source": [
    "Q2\n",
    "\n"
   ]
  },
  {
   "cell_type": "raw",
   "id": "ad50e9db-1da4-498a-a0d5-c06f080ecb0c",
   "metadata": {},
   "source": [
    "Two buit in fuctions of tuples are index() and count()"
   ]
  },
  {
   "cell_type": "code",
   "execution_count": 4,
   "id": "f0d5c28e-befb-45a9-9bd6-4006a80d6c5b",
   "metadata": {},
   "outputs": [
    {
     "name": "stdout",
     "output_type": "stream",
     "text": [
      "1\n",
      "0\n"
     ]
    }
   ],
   "source": [
    "a = (\"Anudeep\", 1,2,3,4, \"I love PWskills\")\n",
    "print(a.count(1))\n",
    "print(a.index(\"Anudeep\"))"
   ]
  },
  {
   "cell_type": "raw",
   "id": "35910831-0c4c-4210-8b45-9150bffbdfe6",
   "metadata": {},
   "source": [
    "As compared to lists tuples have only two built-in fucntions because its immutable unlike lists which is mutable."
   ]
  },
  {
   "cell_type": "markdown",
   "id": "8402ac37-2ee5-41bd-b3f7-5601881fdd1e",
   "metadata": {},
   "source": [
    "Q3"
   ]
  },
  {
   "cell_type": "raw",
   "id": "4ec8e145-6c23-4d9f-9129-dc7841d76e11",
   "metadata": {},
   "source": [
    "In python set data type does not allow duplicate items\n"
   ]
  },
  {
   "cell_type": "code",
   "execution_count": 8,
   "id": "98b797a4-8d6e-4459-bc2a-a3de6ee9079d",
   "metadata": {},
   "outputs": [
    {
     "name": "stdout",
     "output_type": "stream",
     "text": [
      "{1, 2, 3, 4}\n"
     ]
    }
   ],
   "source": [
    "List = [1,1,1,2,3,3,1,4,2,1,2,2,2,\n",
    "     3,2,4,3,1,3,2,3,3,3,4,4,1,4,3,4,4]\n",
    "List = set(List)\n",
    "print(List) \n",
    "#Gnerally we convert the given data type to set format inorder \n",
    "#to eliminate the duplicate elements"
   ]
  },
  {
   "cell_type": "markdown",
   "id": "7435017b-191b-4064-8834-2e58ab4ffe19",
   "metadata": {},
   "source": [
    "Q4\n"
   ]
  },
  {
   "cell_type": "code",
   "execution_count": 14,
   "id": "f5784287-4cb9-4e97-a349-20c3e5732709",
   "metadata": {},
   "outputs": [
    {
     "name": "stdout",
     "output_type": "stream",
     "text": [
      "{1, 2, 3, 4, 5, 7, 8}\n",
      "None\n"
     ]
    }
   ],
   "source": [
    "#Union() is used to copy the two sets inorder\n",
    "#to get a set with all the elemnts of other set \n",
    "# and creates new set\n",
    "#But update update() adds all the missing elements \n",
    "a = {1,2,3,4}\n",
    "b = {5,3,7,8,2}\n",
    "b = b.union(a)\n",
    "print(b) \n",
    "b = {5,3,7,8,2} \n",
    "b = b.update()\n",
    "print(b)"
   ]
  },
  {
   "cell_type": "markdown",
   "id": "ef9b3178-68d2-449b-89c5-2e821b0048aa",
   "metadata": {},
   "source": [
    "Q5\n"
   ]
  },
  {
   "cell_type": "raw",
   "id": "3321214a-ca48-4e16-983f-08fa41ef95af",
   "metadata": {},
   "source": [
    "Dictionary is a type of built-in storage type in python in which we can store different sort of defined data types in a variable like a list.\n",
    "Dictinary is ordred data type.\n",
    "\n"
   ]
  },
  {
   "cell_type": "markdown",
   "id": "19df8054-8d0e-4878-9b98-7eee66ab215a",
   "metadata": {},
   "source": [
    "Q6\n"
   ]
  },
  {
   "cell_type": "markdown",
   "id": "d3be87ea-81c0-42ad-8e66-84e1dafa70f9",
   "metadata": {},
   "source": [
    "Nested dictionary is a storing a dictionary in another dictionary."
   ]
  },
  {
   "cell_type": "code",
   "execution_count": 14,
   "id": "f7094ec3-b71e-4a88-95c5-8a66a6a11fe9",
   "metadata": {},
   "outputs": [
    {
     "name": "stdout",
     "output_type": "stream",
     "text": [
      "{\"galaxy's\": {'milky_way_galaxy': {'planets': {'mercury', 'venus', 'Earth'}}}}\n"
     ]
    }
   ],
   "source": [
    "universe = {\"galaxy's\" :{ \"milky_way_galaxy\": {\"planets\":{\"mercury\", \"venus\", \"Earth\"} } } }\n",
    "print(universe)\n",
    "#It is a type of nested dictionary"
   ]
  },
  {
   "cell_type": "markdown",
   "id": "ecd150f9-7073-426c-8359-251c3db664b9",
   "metadata": {},
   "source": [
    "Q7\n"
   ]
  },
  {
   "cell_type": "code",
   "execution_count": 5,
   "id": "8262a619-9a26-47f5-9045-743c5bed6741",
   "metadata": {},
   "outputs": [
    {
     "name": "stdout",
     "output_type": "stream",
     "text": [
      "{'language': 'Python', 'course': 'Data Science Masters', 'key': 'python, Machine Learning, Deep Learning'}\n"
     ]
    }
   ],
   "source": [
    "dict1 = {\"language\":\"Python\", \"course\":\"Data Science Masters\"}\n",
    "dict1.setdefault(\"key\", \"python, Machine Learning, Deep Learning\")\n",
    "print(dict1)"
   ]
  },
  {
   "cell_type": "markdown",
   "id": "8ffeb7fc-5afe-4dac-b35f-1d2e09b366a7",
   "metadata": {},
   "source": [
    "Q8"
   ]
  },
  {
   "cell_type": "code",
   "execution_count": 6,
   "id": "7125bc84-4f62-4696-accc-b356286b585a",
   "metadata": {},
   "outputs": [
    {
     "name": "stdout",
     "output_type": "stream",
     "text": [
      "dict_keys(['sports', 'Teams'])\n",
      "dict_values(['cricket', ['India', 'Australia', 'England', 'South Aftica', 'Sri Lanka', 'New Zealand']])\n",
      "dict_items([('sports', 'cricket'), ('Teams', ['India', 'Australia', 'England', 'South Aftica', 'Sri Lanka', 'New Zealand'])])\n"
     ]
    }
   ],
   "source": [
    "#If we take dict as a dictionary then the three view objects in dictionary are :-\n",
    "#dict.keys(), dict.values() and dict.items()\n",
    "dict1 = {\"sports\":\"cricket\", \"Teams\":[\"India\", \"Australia\", \"England\", \"South Aftica\", \"Sri Lanka\", \"New Zealand\"]}\n",
    "print(dict1.keys())\n",
    "print(dict1.values())\n",
    "print(dict1.items())"
   ]
  },
  {
   "cell_type": "code",
   "execution_count": null,
   "id": "aed7aa16-ca2b-42f5-94da-e7e2fadbe065",
   "metadata": {},
   "outputs": [],
   "source": []
  }
 ],
 "metadata": {
  "kernelspec": {
   "display_name": "Python 3 (ipykernel)",
   "language": "python",
   "name": "python3"
  },
  "language_info": {
   "codemirror_mode": {
    "name": "ipython",
    "version": 3
   },
   "file_extension": ".py",
   "mimetype": "text/x-python",
   "name": "python",
   "nbconvert_exporter": "python",
   "pygments_lexer": "ipython3",
   "version": "3.10.8"
  }
 },
 "nbformat": 4,
 "nbformat_minor": 5
}
