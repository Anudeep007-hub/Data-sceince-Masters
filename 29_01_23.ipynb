{
 "cells": [
  {
   "cell_type": "markdown",
   "id": "b69afbfb-f68b-4c07-81fa-24286d6e9f8a",
   "metadata": {},
   "source": [
    "Q1"
   ]
  },
  {
   "cell_type": "markdown",
   "id": "762de89c-4133-4907-b770-e48b1a57c575",
   "metadata": {},
   "source": [
    "Guido van Rossum developed Python programming language."
   ]
  },
  {
   "cell_type": "markdown",
   "id": "cd3ce873-b809-4555-b539-7d18f002adbd",
   "metadata": {},
   "source": [
    "Q2"
   ]
  },
  {
   "cell_type": "markdown",
   "id": "068fb1a7-e391-46e0-b17e-3a0643f1ec80",
   "metadata": {},
   "source": [
    "Python supports both  object-oriented programming and also structured oriented programming."
   ]
  },
  {
   "cell_type": "markdown",
   "id": "2b511fa1-1f66-4f94-ae51-983dc36d8fea",
   "metadata": {},
   "source": [
    "Q3"
   ]
  },
  {
   "cell_type": "markdown",
   "id": "3eab70e6-163e-43dd-9b28-d16138b49239",
   "metadata": {},
   "source": [
    "Yes, Python is case sensitive while dealing with identifiers."
   ]
  },
  {
   "cell_type": "markdown",
   "id": "d1af4c50-1f3c-4022-944b-7f2e8b51e575",
   "metadata": {},
   "source": [
    "Q4"
   ]
  },
  {
   "cell_type": "markdown",
   "id": "3a562f32-3be9-48c5-be75-79eccdf1e094",
   "metadata": {},
   "source": [
    "\"file\".py or \"file\".python is the correct extention for a python programming language."
   ]
  },
  {
   "cell_type": "markdown",
   "id": "1dfef43a-e996-4b69-b0ae-a31dcae9c9dd",
   "metadata": {},
   "source": [
    "Q5"
   ]
  },
  {
   "cell_type": "markdown",
   "id": "486dd6a3-0b4e-4ac2-a46b-30590992cc27",
   "metadata": {},
   "source": [
    "Python is a interpreted code."
   ]
  },
  {
   "cell_type": "markdown",
   "id": "ed61ad37-db02-4497-b951-fcf2c23a641e",
   "metadata": {},
   "source": [
    "Q6"
   ]
  },
  {
   "cell_type": "markdown",
   "id": "ff906dd0-f15b-4ea4-86fc-88f0e69d277c",
   "metadata": {},
   "source": [
    "In if-else loop after writing if condition we put colon to define the if statement, to write in that if statement one has to make four\n",
    "spaces after the starting point like indentation."
   ]
  },
  {
   "cell_type": "markdown",
   "id": "65de52a2-89aa-42f0-b68a-c5de12bb75b1",
   "metadata": {},
   "source": [
    "Q7"
   ]
  },
  {
   "cell_type": "markdown",
   "id": "e2efca60-cb0d-4934-ad6a-158296ddd5d8",
   "metadata": {},
   "source": [
    " \" # \" is used to write single line comment in python."
   ]
  },
  {
   "cell_type": "markdown",
   "id": "2e6bcf05-5e39-45da-baa0-1017c9bf77f7",
   "metadata": {},
   "source": [
    "Q8"
   ]
  },
  {
   "cell_type": "markdown",
   "id": "c7176f26-d48d-4cd9-8b8c-b83e5d644d66",
   "metadata": {},
   "source": [
    "\" sys.version \" is used to find out the current version of python, that we were using. "
   ]
  },
  {
   "cell_type": "markdown",
   "id": "39d31c78-2494-4e9e-a9d7-8c8a86bf602d",
   "metadata": {},
   "source": [
    "Q9"
   ]
  },
  {
   "cell_type": "markdown",
   "id": "e821cbd2-c7ad-42f7-be82-31b1cf6797ec",
   "metadata": {},
   "source": [
    "\" lambda \"."
   ]
  },
  {
   "cell_type": "markdown",
   "id": "1089527b-2c6c-416d-88ab-3a50e6afff89",
   "metadata": {},
   "source": [
    "Q10"
   ]
  },
  {
   "cell_type": "markdown",
   "id": "a32d70b4-8b99-4c4b-b68b-523b5289ee4a",
   "metadata": {},
   "source": [
    "PIP - \"Python Installation Package\"."
   ]
  },
  {
   "cell_type": "markdown",
   "id": "72b47ace-a9e8-4952-aa42-e961be5115aa",
   "metadata": {},
   "source": [
    "Q11"
   ]
  },
  {
   "cell_type": "markdown",
   "id": "c28fe230-9091-4238-bd70-2da2a3eb15db",
   "metadata": {},
   "source": [
    "Some of built-in functions in Python are :- \n",
    "                                          * print() \n",
    "                                          * input()\n",
    "                                          * int()\n",
    "                                          * float()\n",
    "                                          * str()\n",
    "                                          * if: \n",
    "                                               \n",
    "                                          * else:"
   ]
  },
  {
   "cell_type": "markdown",
   "id": "35d552f4-f3d1-4f40-ba6c-2842cecee96c",
   "metadata": {},
   "source": [
    "Q12"
   ]
  },
  {
   "cell_type": "markdown",
   "id": "ab88ce5d-db09-41f7-aa89-c282f0ccf31f",
   "metadata": {},
   "source": [
    "Maximum possible length of a identifier in Python is 79 characters."
   ]
  },
  {
   "cell_type": "markdown",
   "id": "b1f482c9-1f59-4651-b820-a61138449a39",
   "metadata": {},
   "source": [
    "Q13"
   ]
  },
  {
   "cell_type": "markdown",
   "id": "affa176e-4efc-4e4f-bcb3-38bc0a2b3c76",
   "metadata": {},
   "source": [
    "Python is like user-friendly language with simple syntax, it also supports object oriented programming or simple class type programming. \n",
    "With the help of python we can learn Machine Learning, AI, Deep Learning etc. \n",
    "\n"
   ]
  },
  {
   "cell_type": "markdown",
   "id": "36c171a7-c3ab-4df4-8bc1-60b5f3a2b780",
   "metadata": {},
   "source": [
    "Q14"
   ]
  },
  {
   "cell_type": "markdown",
   "id": "6f313ae7-b9f3-4f76-a862-d31d2af56597",
   "metadata": {},
   "source": [
    "Memory management in Python involves a private heap containing all Python objects and data structures. The management of this private heap is ensured internally by the Python memory manager."
   ]
  },
  {
   "cell_type": "markdown",
   "id": "912a6952-d186-4d85-8a88-c52242adc413",
   "metadata": {},
   "source": [
    "Q15"
   ]
  },
  {
   "cell_type": "markdown",
   "id": "f783a277-9786-4e51-b747-2c13c2f27e7e",
   "metadata": {},
   "source": [
    "Right click on My Computer ->Properties ->Advanced System setting ->Environment Variable ->New\n",
    "\n",
    "In Variable name write path and in Variable value copy path up to C://Python(i.e., path where Python is installed). Click Ok ->Ok.\n",
    "\n",
    "Path will be set for executing Python programs."
   ]
  },
  {
   "cell_type": "markdown",
   "id": "b719fc23-10c4-40b6-aa3c-00f91f8b8bc7",
   "metadata": {},
   "source": [
    "Q16"
   ]
  },
  {
   "cell_type": "markdown",
   "id": "ef828f15-8d73-4d44-a599-9e96ade0713a",
   "metadata": {},
   "source": [
    "Yes! Indentation should required in python."
   ]
  },
  {
   "cell_type": "markdown",
   "id": "293edfb3-fb72-49b4-8370-a2bc44b5faf2",
   "metadata": {},
   "source": []
  },
  {
   "cell_type": "code",
   "execution_count": null,
   "id": "f2845cbb-35ab-4c14-9abd-dc8913ffc05d",
   "metadata": {},
   "outputs": [],
   "source": []
  },
  {
   "cell_type": "code",
   "execution_count": null,
   "id": "06518458-29c3-4548-96bf-f19255936f08",
   "metadata": {},
   "outputs": [],
   "source": []
  },
  {
   "cell_type": "code",
   "execution_count": null,
   "id": "2d20567e-b560-425b-bdc7-c206324db8ef",
   "metadata": {},
   "outputs": [],
   "source": []
  },
  {
   "cell_type": "code",
   "execution_count": null,
   "id": "e9cfe529-028b-4a91-8c6e-1ce425cf225c",
   "metadata": {},
   "outputs": [],
   "source": []
  }
 ],
 "metadata": {
  "kernelspec": {
   "display_name": "Python 3 (ipykernel)",
   "language": "python",
   "name": "python3"
  },
  "language_info": {
   "codemirror_mode": {
    "name": "ipython",
    "version": 3
   },
   "file_extension": ".py",
   "mimetype": "text/x-python",
   "name": "python",
   "nbconvert_exporter": "python",
   "pygments_lexer": "ipython3",
   "version": "3.10.8"
  }
 },
 "nbformat": 4,
 "nbformat_minor": 5
}
