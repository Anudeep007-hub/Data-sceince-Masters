{
 "cells": [
  {
   "cell_type": "markdown",
   "metadata": {},
   "source": [
    "Q-1"
   ]
  },
  {
   "cell_type": "markdown",
   "metadata": {},
   "source": [
    "pdf: \n",
    "    The Probability Density Function(PDF) defines the probability function representing the density of a continuous random variable lying between a specific range of values"
   ]
  },
  {
   "cell_type": "markdown",
   "metadata": {},
   "source": [
    "Q-2"
   ]
  },
  {
   "cell_type": "markdown",
   "metadata": {},
   "source": [
    "Probability distributions are mathematical functions that describe the likelihood of different outcomes in a sample space. There are several types of probability distributions, and they can be broadly categorized into two main groups: discrete and continuous distributions.\n",
    "\n",
    "1. **Discrete Probability Distributions:**\n",
    "   - **Bernoulli Distribution:** A binary distribution with two possible outcomes, usually labeled as success and failure.\n",
    "   - **Binomial Distribution:** Represents the number of successes in a fixed number of independent Bernoulli trials.\n",
    "   - **Poisson Distribution:** Models the number of events that occur within a fixed interval of time or space, given a known average rate of occurrence.\n",
    "\n",
    "2. **Continuous Probability Distributions:**\n",
    "   - **Uniform Distribution:** All outcomes are equally likely within a specified range.\n",
    "   - **Normal (Gaussian) Distribution:** Characterized by a bell-shaped curve and is fully defined by its mean and standard deviation.\n",
    "   - **Exponential Distribution:** Models the time until an event occurs in a Poisson process, where events happen continuously and independently at a constant average rate.\n",
    "   - **Gamma Distribution:** Generalizes the exponential distribution to model the waiting time for a specified number of events to occur.\n",
    "   - **Chi-Square Distribution:** Specifically used in hypothesis testing and confidence interval estimation.\n",
    "   - **Beta Distribution:** Used for modeling random variables that represent proportions or probabilities.\n",
    "   - **Log-Normal Distribution:** The logarithm of the random variable follows a normal distribution.\n",
    "\n",
    "3. **Multivariate Distributions:**\n",
    "   - **Multinomial Distribution:** Generalization of the binomial distribution to more than two categories.\n",
    "   - **Multivariate Normal Distribution:** Extends the concept of the normal distribution to multiple dimensions.\n",
    "\n",
    "These distributions are fundamental in statistics and probability theory, and they find applications in various fields, including finance, physics, engineering, biology, and more. The choice of distribution depends on the nature of the data and the problem at hand."
   ]
  },
  {
   "cell_type": "markdown",
   "metadata": {},
   "source": [
    "Q-3"
   ]
  },
  {
   "cell_type": "code",
   "execution_count": 4,
   "metadata": {},
   "outputs": [
    {
     "data": {
      "text/plain": [
       "0.03324342804246837"
      ]
     },
     "execution_count": 4,
     "metadata": {},
     "output_type": "execute_result"
    }
   ],
   "source": [
    "import math\n",
    "\n",
    "def pdf_finder(point,mean,std):\n",
    "    try:\n",
    "        exponent = -((point-mean)**2)/(2*std**2)\n",
    "        f_x = (1/(math.sqrt(2*math.pi)*std))*(math.exp(exponent)) \n",
    "        return f_x \n",
    "    except Exception as e:\n",
    "        print(e) \n",
    "\n",
    "# For trail purpose I am giving a value \n",
    "point = 4.5\n",
    "mean = 0\n",
    "std = 2.56 \n",
    "pdf_finder(point,mean,std) \n",
    "\n",
    "    "
   ]
  },
  {
   "cell_type": "markdown",
   "metadata": {},
   "source": [
    "Q-4"
   ]
  },
  {
   "cell_type": "markdown",
   "metadata": {},
   "source": [
    "The binomial distribution is a discrete probability distribution that describes the number of successes in a fixed number of independent Bernoulli trials, where each trial has only two possible outcomes: success or failure. The properties of the binomial distribution include:\n",
    "\n",
    "1. **Fixed Number of Trials (n):** The distribution is based on a fixed number of trials, denoted as \\( n \\).\n",
    "\n",
    "2. **Independent Trials:** Each trial is independent of the others, meaning the outcome of one trial does not affect the outcomes of the others.\n",
    "\n",
    "3. **Two Possible Outcomes:** Each trial results in one of two mutually exclusive outcomes: success or failure.\n",
    "\n",
    "4. **Constant Probability of Success (p):** The probability of success (\\( p \\)) remains constant across all trials.\n",
    "\n",
    "5. **Discreteness:** The random variable representing the number of successes is discrete.\n",
    "\n",
    "6. **Probability Mass Function (PMF):** The probability mass function of the binomial distribution is given by:\n",
    "   \\[ P(X = k) = \\binom{n}{k} \\cdot p^k \\cdot (1-p)^{n-k} \\]\n",
    "   where \\( X \\) is the number of successes, \\( k \\) is the specific number of successes, \\( n \\) is the total number of trials, \\( p \\) is the probability of success, and \\( (1-p) \\) is the probability of failure.\n",
    "\n",
    "Two examples of events where the binomial distribution can be applied are:\n",
    "\n",
    "1. **Coin Flipping:**\n",
    "   - Each coin flip represents a Bernoulli trial with two outcomes: heads (success) or tails (failure).\n",
    "   - The fixed number of trials could be the number of times the coin is flipped.\n",
    "   - The probability of getting heads on any given flip remains constant.\n",
    "\n",
    "2. **Quality Control in Manufacturing:**\n",
    "   - Consider a manufacturing process that produces items with a certain probability of being defective (failure) or non-defective (success).\n",
    "   - The fixed number of trials could represent the number of items sampled from the production line.\n",
    "   - The probability of producing a defective item remains constant across the production process.\n",
    "\n",
    "In both examples, the binomial distribution helps model the number of successes (e.g., heads, non-defective items) in a fixed number of independent trials with constant probabilities of success."
   ]
  },
  {
   "cell_type": "markdown",
   "metadata": {},
   "source": [
    "Q-5"
   ]
  },
  {
   "cell_type": "code",
   "execution_count": 26,
   "metadata": {},
   "outputs": [
    {
     "data": {
      "image/png": "[encoded data removed]",
      "text/plain": [
       "<Figure size 640x480 with 1 Axes>"
      ]
     },
     "metadata": {},
     "output_type": "display_data"
    }
   ],
   "source": [
    "import numpy as np \n",
    "import matplotlib.pyplot as plt\n",
    "samples =  np.random.binomial(n=1,p=0.4,size=1000)\n",
    "\n",
    "plt.hist(x=samples, bins=[-2.5,-1.5,-0.5,0.5,1.5,2.5])\n",
    "plt.xlabel(\"Outcomes\")\n",
    "plt.ylabel(\"Frequency\")\n",
    "plt.xticks([0, 1], ['Failure', 'Success'])\n",
    "plt.show()\n",
    "\n",
    "\n",
    "\n"
   ]
  },
  {
   "cell_type": "markdown",
   "metadata": {},
   "source": [
    "Q-6"
   ]
  },
  {
   "cell_type": "code",
   "execution_count": 28,
   "metadata": {},
   "outputs": [
    {
     "data": {
      "text/plain": [
       "0.0008060202794618002"
      ]
     },
     "execution_count": 28,
     "metadata": {},
     "output_type": "execute_result"
    }
   ],
   "source": [
    "import math\n",
    "# mean = lambda \n",
    "# k = discrete random variable\n",
    "def cdf_poisson(k,mean):\n",
    "    try:\n",
    "        cdf_func = 0\n",
    "\n",
    "        \n",
    "        for i in range(k):\n",
    "            f = (math.exp(-mean)*mean**i)/math.factorial(i)\n",
    "            cdf_func += f \n",
    "        return cdf_func \n",
    "    except Exception as e:\n",
    "        print(e)\n",
    "\n",
    "\n",
    "\n",
    "# Example case \n",
    "mean = 23 \n",
    "x = 10 \n",
    "cdf_poisson(k=x,mean=mean)"
   ]
  },
  {
   "cell_type": "markdown",
   "metadata": {},
   "source": [
    "Q-7"
   ]
  },
  {
   "cell_type": "markdown",
   "metadata": {},
   "source": [
    "The Binomial distribution and the Poisson distribution are both probability distributions that describe the number of successes in a series of independent and identically distributed trials. However, they differ in their underlying assumptions and the types of scenarios they are commonly applied to. Here are the key differences between the Binomial and Poisson distributions:\n",
    "\n",
    "1. **Number of Trials:**\n",
    "   - **Binomial Distribution:** It is used to model the number of successes in a fixed number of independent Bernoulli trials. The number of trials (\\(n\\)) is fixed in advance.\n",
    "   - **Poisson Distribution:** It is used to model the number of events that occur in a fixed interval of time or space. The number of trials is not fixed but occurs continuously.\n",
    "\n",
    "2. **Nature of Trials:**\n",
    "   - **Binomial Distribution:** Each trial has only two possible outcomes (success or failure).\n",
    "   - **Poisson Distribution:** It is often used for counting the number of rare events in a continuous process where events happen independently.\n",
    "\n",
    "3. **Parameters:**\n",
    "   - **Binomial Distribution:** It is characterized by two parameters - the number of trials (\\(n\\)) and the probability of success (\\(p\\)).\n",
    "   - **Poisson Distribution:** It is characterized by a single parameter - the average rate of events (\\(\\lambda\\)).\n",
    "\n",
    "4. **Distribution Formulas:**\n",
    "   - **Binomial Distribution:** The probability mass function (PMF) is given by \\[ P(X = k) = \\binom{n}{k} \\cdot p^k \\cdot (1-p)^{n-k} \\].\n",
    "   - **Poisson Distribution:** The PMF is given by \\[ P(X = k) = \\frac{e^{-\\lambda} \\cdot \\lambda^k}{k!} \\].\n",
    "\n",
    "5. **Conditions for Applicability:**\n",
    "   - **Binomial Distribution:** Appropriate when there is a fixed number of trials, and the trials are independent with a constant probability of success.\n",
    "   - **Poisson Distribution:** Appropriate when the number of trials is not fixed, but the events are rare, and the events occur independently.\n",
    "\n",
    "6. **Example Scenarios:**\n",
    "   - **Binomial Distribution:** Modeling the number of heads in a fixed number of coin flips, counting the number of defective items in a sample from a production line.\n",
    "   - **Poisson Distribution:** Modeling the number of phone calls at a call center in a given hour, counting the number of arrivals at a bus stop in a fixed time interval.\n",
    "\n",
    "In summary, the Binomial distribution is suitable for scenarios with a fixed number of trials, while the Poisson distribution is suitable for situations where events occur continuously over time or space, and the number of trials is not fixed. The choice between them depends on the nature of the data and the underlying process being modeled."
   ]
  },
  {
   "cell_type": "markdown",
   "metadata": {},
   "source": [
    "Q-8"
   ]
  },
  {
   "cell_type": "code",
   "execution_count": 32,
   "metadata": {},
   "outputs": [
    {
     "name": "stdout",
     "output_type": "stream",
     "text": [
      "Sample Mean: 4.985\n",
      "Sample Variance: 5.001776776776777\n"
     ]
    }
   ],
   "source": [
    "import numpy as np\n",
    "\n",
    "# Set a seed for reproducibility (optional)\n",
    "np.random.seed(42)\n",
    "\n",
    "# Generate a random sample of size 1000 from a Poisson distribution with mean 5\n",
    "mean_value = 5\n",
    "sample_size = 1000\n",
    "poisson_samples = np.random.poisson(mean_value, size=sample_size)\n",
    "\n",
    "# Calculate the sample mean and variance\n",
    "sample_mean = np.mean(poisson_samples)\n",
    "sample_variance = np.var(poisson_samples, ddof=1)  # ddof=1 for unbiased sample variance\n",
    "\n",
    "# Print the results\n",
    "print(f\"Sample Mean: {sample_mean}\")\n",
    "print(f\"Sample Variance: {sample_variance}\")\n"
   ]
  },
  {
   "cell_type": "markdown",
   "metadata": {},
   "source": [
    "Q-9"
   ]
  },
  {
   "cell_type": "markdown",
   "metadata": {},
   "source": [
    "In both the Binomial distribution and the Poisson distribution, mean and variance are related, but the nature of this relationship differs between the two.\n",
    "\n",
    "### Binomial Distribution:\n",
    "\n",
    "In a Binomial distribution, which describes the number of successes in a fixed number of independent Bernoulli trials, the mean (μ) and variance (σ²) are related by the formula:\n",
    "\n",
    "This relationship indicates that the variance increases with \\(n\\) (the number of trials) and is also influenced by the probability of success (\\(p\\)).\n",
    "\n",
    "### Poisson Distribution:\n",
    "\n",
    "In a Poisson distribution, which models the number of events that occur within a fixed interval of time or space, the mean (μ) and variance (σ²) are actually equal:\n",
    "\n",
    "\n",
    "\n",
    "\n",
    "In the Poisson distribution, the mean and variance are both determined by the average rate of events, and they are equal. This characteristic makes the Poisson distribution particularly useful in situations where events are rare but occur on average at a constant rate.\n",
    "\n",
    "To summarize:\n",
    "- In the Binomial distribution, the variance depends on both the number of trials (\\(n\\)) and the probability of success (\\(p\\)).\n",
    "- In the Poisson distribution, the variance is solely determined by the average rate (\\(λ\\)), and both the mean and variance are equal."
   ]
  },
  {
   "cell_type": "markdown",
   "metadata": {},
   "source": [
    "Q-10"
   ]
  },
  {
   "cell_type": "markdown",
   "metadata": {},
   "source": [
    "In a normal distribution, also known as a Gaussian distribution or bell curve, the least frequent data appears in the tails of the distribution, farthest away from the mean. The normal distribution is symmetric, and its shape is characterized by the familiar bell-shaped curve.\n",
    "\n",
    "The majority of the data (about 68% in a standard normal distribution) falls within one standard deviation of the mean on either side. As you move further away from the mean, the percentage of data decreases. Specifically:\n",
    "\n",
    "- About 95% of the data falls within two standard deviations of the mean.\n",
    "- Approximately 99.7% of the data falls within three standard deviations of the mean.\n",
    "\n",
    "So, the tails of the distribution, which are farther from the mean, contain the least frequent data. Extremely high or low values are less likely to occur in a normal distribution, as they are in the tails, representing the extremes of the data distribution."
   ]
  }
 ],
 "metadata": {
  "kernelspec": {
   "display_name": ".venv",
   "language": "python",
   "name": "python3"
  },
  "language_info": {
   "codemirror_mode": {
    "name": "ipython",
    "version": 3
   },
   "file_extension": ".py",
   "mimetype": "text/x-python",
   "name": "python",
   "nbconvert_exporter": "python",
   "pygments_lexer": "ipython3",
   "version": "3.10.9"
  }
 },
 "nbformat": 4,
 "nbformat_minor": 2
}
