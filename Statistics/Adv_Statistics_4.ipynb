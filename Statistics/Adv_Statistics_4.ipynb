{
 "cells": [
  {
   "cell_type": "markdown",
   "metadata": {},
   "source": [
    "Q-1"
   ]
  },
  {
   "cell_type": "markdown",
   "metadata": {},
   "source": [
    "The main difference between a t-test and a z-test lies in the information available about the population standard deviation.\n",
    "\n",
    "**T-Test:**\n",
    "1. **When to use:** A t-test is appropriate when the sample size is small, and the population standard deviation is unknown. It is commonly used for testing hypotheses about the mean of a single sample or the difference between means of two independent samples.\n",
    "2. **Formula for the t-statistic:** \\[ t = \\frac{\\bar{x} - \\mu}{\\frac{s}{\\sqrt{n}}} \\]\n",
    "   - \\(\\bar{x}\\) is the sample mean.\n",
    "   - \\(\\mu\\) is the population mean under the null hypothesis.\n",
    "   - \\(s\\) is the sample standard deviation.\n",
    "   - \\(n\\) is the sample size.\n",
    "\n",
    "**Z-Test:**\n",
    "1. **When to use:** A z-test is appropriate when the population standard deviation is known, or the sample size is large enough for the Central Limit Theorem to apply. It is commonly used for testing hypotheses about the mean or proportion of a single sample or the difference between means of two independent samples.\n",
    "2. **Formula for the z-statistic:** \\[ z = \\frac{\\bar{x} - \\mu}{\\frac{\\sigma}{\\sqrt{n}}} \\]\n",
    "   - \\(\\bar{x}\\) is the sample mean.\n",
    "   - \\(\\mu\\) is the population mean under the null hypothesis.\n",
    "   - \\(\\sigma\\) is the population standard deviation.\n",
    "   - \\(n\\) is the sample size.\n",
    "\n",
    "**Example Scenarios:**\n",
    "- **T-Test Scenario:**\n",
    "  - *Situation:* You want to test whether a new teaching method has a significant effect on student scores. You collect scores from a sample of 20 students and compare them to the population mean.\n",
    "  - *Test to Use:* One-sample t-test.\n",
    "\n",
    "- **Z-Test Scenario:**\n",
    "  - *Situation:* You are comparing the average heights of two populations where the standard deviations are known, or the sample sizes are large (e.g., more than 30).\n",
    "  - *Test to Use:* Two-sample z-test.\n",
    "\n",
    "In summary, use a t-test when dealing with small sample sizes or when the population standard deviation is unknown. Use a z-test when the population standard deviation is known, or the sample size is large, allowing the Central Limit Theorem to be applied."
   ]
  },
  {
   "cell_type": "markdown",
   "metadata": {},
   "source": [
    "Q-2"
   ]
  },
  {
   "cell_type": "markdown",
   "metadata": {},
   "source": [
    "**One-Tailed Test:**\n",
    "- **Definition:** In a one-tailed test (also called a one-sided test), the critical region is located in only one tail of the distribution (either the right or the left).\n",
    "- **Hypotheses:** The null hypothesis (\\(H_0\\)) typically includes an equal sign (e.g., \\(\\mu = 10\\)), and the alternative hypothesis (\\(H_a\\)) specifies a direction of the effect (e.g., \\(\\mu > 10\\) for a right-tailed test or \\(\\mu < 10\\) for a left-tailed test).\n",
    "- **Decision Rule:** You reject the null hypothesis if the test statistic falls into the critical region corresponding to the specified tail.\n",
    "\n",
    "**Two-Tailed Test:**\n",
    "- **Definition:** In a two-tailed test, the critical region is split between both tails of the distribution.\n",
    "- **Hypotheses:** The null hypothesis (\\(H_0\\)) typically includes an equal sign (e.g., \\(\\mu = 10\\)), and the alternative hypothesis (\\(H_a\\)) specifies a difference in either direction (e.g., \\(\\mu \\neq 10\\)).\n",
    "- **Decision Rule:** You reject the null hypothesis if the test statistic falls into either of the critical regions corresponding to both tails.\n",
    "\n",
    "**Key Differences:**\n",
    "1. **Directionality of Effect:**\n",
    "   - One-tailed tests focus on the direction of the effect (greater than or less than).\n",
    "   - Two-tailed tests focus on the existence of an effect in either direction.\n",
    "\n",
    "2. **Critical Regions:**\n",
    "   - One-tailed tests have a critical region in only one tail of the distribution.\n",
    "   - Two-tailed tests have critical regions in both tails of the distribution.\n",
    "\n",
    "3. **Decision Rule:**\n",
    "   - In one-tailed tests, you reject the null hypothesis if the test statistic falls into the critical region in the specified tail.\n",
    "   - In two-tailed tests, you reject the null hypothesis if the test statistic falls into either of the critical regions.\n"
   ]
  },
  {
   "cell_type": "markdown",
   "metadata": {},
   "source": [
    "Q-3"
   ]
  },
  {
   "cell_type": "markdown",
   "metadata": {},
   "source": [
    "**Type I Error:**\n",
    "- **Definition:** Type I error occurs when you reject a true null hypothesis. In other words, it is a false positive or the conclusion that there is a significant effect when, in reality, there is no effect.\n",
    "- **Probability of Type I Error:** Denoted by \\(\\alpha\\), it is the significance level chosen for the hypothesis test (e.g., 0.05).\n",
    "- **Example Scenario:**\n",
    "  - *Scenario:* A pharmaceutical company is testing a new drug to see if it reduces cholesterol levels. The null hypothesis (\\(H_0\\)) is that the drug has no effect on cholesterol, and the alternative hypothesis (\\(H_a\\)) is that the drug reduces cholesterol. If the company incorrectly concludes that the drug is effective (rejects \\(H_0\\)) when, in fact, it has no effect, it commits a Type I error.\n",
    "\n",
    "**Type II Error:**\n",
    "- **Definition:** Type II error occurs when you fail to reject a false null hypothesis. It is a false negative or the conclusion that there is no significant effect when, in reality, there is an effect.\n",
    "- **Probability of Type II Error:** Denoted by \\(\\beta\\), it is influenced by factors like sample size, effect size, and the chosen significance level.\n",
    "- **Example Scenario:**\n",
    "  - *Scenario:* A medical test is conducted to detect a disease. The null hypothesis (\\(H_0\\)) is that the person is healthy, and the alternative hypothesis (\\(H_a\\)) is that the person has the disease. If the test fails to detect the disease (fails to reject \\(H_0\\)) when the person actually has the disease, it results in a Type II error.\n",
    "\n",
    "**Summary:**\n",
    "- **Type I Error:** Incorrectly concluding there is an effect when there isn't (False Positive).\n",
    "  - Example: Concluding a new drug is effective when it is not.\n",
    "- **Type II Error:** Incorrectly concluding there is no effect when there is (False Negative).\n",
    "  - Example: Failing to detect a disease when it is present.\n",
    "\n",
    "Balancing Type I and Type II errors is crucial in hypothesis testing. Typically, decreasing the probability of one type of error increases the probability of the other, and finding an optimal balance depends on the context and consequences of the errors."
   ]
  },
  {
   "cell_type": "markdown",
   "metadata": {},
   "source": [
    "Q-4"
   ]
  },
  {
   "cell_type": "markdown",
   "metadata": {},
   "source": [
    "Bayes' Theorem is a fundamental concept in probability theory that describes the probability of an event based on prior knowledge of conditions that might be related to the event. It is named after the Reverend Thomas Bayes.\n",
    "\n",
    "The formula for Bayes' Theorem is as follows:\n",
    "\n",
    "\\[ P(A|B) = \\frac{P(B|A) \\cdot P(A)}{P(B)} \\]\n",
    "\n",
    "Where:\n",
    "- \\( P(A|B) \\) is the probability of event A given that event B has occurred.\n",
    "- \\( P(B|A) \\) is the probability of event B given that event A has occurred.\n",
    "- \\( P(A) \\) and \\( P(B) \\) are the probabilities of events A and B, respectively.\n",
    "\n",
    "**Example: Medical Test Scenario**\n",
    "\n",
    "Suppose you have a medical test to detect a disease, and the test is not perfect. Let:\n",
    "- \\( A \\) be the event \"having the disease.\"\n",
    "- \\( B \\) be the event \"testing positive.\"\n",
    "\n",
    "Assume the following probabilities:\n",
    "- \\( P(A) \\), the prior probability of having the disease, is 0.01 (1% of the population has the disease).\n",
    "- \\( P(B|A) \\), the probability of testing positive given that you have the disease, is 0.9 (90% sensitivity).\n",
    "- \\( P(\\neg A) \\), the prior probability of not having the disease, is 0.99 (1 - \\( P(A) \\)).\n",
    "- \\( P(B|\\neg A) \\), the probability of testing positive given that you do not have the disease, is 0.05 (5% false positive rate).\n",
    "\n",
    "Now, we can use Bayes' Theorem to calculate the probability of actually having the disease given a positive test result:\n",
    "\n",
    "\\[ P(A|B) = \\frac{P(B|A) \\cdot P(A)}{P(B)} \\]\n",
    "\n",
    "\\[ P(A|B) = \\frac{0.9 \\cdot 0.01}{P(B)} \\]\n",
    "\n",
    "To find \\( P(B) \\), we can use the law of total probability:\n",
    "\n",
    "\\[ P(B) = P(A) \\cdot P(B|A) + P(\\neg A) \\cdot P(B|\\neg A) \\]\n",
    "\n",
    "\\[ P(B) = 0.01 \\cdot 0.9 + 0.99 \\cdot 0.05 \\]\n",
    "\n",
    "Now, we can substitute this back into the Bayes' Theorem formula:\n",
    "\n",
    "\\[ P(A|B) = \\frac{0.9 \\cdot 0.01}{0.01 \\cdot 0.9 + 0.99 \\cdot 0.05} \\]\n",
    "\n",
    "This calculation will give us the probability of actually having the disease given a positive test result. Bayes' Theorem allows us to update our beliefs based on new evidence (the positive test result) and helps avoid common misconceptions related to conditional probabilities."
   ]
  },
  {
   "cell_type": "markdown",
   "metadata": {},
   "source": [
    "Q-5"
   ]
  },
  {
   "cell_type": "markdown",
   "metadata": {},
   "source": [
    "A confidence interval is a statistical range that estimates the true value of a population parameter with a certain level of confidence. It provides a range of values within which we can reasonably expect the true parameter to fall. The level of confidence is expressed as a percentage, and a common choice is 95%.\n",
    "\n",
    "The formula for a confidence interval for the population mean (\\(\\mu\\)) is given by:\n",
    "\n",
    "\\[ \\text{Confidence Interval} = \\bar{x} \\pm \\left( \\text{critical value} \\times \\frac{s}{\\sqrt{n}} \\right) \\]\n",
    "\n",
    "Where:\n",
    "- \\(\\bar{x}\\) is the sample mean.\n",
    "- \\(s\\) is the sample standard deviation.\n",
    "- \\(n\\) is the sample size.\n",
    "\n",
    "The critical value is determined based on the desired level of confidence and the distribution (e.g., using the t-distribution for small sample sizes or the normal distribution for large sample sizes).\n",
    "\n",
    "**Example:**\n",
    "Suppose you want to estimate the average height of students in a school with 95% confidence. You take a random sample of 30 students and find the sample mean height (\\(\\bar{x}\\)) to be 160 cm with a sample standard deviation (\\(s\\)) of 5 cm.\n",
    "\n",
    "1. **Determine the critical value:**\n",
    "   - For a 95% confidence interval with \\(n = 30\\), you use the t-distribution.\n",
    "   - Using a t-table or statistical software, you find the critical t-value for a two-tailed test with \\(df = 29\\) (degrees of freedom for a sample size of 30 minus 1).\n",
    "\n",
    "2. **Calculate the margin of error:**\n",
    "   \\[ \\text{Margin of Error} = \\text{critical value} \\times \\frac{s}{\\sqrt{n}} \\]\n",
    "\n",
    "3. **Calculate the confidence interval:**\n",
    "   \\[ \\text{Confidence Interval} = \\bar{x} \\pm \\text{Margin of Error} \\]\n",
    "\n",
    "Let's assume the critical t-value is approximately 2.045 for a 95% confidence level with \\(df = 29\\). Then:\n",
    "\n",
    "\\[ \\text{Margin of Error} = 2.045 \\times \\frac{5}{\\sqrt{30}} \\]\n",
    "\n",
    "Calculate the lower and upper bounds of the confidence interval:\n",
    "\n",
    "\\[ \\text{Lower Bound} = 160 - \\text{Margin of Error} \\]\n",
    "\n",
    "\\[ \\text{Upper Bound} = 160 + \\text{Margin of Error} \\]\n",
    "\n",
    "This will give you a confidence interval such as \\([157.3, 162.7]\\). Interpretation: With 95% confidence, you estimate that the true average height of students in the school is between 157.3 cm and 162.7 cm based on the sample data."
   ]
  },
  {
   "cell_type": "markdown",
   "metadata": {},
   "source": [
    "Q-6"
   ]
  },
  {
   "cell_type": "markdown",
   "metadata": {},
   "source": [
    "Certainly! Let's consider a sample problem where we want to calculate the probability of drawing a red marble from a bag given prior knowledge and new evidence.\n",
    "\n",
    "**Sample Problem:**\n",
    "\n",
    "Suppose you have a bag of marbles that contains red (R) and green (G) marbles. You know that 30% of the marbles in the bag are red, and 70% are green. Now, you draw a marble from the bag, and you want to calculate the probability that it's red given your prior knowledge and the new evidence of drawing a red marble.\n",
    "\n",
    "**Solution using Bayes' Theorem:**\n",
    "\n",
    "Let the events be defined as follows:\n",
    "- \\( R \\): Drawing a red marble.\n",
    "- \\( G \\): Drawing a green marble.\n",
    "\n",
    "The prior probabilities are given as:\n",
    "- \\( P(R) \\): Prior probability of drawing a red marble = 0.30.\n",
    "- \\( P(G) \\): Prior probability of drawing a green marble = 0.70.\n",
    "\n",
    "Now, suppose you draw a marble, and you know the conditional probabilities:\n",
    "- \\( P(R|G) \\): Probability of drawing a red marble given that the previous marble was green = 0.10.\n",
    "- \\( P(G|R) \\): Probability of drawing a green marble given that the previous marble was red = 0.05.\n",
    "\n",
    "We want to calculate \\( P(R) \\) given the new evidence of drawing a red marble.\n",
    "\n",
    "The formula for Bayes' Theorem is:\n",
    "\n",
    "\\[ P(R|D) = \\frac{P(D|R) \\cdot P(R)}{P(D)} \\]\n",
    "\n",
    "We need to calculate the probabilities:\n",
    "- \\( P(R|D) \\): Probability of drawing a red marble given the new evidence.\n",
    "- \\( P(D|R) \\): Probability of the new evidence given that the previous marble was red (which is 1, as we are certain of drawing a red marble next).\n",
    "- \\( P(R) \\): Prior probability of drawing a red marble = 0.30.\n",
    "- \\( P(D) \\): Probability of the new evidence, which can be calculated using the law of total probability.\n",
    "\n",
    "\\[ P(D) = P(D|R) \\cdot P(R) + P(D|G) \\cdot P(G) \\]\n",
    "\n",
    "\\[ P(D) = 1 \\cdot 0.30 + 0 \\cdot 0.70 \\]\n",
    "\n",
    "Now, substitute these values into the Bayes' Theorem formula:\n",
    "\n",
    "\\[ P(R|D) = \\frac{1 \\cdot 0.30}{1 \\cdot 0.30 + 0 \\cdot 0.70} \\]\n",
    "\n",
    "Calculate this expression to find the probability of drawing a red marble given the new evidence."
   ]
  },
  {
   "cell_type": "markdown",
   "metadata": {},
   "source": [
    "Q-7"
   ]
  },
  {
   "cell_type": "markdown",
   "metadata": {},
   "source": [
    "To calculate the 95% confidence interval for a sample of data with a known mean (\\(\\bar{x} = 50\\)) and standard deviation (\\(s = 5\\)), you can use the formula for the confidence interval of the mean:\n",
    "\n",
    "\\[ \\text{Confidence Interval} = \\bar{x} \\pm \\left( \\text{critical value} \\times \\frac{s}{\\sqrt{n}} \\right) \\]\n",
    "\n",
    "Where:\n",
    "- \\(\\bar{x}\\) is the sample mean,\n",
    "- \\(s\\) is the sample standard deviation,\n",
    "- \\(n\\) is the sample size.\n",
    "\n",
    "For a 95% confidence interval and assuming a normal distribution, the critical value is approximately 1.96.\n",
    "\n",
    "\\[ \\text{Confidence Interval} = 50 \\pm \\left(1.96 \\times \\frac{5}{\\sqrt{n}}\\right) \\]\n",
    "\n",
    "Without information about the sample size (\\(n\\)), we cannot provide an exact confidence interval. However, I can provide the general formula, and you can substitute the appropriate sample size to get the interval.\n",
    "\n",
    "Interpretation: If we were to take multiple samples from the same population and calculate a 95% confidence interval for each sample, we would expect that about 95% of those intervals would contain the true population mean. In this case, we are 95% confident that the true mean lies within the calculated interval.\n",
    "\n"
   ]
  },
  {
   "cell_type": "markdown",
   "metadata": {},
   "source": [
    "Q-8"
   ]
  },
  {
   "cell_type": "markdown",
   "metadata": {},
   "source": [
    "The margin of error in a confidence interval is the range within which we expect the true population parameter (such as the mean) to lie. It quantifies the precision or uncertainty associated with our estimate. The formula for the margin of error in a confidence interval for the mean is:\n",
    "\n",
    "\\[ \\text{Margin of Error} = \\text{Critical Value} \\times \\left( \\frac{\\text{Standard Deviation}}{\\sqrt{\\text{Sample Size}}} \\right) \\]\n",
    "\n",
    "Key components:\n",
    "- **Critical Value:** Corresponds to the chosen confidence level and is obtained from the standard normal distribution or t-distribution.\n",
    "- **Standard Deviation:** Represents the variability of the data in the population.\n",
    "- **Sample Size:** Influences the precision of the estimate.\n",
    "\n",
    "**Effect of Sample Size on Margin of Error:**\n",
    "- As the sample size increases, the standard error of the mean (\\(\\frac{\\text{Standard Deviation}}{\\sqrt{\\text{Sample Size}}}\\)) decreases.\n",
    "- A larger sample size reduces the uncertainty associated with estimating the population parameter, resulting in a smaller margin of error.\n",
    "- A smaller margin of error indicates a more precise estimate.\n",
    "\n",
    "**Example Scenario:**\n",
    "Consider estimating the average height of adult males in a population. If you collect height data from a small sample of 10 males, the margin of error would be relatively large, indicating a wider range within which the true average height might lie. On the other hand, if you collect height data from a larger sample of 1000 males, the margin of error would be smaller, providing a more precise estimate of the average height.\n",
    "\n",
    "In summary, a larger sample size tends to reduce the margin of error, making the estimate more reliable and precise."
   ]
  },
  {
   "cell_type": "markdown",
   "metadata": {},
   "source": [
    "Q-9"
   ]
  },
  {
   "cell_type": "markdown",
   "metadata": {},
   "source": [
    "The z-score, also known as the standard score, measures how many standard deviations a particular data point is from the mean of a population. The formula for calculating the z-score is:\n",
    "\n",
    "\\[ Z = \\frac{{X - \\mu}}{{\\sigma}} \\]\n",
    "\n",
    "Where:\n",
    "- \\( Z \\) is the z-score,\n",
    "- \\( X \\) is the value of the data point,\n",
    "- \\( \\mu \\) is the population mean,\n",
    "- \\( \\sigma \\) is the population standard deviation.\n",
    "\n",
    "Using the given values:\n",
    "\\[ Z = \\frac{{75 - 70}}{{5}} = 1 \\]\n",
    "\n",
    "Interpretation:\n",
    "A z-score of 1 means that the data point with a value of 75 is 1 standard deviation above the mean (which is 70) in the population. In other words, it indicates that the data point is relatively higher than the average in the context of the population's distribution."
   ]
  },
  {
   "cell_type": "markdown",
   "metadata": {},
   "source": [
    "Q-10"
   ]
  },
  {
   "cell_type": "markdown",
   "metadata": {},
   "source": [
    "To conduct a hypothesis test to determine if the weight loss drug is significantly effective, we can use a one-sample t-test. The null hypothesis (\\(H_0\\)) typically assumes no effect, and the alternative hypothesis (\\(H_a\\)) assumes an effect.\n",
    "\n",
    "The hypotheses can be stated as follows:\n",
    "- \\(H_0\\): The mean weight loss (\\(\\mu\\)) is equal to zero (no effect of the drug).\n",
    "- \\(H_a\\): The mean weight loss (\\(\\mu\\)) is not equal to zero (there is an effect of the drug).\n",
    "\n",
    "The formula for the t-test statistic is given by:\n",
    "\n",
    "\\[ t = \\frac{{\\bar{x} - \\mu}}{{\\frac{s}{\\sqrt{n}}}} \\]\n",
    "\n",
    "Where:\n",
    "- \\(\\bar{x}\\) is the sample mean,\n",
    "- \\(\\mu\\) is the population mean under the null hypothesis,\n",
    "- \\(s\\) is the sample standard deviation,\n",
    "- \\(n\\) is the sample size.\n",
    "\n",
    "Given the information from the study:\n",
    "- Sample mean (\\(\\bar{x}\\)) = 6 pounds\n",
    "- Sample standard deviation (\\(s\\)) = 2.5 pounds\n",
    "- Sample size (\\(n\\)) = 50\n",
    "\n",
    "Assuming \\(H_0: \\mu = 0\\) (no weight loss), we can calculate the t-statistic and compare it to the critical t-value to make a decision.\n",
    "\n",
    "Let's calculate the t-statistic:\n",
    "\n",
    "t = (6-0)/(2.5/(sqrt(50)))\n",
    "\n",
    "Once you have the calculated t-statistic, you can compare it to the critical t-value for a two-tailed test at a 95% confidence level with 49 degrees of freedom (50 participants - 1). If the calculated t-statistic is greater than the critical t-value or less than its negative, you would reject the null hypothesis and conclude that there is a significant effect of the drug."
   ]
  },
  {
   "cell_type": "markdown",
   "metadata": {},
   "source": [
    "Q-11"
   ]
  },
  {
   "cell_type": "markdown",
   "metadata": {},
   "source": [
    "To calculate the 95% confidence interval for the true proportion of people who are satisfied with their job, you can use the formula for the confidence interval for a population proportion (\\(p\\)):\n",
    "\n",
    "\\[ \\text{Confidence Interval} = \\hat{p} \\pm Z \\sqrt{\\frac{\\hat{p}(1 - \\hat{p})}{n}} \\]\n",
    "\n",
    "Where:\n",
    "- \\(\\hat{p}\\) is the sample proportion,\n",
    "- \\(Z\\) is the Z-score corresponding to the desired confidence level,\n",
    "- \\(n\\) is the sample size.\n",
    "\n",
    "Given the information from the survey:\n",
    "- Sample proportion (\\(\\hat{p}\\)) = 0.65 (65% reported being satisfied),\n",
    "- Sample size (\\(n\\)) = 500.\n",
    "\n",
    "We need to find the Z-score for a 95% confidence level. For a 95% confidence level, the critical Z-value is approximately 1.96.\n",
    "\n",
    "\\[ \\text{Confidence Interval} = 0.65 \\pm 1.96 \\sqrt{\\frac{0.65(1 - 0.65)}{500}} \\]\n",
    "\n",
    "Now, calculate the confidence interval:\n",
    "\n",
    "\\[ \\text{Confidence Interval} = 0.65 \\pm 1.96 \\sqrt{\\frac{0.65 \\times 0.35}{500}} \\]\n",
    "\n",
    "This will give you the lower and upper bounds of the 95% confidence interval for the true proportion of people who are satisfied with their job.\n",
    "\n",
    "Calculate the values to obtain the confidence interval. The result might look like: \\( \\text{Confidence Interval} = (0.60, 0.70) \\). Therefore, you can say that you are 95% confident that the true proportion of people satisfied with their job falls between 60% and 70%."
   ]
  },
  {
   "cell_type": "markdown",
   "metadata": {},
   "source": [
    "Q-12"
   ]
  },
  {
   "cell_type": "markdown",
   "metadata": {},
   "source": [
    "To conduct a hypothesis test to determine if there is a significant difference in student performance between the two teaching methods, you can use a two-sample t-test. The null hypothesis (\\(H_0\\)) typically assumes no difference, and the alternative hypothesis (\\(H_a\\)) assumes a difference.\n",
    "\n",
    "The hypotheses can be stated as follows:\n",
    "- \\(H_0\\): The mean difference (\\(\\mu_A - \\mu_B\\)) is equal to zero (no difference between the teaching methods).\n",
    "- \\(H_a\\): The mean difference (\\(\\mu_A - \\mu_B\\)) is not equal to zero (there is a difference between the teaching methods).\n",
    "\n",
    "The formula for the t-test statistic for two independent samples is given by:\n",
    "\n",
    "\\[ t = \\frac{(\\bar{x}_A - \\bar{x}_B)}{\\sqrt{\\left(\\frac{s_A^2}{n_A}\\right) + \\left(\\frac{s_B^2}{n_B}\\right)}} \\]\n",
    "\n",
    "Where:\n",
    "- \\(\\bar{x}_A\\) and \\(\\bar{x}_B\\) are the sample means for samples A and B, respectively.\n",
    "- \\(s_A\\) and \\(s_B\\) are the sample standard deviations for samples A and B, respectively.\n",
    "- \\(n_A\\) and \\(n_B\\) are the sample sizes for samples A and B, respectively.\n",
    "\n",
    "Given the information from the study:\n",
    "- Sample A mean (\\(\\bar{x}_A\\)) = 85\n",
    "- Sample A standard deviation (\\(s_A\\)) = 6\n",
    "- Sample A size (\\(n_A\\)) - Not provided, but assuming it's the same as sample B.\n",
    "- Sample B mean (\\(\\bar{x}_B\\)) = 82\n",
    "- Sample B standard deviation (\\(s_B\\)) = 5\n",
    "- Sample B size (\\(n_B\\)) - Not provided, but assuming it's the same as sample A.\n",
    "\n",
    "Assuming \\(H_0: \\mu_A - \\mu_B = 0\\), you can calculate the t-statistic and compare it to the critical t-value for a two-tailed test at a 0.01 significance level with degrees of freedom equal to \\(n_A + n_B - 2\\).\n",
    "\n",
    "Once you have the calculated t-statistic, you can make a decision about whether to reject the null hypothesis based on the critical t-value. If the calculated t-statistic is beyond the critical t-value, you would reject the null hypothesis and conclude that there is a significant difference in student performance between the two teaching methods."
   ]
  },
  {
   "cell_type": "markdown",
   "metadata": {},
   "source": [
    "Q-13"
   ]
  },
  {
   "cell_type": "markdown",
   "metadata": {},
   "source": [
    "To calculate the 90% confidence interval for the true population mean, you can use the formula for the confidence interval for a population mean (\\(\\mu\\)):\n",
    "\n",
    "\\[ \\text{Confidence Interval} = \\bar{x} \\pm Z \\left(\\frac{s}{\\sqrt{n}}\\right) \\]\n",
    "\n",
    "Where:\n",
    "- \\(\\bar{x}\\) is the sample mean,\n",
    "- \\(Z\\) is the Z-score corresponding to the desired confidence level,\n",
    "- \\(s\\) is the sample standard deviation,\n",
    "- \\(n\\) is the sample size.\n",
    "\n",
    "Given the information from the sample:\n",
    "- Sample mean (\\(\\bar{x}\\)) = 65,\n",
    "- Sample standard deviation (\\(s\\)) - Not provided, but since you have a sample, you would use the sample standard deviation,\n",
    "- Sample size (\\(n\\)) = 50.\n",
    "\n",
    "For a 90% confidence interval, the critical Z-value is approximately 1.645.\n",
    "\n",
    "\\[ \\text{Confidence Interval} = 65 \\pm 1.645 \\left(\\frac{s}{\\sqrt{50}}\\right) \\]\n",
    "\n",
    "Now, if you know the sample standard deviation, you can substitute it into the formula. If not provided, you can use it as an estimate of the population standard deviation.\n",
    "\n",
    "This will give you the lower and upper bounds of the 90% confidence interval for the true population mean."
   ]
  },
  {
   "cell_type": "markdown",
   "metadata": {},
   "source": [
    "Q-14"
   ]
  },
  {
   "cell_type": "markdown",
   "metadata": {},
   "source": [
    "To conduct a hypothesis test to determine if caffeine has a significant effect on reaction time, you can use a one-sample t-test. The null hypothesis (\\(H_0\\)) typically assumes no effect, and the alternative hypothesis (\\(H_a\\)) assumes an effect.\n",
    "\n",
    "The hypotheses can be stated as follows:\n",
    "- \\(H_0\\): The mean reaction time (\\(\\mu\\)) is equal to some reference value (no effect of caffeine).\n",
    "- \\(H_a\\): The mean reaction time (\\(\\mu\\)) is different from the reference value (caffeine has an effect).\n",
    "\n",
    "The formula for the t-test statistic for a one-sample t-test is given by:\n",
    "\n",
    "\\[ t = \\frac{(\\bar{x} - \\mu_0)}{\\frac{s}{\\sqrt{n}}} \\]\n",
    "\n",
    "Where:\n",
    "- \\(\\bar{x}\\) is the sample mean,\n",
    "- \\(\\mu_0\\) is the hypothesized population mean under the null hypothesis,\n",
    "- \\(s\\) is the sample standard deviation,\n",
    "- \\(n\\) is the sample size.\n",
    "\n",
    "Given the information from the study:\n",
    "- Sample mean (\\(\\bar{x}\\)) = 0.25 seconds\n",
    "- Sample standard deviation (\\(s\\)) = 0.05 seconds\n",
    "- Sample size (\\(n\\)) = 30\n",
    "- Confidence level = 90% (significance level \\(\\alpha = 0.10\\) for a two-tailed test)\n",
    "\n",
    "Assuming \\(H_0: \\mu = \\mu_0\\), where \\(\\mu_0\\) is the hypothesized population mean reaction time (for example, the reaction time without caffeine), you can calculate the t-statistic.\n",
    "\n",
    "For a two-tailed test with a 90% confidence level and 29 degrees of freedom (30 participants - 1), you can find the critical t-value. The critical t-value would be approximately \\(t_{\\text{critical}} = \\pm 1.699\\).\n",
    "\n",
    "Now, calculate the t-statistic:\n",
    "\n",
    "\\[ t = \\frac{(0.25 - \\mu_0)}{\\frac{0.05}{\\sqrt{30}}} \\]\n",
    "\n",
    "Compare the calculated t-statistic with the critical t-value. If the calculated t-statistic falls outside the range \\((-1.699, 1.699)\\), you would reject the null hypothesis and conclude that caffeine has a significant effect on reaction time."
   ]
  }
 ],
 "metadata": {
  "kernelspec": {
   "display_name": "stats",
   "language": "python",
   "name": "python3"
  },
  "language_info": {
   "name": "python",
   "version": "3.10.9"
  }
 },
 "nbformat": 4,
 "nbformat_minor": 2
}
