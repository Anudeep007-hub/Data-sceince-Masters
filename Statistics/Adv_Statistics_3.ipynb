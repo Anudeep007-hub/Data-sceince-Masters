{
 "cells": [
  {
   "cell_type": "markdown",
   "metadata": {},
   "source": [
    "Q-1"
   ]
  },
  {
   "cell_type": "markdown",
   "metadata": {},
   "source": [
    "Estimation statistics is a branch of statistics that involves using sample data to make inferences or predictions about population parameters. The goal is to estimate an unknown parameter of a population based on information gathered from a sample of that population.\n",
    "\n",
    "There are two main types of estimation in statistics: point estimation and interval estimation.\n",
    "\n",
    "1. **Point Estimate:**\n",
    "   - A point estimate is a single value that is used to approximate the unknown population parameter.\n",
    "   - It is based on a statistic calculated from the sample data and is used as the best guess for the true value of the parameter.\n",
    "   - Common point estimates include the sample mean (for estimating the population mean), the sample proportion (for estimating the population proportion), and the sample standard deviation (for estimating the population standard deviation).\n",
    "\n",
    "2. **Interval Estimate:**\n",
    "   - An interval estimate, on the other hand, provides a range of values within which the true parameter is believed to lie.\n",
    "   - It consists of a lower and upper bound, creating an interval that is used to express the uncertainty associated with the estimate.\n",
    "   - The interval is constructed around the point estimate and is often expressed with a confidence level, which represents the probability that the interval contains the true parameter.\n",
    "   - Commonly used intervals are confidence intervals. For example, a 95% confidence interval means that we are 95% confident that the interval contains the true parameter.\n",
    "\n",
    "In summary, estimation in statistics involves providing either a single point estimate or an interval estimate to infer the likely range of values for an unknown population parameter based on sample data. Point estimates give a specific value, while interval estimates provide a range along with a level of confidence in the estimation."
   ]
  },
  {
   "cell_type": "markdown",
   "metadata": {},
   "source": [
    "Q-2"
   ]
  },
  {
   "cell_type": "code",
   "execution_count": 5,
   "metadata": {},
   "outputs": [
    {
     "name": "stdout",
     "output_type": "stream",
     "text": [
      "Estimated population mean: 50\n",
      "Standard error of the mean: 1.0\n"
     ]
    }
   ],
   "source": [
    "import numpy as np\n",
    "\n",
    "def estimate_population_mean(sample_mean, sample_std, sample_size):\n",
    "  \"\"\"\n",
    "  Estimates the population mean using a sample mean and standard deviation.\n",
    "\n",
    "  Args:\n",
    "    sample_mean: The mean of the sample.\n",
    "    sample_std: The standard deviation of the sample.\n",
    "    sample_size: The size of the sample.\n",
    "\n",
    "  Returns:\n",
    "    The estimated population mean.\n",
    "  \"\"\"\n",
    "\n",
    "  # Calculate the standard error of the mean.\n",
    "  sem = sample_std / np.sqrt(sample_size)\n",
    "\n",
    "  # Estimate the population mean.\n",
    "  population_mean = sample_mean\n",
    "\n",
    "  return population_mean, sem\n",
    "\n",
    "# Example usage\n",
    "sample_mean = 50\n",
    "sample_std = 10\n",
    "sample_size = 100\n",
    "\n",
    "population_mean, sem = estimate_population_mean(sample_mean, sample_std, sample_size)\n",
    "\n",
    "print(\"Estimated population mean:\", population_mean)\n",
    "print(\"Standard error of the mean:\", sem)\n"
   ]
  },
  {
   "cell_type": "markdown",
   "metadata": {},
   "source": [
    "Q-3"
   ]
  },
  {
   "cell_type": "markdown",
   "metadata": {},
   "source": []
  },
  {
   "cell_type": "markdown",
   "metadata": {},
   "source": [
    "\n",
    "\n",
    "**Hypothesis testing** is a fundamental statistical method used to assess the plausibility of an assumed relationship between variables. It helps us draw conclusions about a **population** based on data collected from a **sample**.\n",
    "\n",
    "Here's the breakdown:\n",
    "\n",
    "**Components:**\n",
    "\n",
    "* **Null hypothesis (H0):** This represents the \"no difference\" scenario, assuming there's no effect or relationship between the variables.\n",
    "* **Alternative hypothesis (H1):** This represents the opposite of the null hypothesis, claiming a difference or relationship exists.\n",
    "* **Test statistic:** This is a numerical value calculated from the sample data to assess how likely the observed results are under the assumption of the null hypothesis being true.\n",
    "* **P-value:** This represents the probability of obtaining results as extreme or more extreme than the observed ones, **assuming the null hypothesis is true**.\n",
    "\n",
    "**Process:**\n",
    "\n",
    "1. Formulate the null and alternative hypotheses based on your research question.\n",
    "2. Collect data from a representative sample of the population.\n",
    "3. Calculate the test statistic based on the chosen statistical test (e.g., t-test, ANOVA).\n",
    "4. Calculate the p-value using the test statistic and sample data.\n",
    "5. Choose a significance level (e.g., alpha = 0.05) to define the threshold for rejecting the null hypothesis.\n",
    "6. Compare the p-value to the significance level:\n",
    "    * **If p-value < alpha:** Reject the null hypothesis, suggesting evidence for the alternative hypothesis.\n",
    "    * **If p-value >= alpha:** Fail to reject the null hypothesis, inconclusive evidence for the alternative hypothesis.\n",
    "\n",
    "**Importance of Hypothesis Testing:**\n",
    "\n",
    "* **Provides objectivity:** Offers a data-driven approach to evaluating claims, reducing bias compared to solely relying on intuition or anecdotal evidence.\n",
    "* **Quantifies evidence strength:** The p-value helps assess the strength of evidence against the null hypothesis, allowing for nuanced interpretations.\n",
    "* **Informs decision-making:** By testing different hypotheses, researchers can make informed decisions about relationships between variables, leading to advancements in various fields.\n",
    "\n",
    "**Limitations:**\n",
    "\n",
    "* **Relies on assumptions:** Statistical tests rely on specific assumptions about the data (e.g., normality, independence), which need to be carefully considered.\n",
    "* **P-value misinterpretations:** P-value doesn't directly measure the truth of the alternative hypothesis, and its interpretation depends on context and chosen significance level.\n",
    "\n",
    "Overall, hypothesis testing is a powerful tool for drawing meaningful conclusions from data and guiding scientific inquiry. However, it's crucial to understand its limitations and use it responsibly for valid and reliable results."
   ]
  },
  {
   "cell_type": "markdown",
   "metadata": {},
   "source": [
    "Q-4"
   ]
  },
  {
   "cell_type": "markdown",
   "metadata": {},
   "source": [
    "**Null Hypothesis (\\(H_0\\)):** \n",
    "The average weight of male college students is equal to or less than the average weight of female college students.\n",
    "\n",
    "**Alternative Hypothesis (\\(H_a\\) or \\(H_1\\)):** \n",
    "The average weight of male college students is greater than the average weight of female college students.\n",
    "\n",
    "Symbolically:\n",
    "\n",
    "\\[ H_0: \\mu_{\\text{male}} \\leq \\mu_{\\text{female}} \\]\n",
    "\n",
    "\\[ H_a: \\mu_{\\text{male}} > \\mu_{\\text{female}} \\]\n",
    "\n",
    "Here:\n",
    "- \\( \\mu_{\\text{male}} \\) represents the population mean weight of male college students.\n",
    "- \\( \\mu_{\\text{female}} \\) represents the population mean weight of female college students.\n",
    "\n",
    "This hypothesis sets up a scenario to test whether there is evidence to suggest that, on average, male college students weigh more than female college students. The null hypothesis assumes either equality or that male students weigh less than or equal to female students, and the alternative hypothesis suggests that male students weigh more."
   ]
  },
  {
   "cell_type": "markdown",
   "metadata": {},
   "source": [
    "Q-5"
   ]
  },
  {
   "cell_type": "code",
   "execution_count": 2,
   "metadata": {},
   "outputs": [
    {
     "name": "stdout",
     "output_type": "stream",
     "text": [
      "Two-Sample T-Test Results:\n",
      "T-Statistic: -2.0247863774280788\n",
      "P-Value: 0.04566421221984691\n",
      "Reject the null hypothesis at 0.05 significance level\n"
     ]
    }
   ],
   "source": [
    "import numpy as np\n",
    "from scipy import stats\n",
    "\n",
    "def two_sample_t_test(sample1, sample2, alpha=0.05):\n",
    "    \"\"\"\n",
    "    Perform a two-sample t-test for the difference between population means.\n",
    "\n",
    "    Parameters:\n",
    "    - sample1: First sample data.\n",
    "    - sample2: Second sample data.\n",
    "    - alpha: Significance level (default is 0.05).\n",
    "\n",
    "    Returns:\n",
    "    - t_statistic: The calculated t-statistic.\n",
    "    - p_value: The p-value for the test.\n",
    "    - result: A string indicating whether to reject the null hypothesis or not.\n",
    "    \"\"\"\n",
    "\n",
    "    # Calculate the t-statistic and p-value\n",
    "    t_statistic, p_value = stats.ttest_ind(sample1, sample2, equal_var=False)\n",
    "\n",
    "    # Compare p-value to the significance level\n",
    "    if p_value < alpha:\n",
    "        result = f\"Reject the null hypothesis at {alpha} significance level\"\n",
    "    else:\n",
    "        result = f\"Fail to reject the null hypothesis at {alpha} significance level\"\n",
    "\n",
    "    return t_statistic, p_value, result\n",
    "\n",
    "# Example usage:\n",
    "# Replace sample1 and sample2 with your actual sample data\n",
    "sample1 = np.random.normal(loc=10, scale=3, size=50)\n",
    "sample2 = np.random.normal(loc=12, scale=3, size=50)\n",
    "\n",
    "t_stat, p_val, test_result = two_sample_t_test(sample1, sample2)\n",
    "\n",
    "print(f\"Two-Sample T-Test Results:\")\n",
    "print(f\"T-Statistic: {t_stat}\")\n",
    "print(f\"P-Value: {p_val}\")\n",
    "print(test_result)\n"
   ]
  },
  {
   "cell_type": "markdown",
   "metadata": {},
   "source": [
    "Q-6"
   ]
  },
  {
   "cell_type": "markdown",
   "metadata": {},
   "source": [
    "**Null Hypothesis (\\(H_0\\)):**\n",
    "The null hypothesis is a statement that there is no significant difference, effect, or relationship. It often represents a default or baseline assumption that there is no change or no effect. In statistical hypothesis testing, the null hypothesis is what researchers typically test against. It is denoted as \\(H_0\\).\n",
    "\n",
    "**Alternative Hypothesis (\\(H_a\\) or \\(H_1\\)):**\n",
    "The alternative hypothesis is a statement that contradicts the null hypothesis. It suggests that there is a significant difference, effect, or relationship in the population. It is what researchers are often trying to find evidence for. It is denoted as \\(H_a\\) or \\(H_1\\).\n",
    "\n",
    "Here are some examples to illustrate the concept:\n",
    "\n",
    "1. **Example for a Mean Comparison (Two-Sample T-Test):**\n",
    "   - **Null Hypothesis (\\(H_0\\)):** The average test scores of students using Method A and Method B are equal.\n",
    "   - **Alternative Hypothesis (\\(H_a\\)):** The average test scores of students using Method A are different from those using Method B.\n",
    "\n",
    "2. **Example for a Proportion Comparison (Chi-Square Test):**\n",
    "   - **Null Hypothesis (\\(H_0\\)):** The proportion of people who prefer Brand X is equal to the proportion who prefer Brand Y.\n",
    "   - **Alternative Hypothesis (\\(H_a\\)):** The proportion of people who prefer Brand X is different from the proportion who prefer Brand Y.\n",
    "\n",
    "3. **Example for a Correlation Test:**\n",
    "   - **Null Hypothesis (\\(H_0\\)):** There is no correlation between the hours of study and exam scores.\n",
    "   - **Alternative Hypothesis (\\(H_a\\)):** There is a significant correlation between the hours of study and exam scores.\n",
    "\n",
    "4. **Example for a Difference in Means (Paired T-Test):**\n",
    "   - **Null Hypothesis (\\(H_0\\)):** There is no difference in blood pressure before and after the treatment.\n",
    "   - **Alternative Hypothesis (\\(H_a\\)):** There is a significant difference in blood pressure before and after the treatment.\n",
    "\n",
    "These examples represent different types of hypotheses used in hypothesis testing across various statistical tests. The specific formulation depends on the nature of the study and the type of analysis being conducted."
   ]
  },
  {
   "cell_type": "markdown",
   "metadata": {},
   "source": [
    "Q-7"
   ]
  },
  {
   "cell_type": "markdown",
   "metadata": {},
   "source": [
    "Hypothesis testing is a statistical method used to make inferences about a population based on a sample of data. Here are the general steps involved in hypothesis testing:\n",
    "\n",
    "1. **Formulate the Hypotheses:**\n",
    "   - **Null Hypothesis (\\(H_0\\)):** States there is no effect, no difference, or no change.\n",
    "   - **Alternative Hypothesis (\\(H_a\\) or \\(H_1\\)):** States there is a significant effect, difference, or change.\n",
    "\n",
    "2. **Choose the Significance Level (\\(\\alpha\\)):**\n",
    "   - The significance level (\\(\\alpha\\)) represents the probability of rejecting the null hypothesis when it is true. Common choices are 0.05, 0.01, or 0.10.\n",
    "\n",
    "3. **Select the Test Statistic:**\n",
    "   - Choose a statistical test that is appropriate for the type of data and the hypotheses being tested (e.g., t-test, chi-square test, ANOVA).\n",
    "\n",
    "4. **Collect and Prepare Data:**\n",
    "   - Collect a sample of data relevant to the hypothesis being tested. Ensure the data meets the assumptions of the selected statistical test.\n",
    "\n",
    "5. **Compute the Test Statistic:**\n",
    "   - Use the collected data to calculate the test statistic based on the chosen statistical test. This involves comparing the observed data to what would be expected under the null hypothesis.\n",
    "\n",
    "6. **Determine the Critical Region:**\n",
    "   - Identify the critical region (rejection region) in the distribution of the test statistic, based on the chosen significance level (\\(\\alpha\\)).\n",
    "\n",
    "7. **Make a Decision:**\n",
    "   - Compare the calculated test statistic to the critical value from the distribution. If the test statistic falls into the critical region, reject the null hypothesis; otherwise, fail to reject the null hypothesis.\n",
    "\n",
    "8. **Draw Conclusions:**\n",
    "   - Based on the decision in step 7, draw conclusions about the null hypothesis and make inferences about the population. If the null hypothesis is rejected, consider the practical significance of the result.\n",
    "\n",
    "9. **Interpret the Results:**\n",
    "   - Provide a clear interpretation of the statistical results in the context of the research question. Consider the implications of the findings and discuss any limitations or potential sources of error.\n",
    "\n",
    "10. **Document and Communicate:**\n",
    "    - Document the entire hypothesis testing process, including the hypotheses, methodology, results, and conclusions. Communicate the findings clearly and transparently.\n",
    "\n",
    "These steps provide a structured framework for conducting hypothesis testing, helping researchers make informed decisions about population parameters based on sample data."
   ]
  },
  {
   "cell_type": "markdown",
   "metadata": {},
   "source": [
    "Q-8"
   ]
  },
  {
   "cell_type": "markdown",
   "metadata": {},
   "source": [
    "The p-value, or probability value, is a measure used in hypothesis testing to determine the evidence against a null hypothesis. It quantifies the strength of the evidence provided by the sample data against the null hypothesis. Specifically, the p-value represents the probability of obtaining results as extreme as, or more extreme than, the observed results, assuming that the null hypothesis is true.\n",
    "\n",
    "Here are key points about p-values and their significance in hypothesis testing:\n",
    "\n",
    "1. **Interpretation of the p-value:**\n",
    "   - A low p-value (typically less than the chosen significance level \\(\\alpha\\)) indicates strong evidence against the null hypothesis. Researchers may reject the null hypothesis in favor of the alternative hypothesis.\n",
    "   - A high p-value suggests weak evidence against the null hypothesis. Researchers may fail to reject the null hypothesis.\n",
    "\n",
    "2. **Significance Level (\\(\\alpha\\)):**\n",
    "   - The significance level (\\(\\alpha\\)) is predetermined by the researcher and represents the probability of making a Type I error (incorrectly rejecting a true null hypothesis). Common choices for \\(\\alpha\\) include 0.05, 0.01, or 0.10.\n",
    "\n",
    "3. **Decision Rule:**\n",
    "   - If the p-value is less than or equal to the significance level (\\(p \\leq \\alpha\\)), researchers reject the null hypothesis.\n",
    "   - If the p-value is greater than the significance level (\\(p > \\alpha\\)), researchers fail to reject the null hypothesis.\n",
    "\n",
    "4. **Relationship with Confidence Intervals:**\n",
    "   - A small p-value corresponds to a narrow confidence interval, and vice versa. Both are ways of expressing the precision of the estimate and the strength of the evidence against the null hypothesis.\n",
    "\n",
    "5. **Caution in Interpretation:**\n",
    "   - A p-value alone does not provide information about the size of the effect or the practical significance of the result. Even a statistically significant result may not be practically significant.\n",
    "   - The p-value is not the probability of the null hypothesis being true or false; it only reflects the evidence against the null hypothesis given the data.\n",
    "\n",
    "6. **Consideration of Multiple Testing:**\n",
    "   - When conducting multiple tests, the likelihood of observing a significant result by chance increases. Researchers may adjust the significance level or use methods like Bonferroni correction to account for multiple comparisons.\n",
    "\n",
    "In summary, the p-value is a crucial metric in hypothesis testing, providing a quantitative measure of the evidence against the null hypothesis. Researchers use it to make decisions about rejecting or failing to reject the null hypothesis based on the observed data and the chosen significance level."
   ]
  },
  {
   "cell_type": "markdown",
   "metadata": {},
   "source": [
    "Q-9"
   ]
  },
  {
   "cell_type": "code",
   "execution_count": 2,
   "metadata": {},
   "outputs": [
    {
     "data": {
      "image/png": "[encoded data removed]",
      "text/plain": [
       "<Figure size 640x480 with 1 Axes>"
      ]
     },
     "metadata": {},
     "output_type": "display_data"
    }
   ],
   "source": [
    "import numpy as np\n",
    "import matplotlib.pyplot as plt\n",
    "from scipy.stats import t\n",
    "\n",
    "# Set the degrees of freedom\n",
    "degrees_of_freedom = 10\n",
    "\n",
    "# Generate x values\n",
    "x_values = np.linspace(-4, 4, 1000)\n",
    "\n",
    "# Calculate the probability density function (PDF) for each x value\n",
    "pdf_values = t.pdf(x_values, df=degrees_of_freedom)\n",
    "\n",
    "# Plot the t-distribution\n",
    "plt.plot(x_values, pdf_values, label=f'Student\\'s t-distribution (df={degrees_of_freedom})')\n",
    "plt.title('Student\\'s t-distribution')\n",
    "plt.xlabel('x')\n",
    "plt.ylabel('Probability Density Function (PDF)')\n",
    "plt.legend()\n",
    "plt.grid(True)\n",
    "plt.show()\n",
    "\n"
   ]
  },
  {
   "cell_type": "markdown",
   "metadata": {},
   "source": [
    "Q-10"
   ]
  },
  {
   "cell_type": "code",
   "execution_count": 3,
   "metadata": {},
   "outputs": [
    {
     "name": "stdout",
     "output_type": "stream",
     "text": [
      "Two-Sample T-Test Results:\n",
      "T-Statistic: 0.18429888304287245\n",
      "P-Value: 0.8541598214011199\n"
     ]
    }
   ],
   "source": [
    "import numpy as np\n",
    "from scipy import stats\n",
    "\n",
    "def two_sample_t_test(sample1, sample2):\n",
    "    \"\"\"\n",
    "    Perform a two-sample t-test for independent samples with equal population means.\n",
    "\n",
    "    Parameters:\n",
    "    - sample1: First sample data.\n",
    "    - sample2: Second sample data.\n",
    "\n",
    "    Returns:\n",
    "    - t_statistic: The calculated t-statistic.\n",
    "    - p_value: The p-value for the test.\n",
    "    \"\"\"\n",
    "\n",
    "    # Calculate the t-statistic and p-value\n",
    "    t_statistic, p_value = stats.ttest_ind(sample1, sample2)\n",
    "\n",
    "    return t_statistic, p_value\n",
    "\n",
    "# Example usage:\n",
    "# Replace sample1 and sample2 with your actual sample data\n",
    "sample_size = 50\n",
    "sample1 = np.random.normal(loc=10, scale=3, size=sample_size)\n",
    "sample2 = np.random.normal(loc=10, scale=3, size=sample_size)\n",
    "\n",
    "t_stat, p_val = two_sample_t_test(sample1, sample2)\n",
    "\n",
    "print(f\"Two-Sample T-Test Results:\")\n",
    "print(f\"T-Statistic: {t_stat}\")\n",
    "print(f\"P-Value: {p_val}\")\n"
   ]
  },
  {
   "cell_type": "markdown",
   "metadata": {},
   "source": [
    "Q-11"
   ]
  },
  {
   "cell_type": "markdown",
   "metadata": {},
   "source": [
    "The Student's t-distribution, or simply the t-distribution, is a probability distribution that is used in hypothesis testing and constructing confidence intervals for the mean of a population when the sample size is small and/or the population standard deviation is unknown. It is similar to the normal distribution but has heavier tails.\n",
    "\n",
    "### Characteristics of the t-distribution:\n",
    "1. **Shape:**\n",
    "   - The t-distribution is symmetric and bell-shaped like the normal distribution.\n",
    "   - The shape depends on the degrees of freedom (\\(df\\)) parameter.\n",
    "   - As \\(df\\) increases, the t-distribution approaches the shape of the normal distribution.\n",
    "\n",
    "2. **Heavier Tails:**\n",
    "   - Compared to the normal distribution, the t-distribution has heavier tails, making it more robust to outliers.\n",
    "\n",
    "3. **Degrees of Freedom (\\(df\\)):**\n",
    "   - The degrees of freedom parameter (\\(df\\)) determines the shape of the distribution.\n",
    "   - As \\(df\\) increases, the t-distribution becomes more similar to the normal distribution.\n",
    "\n",
    "### When to use the t-Distribution:\n",
    "The t-distribution is commonly used in the following situations:\n",
    "\n",
    "1. **Small Sample Sizes:**\n",
    "   - When dealing with small sample sizes (typically \\(n < 30\\)), the t-distribution is more appropriate than the normal distribution for making inferences about the population mean.\n",
    "\n",
    "2. **Unknown Population Standard Deviation:**\n",
    "   - When the population standard deviation is unknown, and it needs to be estimated from the sample data, the t-distribution is used in the calculation of confidence intervals and hypothesis tests.\n",
    "\n",
    "3. **Comparing Means:**\n",
    "   - In situations where you are comparing means (e.g., in a two-sample t-test), especially when the sample sizes are small, the t-distribution is used.\n",
    "\n"
   ]
  },
  {
   "cell_type": "markdown",
   "metadata": {},
   "source": [
    "Q-12"
   ]
  },
  {
   "cell_type": "markdown",
   "metadata": {},
   "source": [
    "The t-statistic is a measure used in hypothesis testing to determine if the mean of a sample is significantly different from a known or hypothesized population mean. It is specifically used in cases where the population standard deviation is unknown and must be estimated from the sample data. The t-statistic is calculated using the following formula:\n",
    "\n",
    "t = (sample mean - population mean under null hypothesis)/\n",
    "    ((sample std)/(sqrt(sample size)))\n",
    "\n",
    "\n",
    "\n",
    "The t-statistic essentially measures how many standard errors the sample mean is away from the hypothesized population mean. The larger the t-statistic, the more evidence there is against the null hypothesis.\n",
    "\n",
    "In hypothesis testing, the calculated t-statistic is compared to critical values from the t-distribution to determine whether to reject the null hypothesis. The degrees of freedom (\\(df\\)) for the t-distribution are usually determined by the sample size (\\(n\\)) minus 1 (\\(df = n - 1\\))."
   ]
  },
  {
   "cell_type": "markdown",
   "metadata": {},
   "source": [
    "Q-13"
   ]
  },
  {
   "cell_type": "code",
   "execution_count": 4,
   "metadata": {},
   "outputs": [
    {
     "name": "stdout",
     "output_type": "stream",
     "text": [
      "95% Confidence Interval: $486.14 to $513.86\n"
     ]
    }
   ],
   "source": [
    "import math\n",
    "\n",
    "# Given data\n",
    "sample_mean = 500\n",
    "sample_std_dev = 50\n",
    "sample_size = 50\n",
    "confidence_level = 0.95\n",
    "\n",
    "# Calculate the standard error of the mean\n",
    "standard_error = sample_std_dev / math.sqrt(sample_size)\n",
    "\n",
    "# Find the critical value (z-score) for the 95% confidence level\n",
    "z_score = 1.96\n",
    "\n",
    "# Calculate the margin of error\n",
    "margin_of_error = z_score * standard_error\n",
    "\n",
    "# Calculate the confidence interval\n",
    "lower_bound = sample_mean - margin_of_error\n",
    "upper_bound = sample_mean + margin_of_error\n",
    "\n",
    "# Print the confidence interval\n",
    "print(f\"95% Confidence Interval: ${lower_bound:.2f} to ${upper_bound:.2f}\")\n"
   ]
  },
  {
   "cell_type": "markdown",
   "metadata": {},
   "source": [
    "Q-14"
   ]
  },
  {
   "cell_type": "code",
   "execution_count": 5,
   "metadata": {},
   "outputs": [
    {
     "name": "stdout",
     "output_type": "stream",
     "text": [
      "95% Confidence Interval: $486.14 to $513.86\n"
     ]
    }
   ],
   "source": [
    "import math\n",
    "\n",
    "# Given data\n",
    "sample_mean = 500\n",
    "sample_std_dev = 50\n",
    "sample_size = 50\n",
    "confidence_level = 0.95\n",
    "\n",
    "# Calculate the standard error of the mean\n",
    "standard_error = sample_std_dev / math.sqrt(sample_size)\n",
    "\n",
    "# Find the critical value (z-score) for the 95% confidence level\n",
    "z_score = 1.96\n",
    "\n",
    "# Calculate the margin of error\n",
    "margin_of_error = z_score * standard_error\n",
    "\n",
    "# Calculate the confidence interval\n",
    "lower_bound = sample_mean - margin_of_error\n",
    "upper_bound = sample_mean + margin_of_error\n",
    "\n",
    "# Print the confidence interval\n",
    "print(f\"95% Confidence Interval: ${lower_bound:.2f} to ${upper_bound:.2f}\")\n"
   ]
  },
  {
   "cell_type": "markdown",
   "metadata": {},
   "source": [
    "Q-15"
   ]
  },
  {
   "cell_type": "code",
   "execution_count": 6,
   "metadata": {},
   "outputs": [
    {
     "name": "stdout",
     "output_type": "stream",
     "text": [
      "t-statistic: -6.6667\n",
      "Critical Value: 1.9842\n",
      "P-Value: 0.0000\n",
      "Reject the null hypothesis at the 0.05 significance level.\n"
     ]
    }
   ],
   "source": [
    "import math\n",
    "from scipy import stats\n",
    "\n",
    "# Given data\n",
    "sample_mean = 8\n",
    "hypothesized_mean = 10\n",
    "sample_std_dev = 3\n",
    "sample_size = 100\n",
    "significance_level = 0.05\n",
    "\n",
    "# Calculate the t-statistic\n",
    "t_statistic = (sample_mean - hypothesized_mean) / (sample_std_dev / math.sqrt(sample_size))\n",
    "\n",
    "# Calculate the degrees of freedom\n",
    "degrees_of_freedom = sample_size - 1\n",
    "\n",
    "# Find the critical value for a two-tailed test\n",
    "critical_value = stats.t.ppf(1 - significance_level / 2, degrees_of_freedom)\n",
    "\n",
    "# Compare the t-statistic with the critical value\n",
    "p_value = 2 * (1 - stats.t.cdf(abs(t_statistic), degrees_of_freedom))\n",
    "\n",
    "# Print the results\n",
    "print(f\"t-statistic: {t_statistic:.4f}\")\n",
    "print(f\"Critical Value: {critical_value:.4f}\")\n",
    "print(f\"P-Value: {p_value:.4f}\")\n",
    "\n",
    "# Test the hypothesis\n",
    "if abs(t_statistic) > critical_value:\n",
    "    print(\"Reject the null hypothesis at the 0.05 significance level.\")\n",
    "else:\n",
    "    print(\"Fail to reject the null hypothesis at the 0.05 significance level.\")\n"
   ]
  },
  {
   "cell_type": "markdown",
   "metadata": {},
   "source": [
    "Q-16"
   ]
  },
  {
   "cell_type": "code",
   "execution_count": 8,
   "metadata": {},
   "outputs": [
    {
     "name": "stdout",
     "output_type": "stream",
     "text": [
      "F-Statistic: 1.5625\n",
      "P-Value: 0.1925\n",
      "Fail to reject the null hypothesis at the 0.01 significance level (No significant difference in variances).\n"
     ]
    }
   ],
   "source": [
    "import numpy as np\n",
    "from scipy.stats import f\n",
    "\n",
    "# Given data for Group 1\n",
    "std_dev1 = 10\n",
    "sample_size1 = 30\n",
    "\n",
    "# Given data for Group 2\n",
    "std_dev2 = 8\n",
    "sample_size2 = 40\n",
    "\n",
    "# Perform F-test for equality of variances\n",
    "f_statistic = (std_dev1**2) / (std_dev2**2)\n",
    "df1 = sample_size1 - 1\n",
    "df2 = sample_size2 - 1\n",
    "p_value = 2 * min(f.cdf(f_statistic, df1, df2), 1 - f.cdf(f_statistic, df1, df2))\n",
    "\n",
    "# Significance level\n",
    "alpha = 0.01\n",
    "\n",
    "# Print the results\n",
    "print(f\"F-Statistic: {f_statistic:.4f}\")\n",
    "print(f\"P-Value: {p_value:.4f}\")\n",
    "\n",
    "# Test the hypothesis\n",
    "if p_value < alpha:\n",
    "    print(\"Reject the null hypothesis at the 0.01 significance level (Variances are significantly different).\")\n",
    "else:\n",
    "    print(\"Fail to reject the null hypothesis at the 0.01 significance level (No significant difference in variances).\")\n"
   ]
  },
  {
   "cell_type": "markdown",
   "metadata": {},
   "source": [
    "Q-17"
   ]
  },
  {
   "cell_type": "code",
   "execution_count": 9,
   "metadata": {},
   "outputs": [
    {
     "name": "stdout",
     "output_type": "stream",
     "text": [
      "99% Confidence Interval: 3.4429 to 4.5571\n"
     ]
    }
   ],
   "source": [
    "import math\n",
    "\n",
    "# Given data\n",
    "sample_mean = 4\n",
    "sample_std_dev = 1.5\n",
    "sample_size = 50\n",
    "confidence_level = 0.99\n",
    "\n",
    "# Calculate the standard error of the mean\n",
    "standard_error = sample_std_dev / math.sqrt(sample_size)\n",
    "\n",
    "# Find the critical value (z-score) for the 99% confidence level\n",
    "z_score = 2.626\n",
    "\n",
    "# Calculate the margin of error\n",
    "margin_of_error = z_score * standard_error\n",
    "\n",
    "# Calculate the confidence interval\n",
    "lower_bound = sample_mean - margin_of_error\n",
    "upper_bound = sample_mean + margin_of_error\n",
    "\n",
    "# Print the confidence interval\n",
    "print(f\"99% Confidence Interval: {lower_bound:.4f} to {upper_bound:.4f}\")\n"
   ]
  }
 ],
 "metadata": {
  "kernelspec": {
   "display_name": "Python 3",
   "language": "python",
   "name": "python3"
  },
  "language_info": {
   "codemirror_mode": {
    "name": "ipython",
    "version": 3
   },
   "file_extension": ".py",
   "mimetype": "text/x-python",
   "name": "python",
   "nbconvert_exporter": "python",
   "pygments_lexer": "ipython3",
   "version": "3.10.9"
  }
 },
 "nbformat": 4,
 "nbformat_minor": 2
}
