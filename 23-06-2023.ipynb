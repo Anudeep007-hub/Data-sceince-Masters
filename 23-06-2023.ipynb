{
 "cells": [
  {
   "cell_type": "markdown",
   "id": "538b54b1-9c98-4475-9c3b-4bc7026e97ca",
   "metadata": {},
   "source": [
    "Q1\n"
   ]
  },
  {
   "cell_type": "code",
   "execution_count": 4,
   "id": "531bf79c-2b35-40b2-ae33-68b432b4bee0",
   "metadata": {},
   "outputs": [],
   "source": [
    "class Vehicle:\n",
    "    def __init__(self, name_of_vehicle, max_speed, average_of_vehicle):\n",
    "        self.name_of_vehicle = name_of_vehicle\n",
    "        self.max_speed = max_speed\n",
    "        self.average_of_vehicle = average_of_vehicle\n",
    "\n",
    "\n",
    "        "
   ]
  },
  {
   "cell_type": "markdown",
   "id": "2aa8f24a-8eaa-49bd-8b69-8a3c570bcc52",
   "metadata": {},
   "source": [
    "Q2"
   ]
  },
  {
   "cell_type": "code",
   "execution_count": 1,
   "id": "ee6e23e1-4277-4a25-bf1d-bcaedad4b2b3",
   "metadata": {},
   "outputs": [
    {
     "name": "stdout",
     "output_type": "stream",
     "text": [
      "The Tesla Model S has a seating capacity of 5.\n"
     ]
    }
   ],
   "source": [
    "class Vehicle:\n",
    "    def __init__(self, name_of_vehicle, max_speed, average_of_vehicle):\n",
    "        self.name_of_vehicle = name_of_vehicle\n",
    "        self.max_speed = max_speed\n",
    "        self.average_of_vehicle = average_of_vehicle\n",
    "\n",
    "class Car(Vehicle):\n",
    "    def seating_capacity(self, capacity):\n",
    "        return f\"The {self.name_of_vehicle} has a seating capacity of {capacity}.\"\n",
    "\n",
    "# Example usage\n",
    "my_car = Car(\"Tesla Model S\", 250, 25.5)\n",
    "print(my_car.seating_capacity(5))"
   ]
  },
  {
   "cell_type": "markdown",
   "id": "c29b7310-646a-4784-b2bf-61c7d6d24fab",
   "metadata": {},
   "source": [
    "Q3"
   ]
  },
  {
   "cell_type": "code",
   "execution_count": 2,
   "id": "bff80d32-b767-4360-b60a-897d677d2179",
   "metadata": {},
   "outputs": [
    {
     "name": "stdout",
     "output_type": "stream",
     "text": [
      "This is a Tesla Model S.\n",
      "The maximum speed is 250 km/h.\n",
      "Engine started.\n"
     ]
    }
   ],
   "source": [
    "class Vehicle:\n",
    "    def __init__(self, name_of_vehicle):\n",
    "        self.name_of_vehicle = name_of_vehicle\n",
    "\n",
    "    def display_info(self):\n",
    "        print(f\"This is a {self.name_of_vehicle}.\")\n",
    "\n",
    "class Engine:\n",
    "    def start_engine(self):\n",
    "        print(\"Engine started.\")\n",
    "\n",
    "class Car(Vehicle, Engine):\n",
    "    def __init__(self, name_of_vehicle, max_speed):\n",
    "        Vehicle.__init__(self, name_of_vehicle)\n",
    "        self.max_speed = max_speed\n",
    "\n",
    "    def display_info(self):\n",
    "        super().display_info()\n",
    "        print(f\"The maximum speed is {self.max_speed} km/h.\")\n",
    "\n",
    "# Example usage\n",
    "my_car = Car(\"Tesla Model S\", 250)\n",
    "my_car.display_info()\n",
    "my_car.start_engine()\n"
   ]
  },
  {
   "cell_type": "markdown",
   "id": "c4a3ab4e-0ae1-4001-8df2-ea6c2747f2ef",
   "metadata": {},
   "source": [
    "Q4"
   ]
  },
  {
   "cell_type": "markdown",
   "id": "3a1ca7ae-f7e0-4321-9829-43d0393c9977",
   "metadata": {},
   "source": [
    "In Python, getters and setters are methods used to access and modify the values of class attributes, providing control over attribute access and modification. Getters are used to retrieve the value of an attribute, while setters are used to set or modify the value of an attribute.\n",
    "\n",
    "Here's an example class that demonstrates the use of a getter and a setter in Python: \n",
    "\n"
   ]
  },
  {
   "cell_type": "code",
   "execution_count": 4,
   "id": "4dd5cc4f-de5e-47e8-8b8f-e7f06ab2bee3",
   "metadata": {},
   "outputs": [
    {
     "name": "stdout",
     "output_type": "stream",
     "text": [
      "5\n",
      "7\n"
     ]
    }
   ],
   "source": [
    "class Circle:\n",
    "    def __init__(self, radius):\n",
    "        self._radius = radius\n",
    "\n",
    "    def get_radius(self):\n",
    "        return self._radius\n",
    "\n",
    "    def set_radius(self, radius):\n",
    "        if radius >= 0:\n",
    "            self._radius = radius\n",
    "        else:\n",
    "            raise ValueError(\"Radius must be non-negative.\")\n",
    "\n",
    "# Example usage\n",
    "my_circle = Circle(5)\n",
    "print(my_circle.get_radius())  # Output: 5\n",
    "\n",
    "my_circle.set_radius(7)\n",
    "print(my_circle.get_radius())  # Output: 7\n",
    "\n",
    "\n"
   ]
  },
  {
   "cell_type": "markdown",
   "id": "68de199f-97fb-4a7b-81db-1f7721131c2d",
   "metadata": {},
   "source": [
    "Q5"
   ]
  },
  {
   "cell_type": "code",
   "execution_count": null,
   "id": "08b38550-d7db-477e-8f4f-8fe37dd291a7",
   "metadata": {},
   "outputs": [],
   "source": [
    "Method overriding is a concept in object-oriented programming where a subclass provides its own implementation of a method that is already defined in its superclass. This allows the subclass to modify or extend the behavior of the inherited method.\n",
    "\n",
    "Here's an example code that demonstrates method overriding in Python:"
   ]
  }
 ],
 "metadata": {
  "kernelspec": {
   "display_name": "Python 3 (ipykernel)",
   "language": "python",
   "name": "python3"
  },
  "language_info": {
   "codemirror_mode": {
    "name": "ipython",
    "version": 3
   },
   "file_extension": ".py",
   "mimetype": "text/x-python",
   "name": "python",
   "nbconvert_exporter": "python",
   "pygments_lexer": "ipython3",
   "version": "3.10.8"
  }
 },
 "nbformat": 4,
 "nbformat_minor": 5
}
