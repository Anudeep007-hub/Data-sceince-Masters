{
 "cells": [
  {
   "cell_type": "markdown",
   "metadata": {},
   "source": [
    "### Q1:What is the difference between Ordinal Encoding and Label Encoding? Provide an example of when you might choose one over the other."
   ]
  },
  {
   "cell_type": "markdown",
   "metadata": {},
   "source": [
    "Ordinal encoding and label encoding are both techniques used in machine learning to convert categorical data into numerical format. However, they differ in how they handle the encoding process.\n",
    "\n",
    "1. **Ordinal Encoding:**\n",
    "   - Ordinal encoding assigns each unique category a unique integer value based on the order or rank of the categories.\n",
    "   - The assigned integers preserve the ordinal relationship between the categories.\n",
    "   - It is suitable for categorical variables where there is an inherent order or hierarchy among the categories.\n",
    "   - Examples include low, medium, high or small, medium, large.\n",
    "\n",
    "Example:\n",
    "Suppose we have a dataset with a \"Size\" feature containing categories 'Small', 'Medium', and 'Large'. Ordinal encoding might assign 'Small' as 0, 'Medium' as 1, and 'Large' as 2.\n",
    "\n",
    "2. **Label Encoding:**\n",
    "   - Label encoding assigns each unique category a unique integer value without considering any order or rank.\n",
    "   - It is suitable for categorical variables where there is no inherent order or the order is not important.\n",
    "   - It's often used when converting categorical labels into numerical format for algorithms that require numerical input.\n",
    "\n",
    "Example:\n",
    "Suppose we have a dataset with a \"Color\" feature containing categories 'Red', 'Green', and 'Blue'. Label encoding might assign 'Red' as 0, 'Green' as 1, and 'Blue' as 2.\n",
    "\n",
    "When to choose one over the other:\n",
    "- Choose ordinal encoding when the categorical variable has a meaningful order or hierarchy, and preserving this order is important for the analysis or model.\n",
    "- Choose label encoding when the categorical variable does not have an inherent order, or when preserving the order is not necessary for the analysis or model. Label encoding is often used with algorithms that don't assume any ordinal relationship between the categories, such as decision trees or random forests.\n",
    "\n",
    "In summary, the choice between ordinal encoding and label encoding depends on the nature of the categorical variable and the requirements of the machine learning task at hand."
   ]
  },
  {
   "cell_type": "markdown",
   "metadata": {},
   "source": [
    "### Q2: Explain how Target Guided Ordinal Encoding works and provide an example of when you might use it in a machine learning project."
   ]
  },
  {
   "cell_type": "markdown",
   "metadata": {},
   "source": [
    "Target-guided ordinal encoding is a technique used to encode categorical variables based on the target variable in a supervised machine learning problem. The idea is to encode categorical variables in a way that captures the relationship between the categorical variable and the target variable.\n",
    "\n",
    "Here's how target-guided ordinal encoding typically works:\n",
    "\n",
    "1. **Calculate the Mean/Median/Mode of the Target Variable for Each Category:**\n",
    "   - For each category in the categorical variable, calculate a summary statistic of the target variable. This could be the mean, median, or mode of the target variable for each category.\n",
    "\n",
    "2. **Order Categories Based on Target Variable Summary Statistic:**\n",
    "   - Order the categories based on the calculated summary statistic of the target variable. For example, if using the mean, order the categories from the category with the lowest mean target variable value to the category with the highest mean target variable value.\n",
    "\n",
    "3. **Assign Ordinal Labels:**\n",
    "   - Assign ordinal labels to the categories based on their order. The category with the lowest summary statistic value gets assigned the lowest label, and so on.\n",
    "\n",
    "4. **Replace Categories with Ordinal Labels:**\n",
    "   - Replace the original categorical values with their corresponding ordinal labels.\n",
    "\n",
    "Example:\n",
    "Suppose we have a dataset with a categorical variable \"Education Level\" and a binary target variable indicating whether a person defaults on a loan (1 for default, 0 for non-default). We want to encode \"Education Level\" using target-guided ordinal encoding.\n",
    "\n",
    "1. Calculate the mean of the target variable (default rate) for each category of \"Education Level\":\n",
    "   - High School: Mean default rate = 0.25\n",
    "   - Bachelor's: Mean default rate = 0.15\n",
    "   - Master's: Mean default rate = 0.10\n",
    "   - PhD: Mean default rate = 0.05\n",
    "\n",
    "2. Order the categories based on the mean default rate:\n",
    "   - PhD (lowest default rate)\n",
    "   - Master's\n",
    "   - Bachelor's\n",
    "   - High School (highest default rate)\n",
    "\n",
    "3. Assign ordinal labels:\n",
    "   - PhD: 1\n",
    "   - Master's: 2\n",
    "   - Bachelor's: 3\n",
    "   - High School: 4\n",
    "\n",
    "4. Replace original categories with ordinal labels in the dataset.\n",
    "\n",
    "When to use target-guided ordinal encoding:\n",
    "- Target-guided ordinal encoding is useful when there is a strong relationship between the categorical variable and the target variable, and you want to capture this relationship in the encoding.\n",
    "- It can be particularly helpful when dealing with categorical variables with many levels, as it reduces the dimensionality while preserving the predictive power of the variable.\n",
    "- It's commonly used in classification problems where encoding categorical variables effectively contributes to the predictive performance of the model."
   ]
  },
  {
   "cell_type": "markdown",
   "metadata": {},
   "source": [
    "### Q3:Define covariance and explain why it is important in statistical analysis. How is covariance calculated?"
   ]
  },
  {
   "cell_type": "markdown",
   "metadata": {},
   "source": [
    "Covariance is a statistical measure that quantifies the degree to which two random variables change together. In other words, it measures the directional relationship between two variables. Specifically, covariance indicates whether the variables tend to increase or decrease together, or if they move in opposite directions.\n",
    "\n",
    "Here's why covariance is important in statistical analysis:\n",
    "\n",
    "1. **Measure of Relationship:** Covariance provides insight into the relationship between two variables. A positive covariance indicates that the variables tend to move in the same direction, while a negative covariance indicates that they move in opposite directions.\n",
    "\n",
    "2. **Directionality:** Covariance doesn't specify the strength of the relationship between variables, but it does indicate the direction of the relationship. This information can be valuable for understanding how changes in one variable may impact another.\n",
    "\n",
    "3. **Useful in Modeling:** Covariance is used in various statistical techniques and models, such as linear regression and portfolio theory in finance. In regression analysis, for example, covariance helps assess the relationship between the independent and dependent variables.\n",
    "\n",
    "4. **Risk Assessment:** In finance, covariance is essential for understanding the relationship between different assets in a portfolio. It helps investors assess the diversification benefits of combining various assets and manage portfolio risk.\n",
    "\n",
    "Covariance is calculated using the following formula:\n",
    "\n",
    "\\[ \\text{cov}(X, Y) = \\frac{\\sum_{i=1}^{n} (x_i - \\bar{X})(y_i - \\bar{Y})}{n-1} \\]\n",
    "\n",
    "Where:\n",
    "- \\( X \\) and \\( Y \\) are the two random variables.\n",
    "- \\( x_i \\) and \\( y_i \\) are individual observations or values of \\( X \\) and \\( Y \\).\n",
    "- \\( \\bar{X} \\) and \\( \\bar{Y} \\) are the means of \\( X \\) and \\( Y \\), respectively.\n",
    "- \\( n \\) is the number of observations.\n",
    "\n",
    "The formula computes the average of the product of the deviations of each pair of observations from their respective means. The result is a measure of how much the variables change together, with positive values indicating a positive relationship, negative values indicating a negative relationship, and zero indicating no linear relationship."
   ]
  },
  {
   "cell_type": "markdown",
   "metadata": {},
   "source": [
    "### Q4: For a dataset with the following categorical variables: Color (red, green, blue), Size (small, medium,large), and Material (wood, metal, plastic), perform label encoding using Python's scikit-learn library. Show your code and explain the output."
   ]
  },
  {
   "cell_type": "code",
   "execution_count": 12,
   "metadata": {},
   "outputs": [
    {
     "name": "stdout",
     "output_type": "stream",
     "text": [
      "   Color  Size  Material\n",
      "0      2     2         2\n",
      "1      1     1         0\n",
      "2      0     0         1\n",
      "3      2     1         0\n",
      "4      0     2         2\n"
     ]
    }
   ],
   "source": [
    "from sklearn.preprocessing import LabelEncoder\n",
    "import pandas as pd\n",
    "\n",
    "# Create a sample dataset\n",
    "data = {\n",
    "    'Color': ['red', 'green', 'blue', 'red', 'blue'],\n",
    "    'Size': ['small', 'medium', 'large', 'medium', 'small'],\n",
    "    'Material': ['wood', 'metal', 'plastic', 'metal', 'wood']\n",
    "}\n",
    "\n",
    "# Convert the dataset to a DataFrame\n",
    "df = pd.DataFrame(data)\n",
    "\n",
    "# Initialize the LabelEncoder\n",
    "label_encoder = LabelEncoder()\n",
    "\n",
    "# Apply label encoding to each categorical column\n",
    "for column in df.columns:\n",
    "    if df[column].dtype == 'object':  # Check if the column is categorical\n",
    "        df[column] = label_encoder.fit_transform(df[column])\n",
    "\n",
    "print(df)\n"
   ]
  },
  {
   "cell_type": "markdown",
   "metadata": {},
   "source": [
    "### Q5: Calculate the covariance matrix for the following variables in a dataset: Age, Income, and Education level. Interpret the results."
   ]
  },
  {
   "cell_type": "code",
   "execution_count": 13,
   "metadata": {},
   "outputs": [
    {
     "name": "stdout",
     "output_type": "stream",
     "text": [
      "Covariance Matrix:\n",
      "[[6.25e+01 6.25e+04 2.25e+01]\n",
      " [6.25e+04 6.25e+07 2.25e+04]\n",
      " [2.25e+01 2.25e+04 1.00e+01]]\n"
     ]
    }
   ],
   "source": [
    "import numpy as np\n",
    "import pandas as pd\n",
    "\n",
    "# Example dataset\n",
    "data = {\n",
    "    'Age': [30, 40, 50, 35, 45],\n",
    "    'Income': [50000, 60000, 70000, 55000, 65000],\n",
    "    'Education Level': [12, 16, 18, 14, 20]\n",
    "}\n",
    "\n",
    "# Convert the dataset to a DataFrame\n",
    "df = pd.DataFrame(data)\n",
    "\n",
    "# Calculate the covariance matrix\n",
    "covariance_matrix = np.cov(df.T)\n",
    "\n",
    "print(\"Covariance Matrix:\")\n",
    "print(covariance_matrix)\n"
   ]
  },
  {
   "cell_type": "markdown",
   "metadata": {},
   "source": [
    "### Q6: You are working on a machine learning project with a dataset containing several categorical variables, including \"Gender\" (Male/Female), \"Education Level\" (High School/Bachelor's/Master's/PhD), and \"Employment Status\" (Unemployed/Part-Time/Full-Time). Which encoding method would you use for each variable, and why?"
   ]
  },
  {
   "cell_type": "markdown",
   "metadata": {},
   "source": [
    "For the given categorical variables in the dataset (\"Gender\", \"Education Level\", and \"Employment Status\"), I would choose different encoding methods based on the nature of each variable. Here's how I would encode each variable and why:\n",
    "\n",
    "1. **Gender (Binary Variable):**\n",
    "   - Encoding Method: One-Hot Encoding\n",
    "   - Reasoning: Since \"Gender\" is a binary variable with only two categories (Male and Female), one-hot encoding is appropriate. One-hot encoding creates binary columns for each category, where each column indicates the presence or absence of a category. This method ensures that the model doesn't assume any ordinal relationship between the categories (e.g., male = 0, female = 1).\n",
    "\n",
    "2. **Education Level (Ordinal Variable):**\n",
    "   - Encoding Method: Ordinal Encoding\n",
    "   - Reasoning: \"Education Level\" is an ordinal variable with a natural order (e.g., High School < Bachelor's < Master's < PhD). Therefore, ordinal encoding, which assigns integer values based on the order of the categories, is suitable. This method preserves the ordinal relationship between the categories, which can be meaningful for the analysis or model.\n",
    "\n",
    "3. **Employment Status (Nominal Variable):**\n",
    "   - Encoding Method: One-Hot Encoding\n",
    "   - Reasoning: \"Employment Status\" is a nominal variable with no inherent order among the categories (e.g., Unemployed, Part-Time, Full-Time). Therefore, one-hot encoding is preferred to represent each category as a separate binary column. This approach avoids introducing unintended ordinal relationships between the categories and allows the model to treat them as independent variables.\n",
    "\n",
    "In summary, the choice of encoding method depends on whether the categorical variable is binary, ordinal, or nominal. One-hot encoding is suitable for nominal variables and binary variables, while ordinal encoding is appropriate for ordinal variables where there is a meaningful order among the categories. These encoding methods ensure that the categorical variables are properly represented as numerical inputs for machine learning models, considering the characteristics of each variable."
   ]
  },
  {
   "cell_type": "markdown",
   "metadata": {},
   "source": [
    "### Q7: You are analyzing a dataset with two continuous variables, \"Temperature\" and \"Humidity\", and two categorical variables, \"Weather Condition\" (Sunny/Cloudy/Rainy) and \"Wind Direction\" (North/South/ East/West). Calculate the covariance between each pair of variables and interpret the results."
   ]
  },
  {
   "cell_type": "code",
   "execution_count": 14,
   "metadata": {},
   "outputs": [
    {
     "name": "stdout",
     "output_type": "stream",
     "text": [
      "Covariance between Temperature and Humidity: 11.0\n"
     ]
    }
   ],
   "source": [
    "import numpy as np\n",
    "import pandas as pd\n",
    "\n",
    "# Example dataset\n",
    "data = {\n",
    "    'Temperature': [25, 28, 20, 22, 30],\n",
    "    'Humidity': [60, 65, 70, 55, 75],\n",
    "    'Weather Condition': ['Sunny', 'Cloudy', 'Rainy', 'Cloudy', 'Sunny'],\n",
    "    'Wind Direction': ['North', 'South', 'East', 'West', 'North']\n",
    "}\n",
    "\n",
    "# Convert the dataset to a DataFrame\n",
    "df = pd.DataFrame(data)\n",
    "\n",
    "# Calculate the covariance between Temperature and Humidity\n",
    "cov_temp_humidity = np.cov(df['Temperature'], df['Humidity'], ddof=0)[0, 1]\n",
    "\n",
    "print(\"Covariance between Temperature and Humidity:\", cov_temp_humidity)\n"
   ]
  },
  {
   "cell_type": "code",
   "execution_count": null,
   "metadata": {},
   "outputs": [],
   "source": []
  }
 ],
 "metadata": {
  "kernelspec": {
   "display_name": ".venv",
   "language": "python",
   "name": "python3"
  },
  "language_info": {
   "codemirror_mode": {
    "name": "ipython",
    "version": 3
   },
   "file_extension": ".py",
   "mimetype": "text/x-python",
   "name": "python",
   "nbconvert_exporter": "python",
   "pygments_lexer": "ipython3",
   "version": "3.12.3"
  }
 },
 "nbformat": 4,
 "nbformat_minor": 2
}
