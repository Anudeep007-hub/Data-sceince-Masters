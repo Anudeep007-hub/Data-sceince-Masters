{
 "cells": [
  {
   "cell_type": "markdown",
   "metadata": {},
   "source": [
    "### Q1: Pearson correlation coefficient is a measure of the linear relationship between two variables. Suppose you have collected data on the amount of time students spend studying for an exam and their final exam scores. Calculate the Pearson correlation coefficient between these two variables and interpret the result."
   ]
  },
  {
   "cell_type": "code",
   "execution_count": 4,
   "metadata": {},
   "outputs": [
    {
     "data": {
      "text/html": [
       "<div>\n",
       "<style scoped>\n",
       "    .dataframe tbody tr th:only-of-type {\n",
       "        vertical-align: middle;\n",
       "    }\n",
       "\n",
       "    .dataframe tbody tr th {\n",
       "        vertical-align: top;\n",
       "    }\n",
       "\n",
       "    .dataframe thead th {\n",
       "        text-align: right;\n",
       "    }\n",
       "</style>\n",
       "<table border=\"1\" class=\"dataframe\">\n",
       "  <thead>\n",
       "    <tr style=\"text-align: right;\">\n",
       "      <th></th>\n",
       "      <th>Time_Spent(in_hours)</th>\n",
       "      <th>Exam_Scores(out of 100)</th>\n",
       "    </tr>\n",
       "  </thead>\n",
       "  <tbody>\n",
       "    <tr>\n",
       "      <th>Time_Spent(in_hours)</th>\n",
       "      <td>1.000000</td>\n",
       "      <td>0.920803</td>\n",
       "    </tr>\n",
       "    <tr>\n",
       "      <th>Exam_Scores(out of 100)</th>\n",
       "      <td>0.920803</td>\n",
       "      <td>1.000000</td>\n",
       "    </tr>\n",
       "  </tbody>\n",
       "</table>\n",
       "</div>"
      ],
      "text/plain": [
       "                         Time_Spent(in_hours)  Exam_Scores(out of 100)\n",
       "Time_Spent(in_hours)                 1.000000                 0.920803\n",
       "Exam_Scores(out of 100)              0.920803                 1.000000"
      ]
     },
     "execution_count": 4,
     "metadata": {},
     "output_type": "execute_result"
    }
   ],
   "source": [
    "import numpy as np \n",
    "import pandas as pd\n",
    " \n",
    "data = {\n",
    "    \"Time_Spent(in_hours)\" : [13,11,5,9,10,2,18,19,20,11],\n",
    "    \"Exam_Scores(out of 100)\" :[82,78,45,60,75,10,90,93,95,57]\n",
    "}\n",
    "df = pd.DataFrame(data)\n",
    "df.corr(\"pearson\")"
   ]
  },
  {
   "cell_type": "markdown",
   "metadata": {},
   "source": [
    "### Q2: Spearman's rank correlation is a measure of the monotonic relationship between two variables.Suppose you have collected data on the amount of sleep individuals get each night and their overall job satisfaction level on a scale of 1 to 10. Calculate the Spearman's rank correlation between these two variables and interpret the result."
   ]
  },
  {
   "cell_type": "code",
   "execution_count": 5,
   "metadata": {},
   "outputs": [
    {
     "data": {
      "text/html": [
       "<div>\n",
       "<style scoped>\n",
       "    .dataframe tbody tr th:only-of-type {\n",
       "        vertical-align: middle;\n",
       "    }\n",
       "\n",
       "    .dataframe tbody tr th {\n",
       "        vertical-align: top;\n",
       "    }\n",
       "\n",
       "    .dataframe thead th {\n",
       "        text-align: right;\n",
       "    }\n",
       "</style>\n",
       "<table border=\"1\" class=\"dataframe\">\n",
       "  <thead>\n",
       "    <tr style=\"text-align: right;\">\n",
       "      <th></th>\n",
       "      <th>Sleep time(in hours)</th>\n",
       "      <th>Job satisfaction</th>\n",
       "    </tr>\n",
       "  </thead>\n",
       "  <tbody>\n",
       "    <tr>\n",
       "      <th>Sleep time(in hours)</th>\n",
       "      <td>1.000000</td>\n",
       "      <td>0.306319</td>\n",
       "    </tr>\n",
       "    <tr>\n",
       "      <th>Job satisfaction</th>\n",
       "      <td>0.306319</td>\n",
       "      <td>1.000000</td>\n",
       "    </tr>\n",
       "  </tbody>\n",
       "</table>\n",
       "</div>"
      ],
      "text/plain": [
       "                      Sleep time(in hours)  Job satisfaction\n",
       "Sleep time(in hours)              1.000000          0.306319\n",
       "Job satisfaction                  0.306319          1.000000"
      ]
     },
     "execution_count": 5,
     "metadata": {},
     "output_type": "execute_result"
    }
   ],
   "source": [
    "data = {\n",
    "    \"Sleep time(in hours)\" : [6,4,5,9,12,13,9],\n",
    "    \"Job satisfaction\" : [6,2,3,4,1,7,9]\n",
    "} \n",
    "df = pd.DataFrame(data) \n",
    "df.corr(\"spearman\")"
   ]
  },
  {
   "cell_type": "markdown",
   "metadata": {},
   "source": [
    "### Q3: Suppose you are conducting a study to examine the relationship between the number of hours of exercise per week and body mass index (BMI) in a sample of adults. You collected data on both variables for 50 participants. Calculate the Pearson correlation coefficient and the Spearman's rank correlation between these two variables and compare the results."
   ]
  },
  {
   "cell_type": "code",
   "execution_count": 7,
   "metadata": {},
   "outputs": [
    {
     "data": {
      "text/html": [
       "<div>\n",
       "<style scoped>\n",
       "    .dataframe tbody tr th:only-of-type {\n",
       "        vertical-align: middle;\n",
       "    }\n",
       "\n",
       "    .dataframe tbody tr th {\n",
       "        vertical-align: top;\n",
       "    }\n",
       "\n",
       "    .dataframe thead th {\n",
       "        text-align: right;\n",
       "    }\n",
       "</style>\n",
       "<table border=\"1\" class=\"dataframe\">\n",
       "  <thead>\n",
       "    <tr style=\"text-align: right;\">\n",
       "      <th></th>\n",
       "      <th>Person</th>\n",
       "      <th>Hours of Exercise per Week</th>\n",
       "      <th>BMI</th>\n",
       "    </tr>\n",
       "  </thead>\n",
       "  <tbody>\n",
       "    <tr>\n",
       "      <th>Person</th>\n",
       "      <td>1.000000</td>\n",
       "      <td>0.059292</td>\n",
       "      <td>-0.045332</td>\n",
       "    </tr>\n",
       "    <tr>\n",
       "      <th>Hours of Exercise per Week</th>\n",
       "      <td>0.059292</td>\n",
       "      <td>1.000000</td>\n",
       "      <td>-0.985786</td>\n",
       "    </tr>\n",
       "    <tr>\n",
       "      <th>BMI</th>\n",
       "      <td>-0.045332</td>\n",
       "      <td>-0.985786</td>\n",
       "      <td>1.000000</td>\n",
       "    </tr>\n",
       "  </tbody>\n",
       "</table>\n",
       "</div>"
      ],
      "text/plain": [
       "                              Person  Hours of Exercise per Week       BMI\n",
       "Person                      1.000000                    0.059292 -0.045332\n",
       "Hours of Exercise per Week  0.059292                    1.000000 -0.985786\n",
       "BMI                        -0.045332                   -0.985786  1.000000"
      ]
     },
     "execution_count": 7,
     "metadata": {},
     "output_type": "execute_result"
    }
   ],
   "source": [
    "data = [\n",
    "    {\"Person\": 1, \"Hours of Exercise per Week\": 3.5, \"BMI\": 24},\n",
    "    {\"Person\": 2, \"Hours of Exercise per Week\": 2.0, \"BMI\": 28},\n",
    "    {\"Person\": 3, \"Hours of Exercise per Week\": 5.5, \"BMI\": 22},\n",
    "    {\"Person\": 4, \"Hours of Exercise per Week\": 1.0, \"BMI\": 30},\n",
    "    {\"Person\": 5, \"Hours of Exercise per Week\": 4.0, \"BMI\": 25},\n",
    "    {\"Person\": 6, \"Hours of Exercise per Week\": 2.5, \"BMI\": 27},\n",
    "    {\"Person\": 7, \"Hours of Exercise per Week\": 3.0, \"BMI\": 26},\n",
    "    {\"Person\": 8, \"Hours of Exercise per Week\": 4.5, \"BMI\": 23},\n",
    "    {\"Person\": 9, \"Hours of Exercise per Week\": 2.0, \"BMI\": 29},\n",
    "    {\"Person\": 10, \"Hours of Exercise per Week\": 3.5, \"BMI\": 25},\n",
    "    {\"Person\": 11, \"Hours of Exercise per Week\": 1.5, \"BMI\": 31},\n",
    "    {\"Person\": 12, \"Hours of Exercise per Week\": 4.0, \"BMI\": 24},\n",
    "    {\"Person\": 13, \"Hours of Exercise per Week\": 3.0, \"BMI\": 26},\n",
    "    {\"Person\": 14, \"Hours of Exercise per Week\": 2.5, \"BMI\": 28},\n",
    "    {\"Person\": 15, \"Hours of Exercise per Week\": 4.5, \"BMI\": 22},\n",
    "    {\"Person\": 16, \"Hours of Exercise per Week\": 3.0, \"BMI\": 27},\n",
    "    {\"Person\": 17, \"Hours of Exercise per Week\": 2.0, \"BMI\": 29},\n",
    "    {\"Person\": 18, \"Hours of Exercise per Week\": 5.0, \"BMI\": 21},\n",
    "    {\"Person\": 19, \"Hours of Exercise per Week\": 3.5, \"BMI\": 25},\n",
    "    {\"Person\": 20, \"Hours of Exercise per Week\": 2.5, \"BMI\": 28},\n",
    "    {\"Person\": 21, \"Hours of Exercise per Week\": 4.0, \"BMI\": 23},\n",
    "    {\"Person\": 22, \"Hours of Exercise per Week\": 3.0, \"BMI\": 27},\n",
    "    {\"Person\": 23, \"Hours of Exercise per Week\": 2.0, \"BMI\": 29},\n",
    "    {\"Person\": 24, \"Hours of Exercise per Week\": 5.0, \"BMI\": 21},\n",
    "    {\"Person\": 25, \"Hours of Exercise per Week\": 3.5, \"BMI\": 25},\n",
    "    {\"Person\": 26, \"Hours of Exercise per Week\": 2.5, \"BMI\": 28},\n",
    "    {\"Person\": 27, \"Hours of Exercise per Week\": 4.0, \"BMI\": 23},\n",
    "    {\"Person\": 28, \"Hours of Exercise per Week\": 3.0, \"BMI\": 27},\n",
    "    {\"Person\": 29, \"Hours of Exercise per Week\": 2.0, \"BMI\": 29},\n",
    "    {\"Person\": 30, \"Hours of Exercise per Week\": 5.0, \"BMI\": 21},\n",
    "    {\"Person\": 31, \"Hours of Exercise per Week\": 3.5, \"BMI\": 25},\n",
    "    {\"Person\": 32, \"Hours of Exercise per Week\": 2.5, \"BMI\": 28},\n",
    "    {\"Person\": 33, \"Hours of Exercise per Week\": 4.0, \"BMI\": 23},\n",
    "    {\"Person\": 34, \"Hours of Exercise per Week\": 3.0, \"BMI\": 27},\n",
    "    {\"Person\": 35, \"Hours of Exercise per Week\": 2.0, \"BMI\": 29},\n",
    "    {\"Person\": 36, \"Hours of Exercise per Week\": 5.0, \"BMI\": 21},\n",
    "    {\"Person\": 37, \"Hours of Exercise per Week\": 3.5, \"BMI\": 25},\n",
    "    {\"Person\": 38, \"Hours of Exercise per Week\": 2.5, \"BMI\": 28},\n",
    "    {\"Person\": 39, \"Hours of Exercise per Week\": 4.0, \"BMI\": 23},\n",
    "    {\"Person\": 40, \"Hours of Exercise per Week\": 3.0, \"BMI\": 27},\n",
    "    {\"Person\": 41, \"Hours of Exercise per Week\": 2.0, \"BMI\": 29},\n",
    "    {\"Person\": 42, \"Hours of Exercise per Week\": 5.0, \"BMI\": 21},\n",
    "    {\"Person\": 43, \"Hours of Exercise per Week\": 3.5, \"BMI\": 25},\n",
    "    {\"Person\": 44, \"Hours of Exercise per Week\": 2.5, \"BMI\": 28},\n",
    "    {\"Person\": 45, \"Hours of Exercise per Week\": 4.0, \"BMI\": 23},\n",
    "    {\"Person\": 46, \"Hours of Exercise per Week\": 3.0, \"BMI\": 27},\n",
    "    {\"Person\": 47, \"Hours of Exercise per Week\": 2.0, \"BMI\": 29},\n",
    "    {\"Person\": 48, \"Hours of Exercise per Week\": 5.0, \"BMI\": 21},\n",
    "    {\"Person\": 49, \"Hours of Exercise per Week\": 3.5, \"BMI\": 25},\n",
    "    {\"Person\": 50, \"Hours of Exercise per Week\": 2.5, \"BMI\": 28}\n",
    "]\n",
    "\n",
    "df = pd.DataFrame(data)\n",
    "df.corr(method=\"spearman\")"
   ]
  },
  {
   "cell_type": "markdown",
   "metadata": {},
   "source": [
    "### Q4: A researcher is interested in examining the relationship between the number of hours individuals spend watching television per day and their level of physical activity. The researcher collected data on both variables from a sample of 50 participants. Calculate the Pearson correlation coefficient between these two variables."
   ]
  },
  {
   "cell_type": "code",
   "execution_count": 8,
   "metadata": {},
   "outputs": [
    {
     "data": {
      "text/html": [
       "<div>\n",
       "<style scoped>\n",
       "    .dataframe tbody tr th:only-of-type {\n",
       "        vertical-align: middle;\n",
       "    }\n",
       "\n",
       "    .dataframe tbody tr th {\n",
       "        vertical-align: top;\n",
       "    }\n",
       "\n",
       "    .dataframe thead th {\n",
       "        text-align: right;\n",
       "    }\n",
       "</style>\n",
       "<table border=\"1\" class=\"dataframe\">\n",
       "  <thead>\n",
       "    <tr style=\"text-align: right;\">\n",
       "      <th></th>\n",
       "      <th>Participant</th>\n",
       "      <th>Hours of TV per Week</th>\n",
       "      <th>Hours of Exercise per Week</th>\n",
       "    </tr>\n",
       "  </thead>\n",
       "  <tbody>\n",
       "    <tr>\n",
       "      <th>Participant</th>\n",
       "      <td>1.000000</td>\n",
       "      <td>-0.175939</td>\n",
       "      <td>0.069677</td>\n",
       "    </tr>\n",
       "    <tr>\n",
       "      <th>Hours of TV per Week</th>\n",
       "      <td>-0.175939</td>\n",
       "      <td>1.000000</td>\n",
       "      <td>-0.464255</td>\n",
       "    </tr>\n",
       "    <tr>\n",
       "      <th>Hours of Exercise per Week</th>\n",
       "      <td>0.069677</td>\n",
       "      <td>-0.464255</td>\n",
       "      <td>1.000000</td>\n",
       "    </tr>\n",
       "  </tbody>\n",
       "</table>\n",
       "</div>"
      ],
      "text/plain": [
       "                            Participant  Hours of TV per Week  \\\n",
       "Participant                    1.000000             -0.175939   \n",
       "Hours of TV per Week          -0.175939              1.000000   \n",
       "Hours of Exercise per Week     0.069677             -0.464255   \n",
       "\n",
       "                            Hours of Exercise per Week  \n",
       "Participant                                   0.069677  \n",
       "Hours of TV per Week                         -0.464255  \n",
       "Hours of Exercise per Week                    1.000000  "
      ]
     },
     "execution_count": 8,
     "metadata": {},
     "output_type": "execute_result"
    }
   ],
   "source": [
    "tv_exercise_data = [\n",
    "    {\"Participant\": 1, \"Hours of TV per Week\": 10.5, \"Hours of Exercise per Week\": 3.5},\n",
    "    {\"Participant\": 2, \"Hours of TV per Week\": 8.0, \"Hours of Exercise per Week\": 2.0},\n",
    "    {\"Participant\": 3, \"Hours of TV per Week\": 6.0, \"Hours of Exercise per Week\": 5.5},\n",
    "    {\"Participant\": 4, \"Hours of TV per Week\": 12.0, \"Hours of Exercise per Week\": 1.0},\n",
    "    {\"Participant\": 5, \"Hours of TV per Week\": 9.5, \"Hours of Exercise per Week\": 4.0},\n",
    "    {\"Participant\": 6, \"Hours of TV per Week\": 7.0, \"Hours of Exercise per Week\": 2.5},\n",
    "    {\"Participant\": 7, \"Hours of TV per Week\": 8.5, \"Hours of Exercise per Week\": 3.0},\n",
    "    {\"Participant\": 8, \"Hours of TV per Week\": 6.5, \"Hours of Exercise per Week\": 4.5},\n",
    "    {\"Participant\": 9, \"Hours of TV per Week\": 9.0, \"Hours of Exercise per Week\": 2.0},\n",
    "    {\"Participant\": 10, \"Hours of TV per Week\": 7.5, \"Hours of Exercise per Week\": 3.5},\n",
    "    {\"Participant\": 11, \"Hours of TV per Week\": 11.0, \"Hours of Exercise per Week\": 1.5},\n",
    "    {\"Participant\": 12, \"Hours of TV per Week\": 8.0, \"Hours of Exercise per Week\": 4.0},\n",
    "    {\"Participant\": 13, \"Hours of TV per Week\": 7.0, \"Hours of Exercise per Week\": 3.0},\n",
    "    {\"Participant\": 14, \"Hours of TV per Week\": 9.0, \"Hours of Exercise per Week\": 2.5},\n",
    "    {\"Participant\": 15, \"Hours of TV per Week\": 5.5, \"Hours of Exercise per Week\": 4.5},\n",
    "    {\"Participant\": 16, \"Hours of TV per Week\": 7.0, \"Hours of Exercise per Week\": 3.0},\n",
    "    {\"Participant\": 17, \"Hours of TV per Week\": 9.0, \"Hours of Exercise per Week\": 2.0},\n",
    "    {\"Participant\": 18, \"Hours of TV per Week\": 6.0, \"Hours of Exercise per Week\": 5.0},\n",
    "    {\"Participant\": 19, \"Hours of TV per Week\": 8.5, \"Hours of Exercise per Week\": 3.5},\n",
    "    {\"Participant\": 20, \"Hours of TV per Week\": 7.0, \"Hours of Exercise per Week\": 2.5},\n",
    "    {\"Participant\": 21, \"Hours of TV per Week\": 9.0, \"Hours of Exercise per Week\": 4.0},\n",
    "    {\"Participant\": 22, \"Hours of TV per Week\": 6.5, \"Hours of Exercise per Week\": 3.0},\n",
    "    {\"Participant\": 23, \"Hours of TV per Week\": 8.0, \"Hours of Exercise per Week\": 2.0},\n",
    "    {\"Participant\": 24, \"Hours of TV per Week\": 6.0, \"Hours of Exercise per Week\": 5.0},\n",
    "    {\"Participant\": 25, \"Hours of TV per Week\": 10.0, \"Hours of Exercise per Week\": 3.5},\n",
    "    {\"Participant\": 26, \"Hours of TV per Week\": 7.5, \"Hours of Exercise per Week\": 2.5},\n",
    "    {\"Participant\": 27, \"Hours of TV per Week\": 8.5, \"Hours of Exercise per Week\": 4.0},\n",
    "    {\"Participant\": 28, \"Hours of TV per Week\": 6.0, \"Hours of Exercise per Week\": 3.0},\n",
    "    {\"Participant\": 29, \"Hours of TV per Week\": 9.0, \"Hours of Exercise per Week\": 2.0},\n",
    "    {\"Participant\": 30, \"Hours of TV per Week\": 5.5, \"Hours of Exercise per Week\": 5.0},\n",
    "    {\"Participant\": 31, \"Hours of TV per Week\": 8.0, \"Hours of Exercise per Week\": 3.5},\n",
    "    {\"Participant\": 32, \"Hours of TV per Week\": 7.0, \"Hours of Exercise per Week\": 2.5},\n",
    "    {\"Participant\": 33, \"Hours of TV per Week\": 9.5, \"Hours of Exercise per Week\": 4.0},\n",
    "    {\"Participant\": 34, \"Hours of TV per Week\": 6.5, \"Hours of Exercise per Week\": 3.0},\n",
    "    {\"Participant\": 35, \"Hours of TV per Week\": 8.0, \"Hours of Exercise per Week\": 2.0},\n",
    "    {\"Participant\": 36, \"Hours of TV per Week\": 6.0, \"Hours of Exercise per Week\": 5.0},\n",
    "    {\"Participant\": 37, \"Hours of TV per Week\": 10.5, \"Hours of Exercise per Week\": 3.5},\n",
    "    {\"Participant\": 38, \"Hours of TV per Week\": 7.5, \"Hours of Exercise per Week\": 2.5},\n",
    "    {\"Participant\": 39, \"Hours of TV per Week\": 8.5, \"Hours of Exercise per Week\": 4.0},\n",
    "    {\"Participant\": 40, \"Hours of TV per Week\": 6.0, \"Hours of Exercise per Week\": 3.0},\n",
    "    {\"Participant\": 41, \"Hours of TV per Week\": 9.0, \"Hours of Exercise per Week\": 2.0},\n",
    "    {\"Participant\": 42, \"Hours of TV per Week\": 5.5, \"Hours of Exercise per Week\": 5.0},\n",
    "    {\"Participant\": 43, \"Hours of TV per Week\": 8.0, \"Hours of Exercise per Week\": 3.5},\n",
    "    {\"Participant\": 44, \"Hours of TV per Week\": 7.0, \"Hours of Exercise per Week\": 2.5},\n",
    "    {\"Participant\": 45, \"Hours of TV per Week\": 9.5, \"Hours of Exercise per Week\": 4.0},\n",
    "    {\"Participant\": 46, \"Hours of TV per Week\": 6.5, \"Hours of Exercise per Week\": 3.0},\n",
    "    {\"Participant\": 47, \"Hours of TV per Week\": 8.0, \"Hours of Exercise per Week\": 2.0},\n",
    "    {\"Participant\": 48, \"Hours of TV per Week\": 6.0, \"Hours of Exercise per Week\": 5.0},\n",
    "    {\"Participant\": 49, \"Hours of TV per Week\": 10.0, \"Hours of Exercise per Week\": 3.5},\n",
    "    {\"Participant\": 50, \"Hours of TV per Week\": 7.5, \"Hours of Exercise per Week\": 2.5}\n",
    "]\n",
    "\n",
    "df = pd.DataFrame(tv_exercise_data)\n",
    "df.corr(method=\"pearson\")"
   ]
  },
  {
   "cell_type": "markdown",
   "metadata": {},
   "source": [
    "### Q5: A survey was conducted to examine the relationship between age and preference for a particular brand of soft drink. The survey results are shown below: \n"
   ]
  },
  {
   "cell_type": "code",
   "execution_count": 9,
   "metadata": {},
   "outputs": [],
   "source": [
    "data = {\n",
    "    \"Age\" : [25,42,37,19,31,28],\n",
    "    \"soft drink preference\" :[\"Coke\", \"Pespi\", \"Mountain dew\", \"Coke\", \"Pepsi\", \"Coke\"]\n",
    "}\n",
    "df = pd.DataFrame(data)"
   ]
  },
  {
   "cell_type": "code",
   "execution_count": 15,
   "metadata": {},
   "outputs": [],
   "source": [
    "from sklearn.preprocessing import LabelEncoder\n",
    "model =LabelEncoder()\n",
    "df[\"drink_Nominal_encoding\"] = model.fit_transform(data[\"soft drink preference\"])  \n",
    "new_df = df[[\"drink_Nominal_encoding\", \"Age\"]].copy()"
   ]
  },
  {
   "cell_type": "code",
   "execution_count": 17,
   "metadata": {},
   "outputs": [
    {
     "data": {
      "text/html": [
       "<div>\n",
       "<style scoped>\n",
       "    .dataframe tbody tr th:only-of-type {\n",
       "        vertical-align: middle;\n",
       "    }\n",
       "\n",
       "    .dataframe tbody tr th {\n",
       "        vertical-align: top;\n",
       "    }\n",
       "\n",
       "    .dataframe thead th {\n",
       "        text-align: right;\n",
       "    }\n",
       "</style>\n",
       "<table border=\"1\" class=\"dataframe\">\n",
       "  <thead>\n",
       "    <tr style=\"text-align: right;\">\n",
       "      <th></th>\n",
       "      <th>drink_Nominal_encoding</th>\n",
       "      <th>Age</th>\n",
       "    </tr>\n",
       "  </thead>\n",
       "  <tbody>\n",
       "    <tr>\n",
       "      <th>drink_Nominal_encoding</th>\n",
       "      <td>1.000000</td>\n",
       "      <td>0.820475</td>\n",
       "    </tr>\n",
       "    <tr>\n",
       "      <th>Age</th>\n",
       "      <td>0.820475</td>\n",
       "      <td>1.000000</td>\n",
       "    </tr>\n",
       "  </tbody>\n",
       "</table>\n",
       "</div>"
      ],
      "text/plain": [
       "                        drink_Nominal_encoding       Age\n",
       "drink_Nominal_encoding                1.000000  0.820475\n",
       "Age                                   0.820475  1.000000"
      ]
     },
     "execution_count": 17,
     "metadata": {},
     "output_type": "execute_result"
    }
   ],
   "source": [
    "new_df.corr()"
   ]
  },
  {
   "cell_type": "markdown",
   "metadata": {},
   "source": [
    "### Q6: A company is interested in examining the relationship between the number of sales calls made per day and the number of sales made per week. The company collected data on both variables from a sample of 30 sales representatives. Calculate the Pearson correlation coefficient between these two variables."
   ]
  },
  {
   "cell_type": "code",
   "execution_count": 19,
   "metadata": {},
   "outputs": [
    {
     "data": {
      "text/html": [
       "<div>\n",
       "<style scoped>\n",
       "    .dataframe tbody tr th:only-of-type {\n",
       "        vertical-align: middle;\n",
       "    }\n",
       "\n",
       "    .dataframe tbody tr th {\n",
       "        vertical-align: top;\n",
       "    }\n",
       "\n",
       "    .dataframe thead th {\n",
       "        text-align: right;\n",
       "    }\n",
       "</style>\n",
       "<table border=\"1\" class=\"dataframe\">\n",
       "  <thead>\n",
       "    <tr style=\"text-align: right;\">\n",
       "      <th></th>\n",
       "      <th>sales_calls_per_day</th>\n",
       "      <th>sales_per_week</th>\n",
       "    </tr>\n",
       "  </thead>\n",
       "  <tbody>\n",
       "    <tr>\n",
       "      <th>sales_calls_per_day</th>\n",
       "      <td>1.000000</td>\n",
       "      <td>0.909646</td>\n",
       "    </tr>\n",
       "    <tr>\n",
       "      <th>sales_per_week</th>\n",
       "      <td>0.909646</td>\n",
       "      <td>1.000000</td>\n",
       "    </tr>\n",
       "  </tbody>\n",
       "</table>\n",
       "</div>"
      ],
      "text/plain": [
       "                     sales_calls_per_day  sales_per_week\n",
       "sales_calls_per_day             1.000000        0.909646\n",
       "sales_per_week                  0.909646        1.000000"
      ]
     },
     "execution_count": 19,
     "metadata": {},
     "output_type": "execute_result"
    }
   ],
   "source": [
    "import numpy as np\n",
    "from scipy.stats import pearsonr\n",
    "\n",
    "# Sample data (number of sales calls per day and number of sales per week)\n",
    "data = {\n",
    "\"sales_calls_per_day\" : [10, 12, 8, 15, 9, 11, 13, 14, 12, 10, 16, 17, 9, 11, 10, 12, 14, 13, 11, 15, 12, 10, 11, 13, 12, 14, 16, 9, 10, 11],\n",
    "\"sales_per_week\" : [5, 7, 4, 8, 6, 6, 9, 8, 7, 5, 10, 9, 6, 5, 6, 7, 8, 8, 6, 9, 7, 5, 6, 7, 8, 9, 10, 5, 6, 7]\n",
    "}\n",
    "# Calculate Pearson correlation coefficient\n",
    "df = pd.DataFrame(data)\n",
    "df.corr()\n"
   ]
  },
  {
   "cell_type": "code",
   "execution_count": null,
   "metadata": {},
   "outputs": [],
   "source": []
  }
 ],
 "metadata": {
  "kernelspec": {
   "display_name": "asn",
   "language": "python",
   "name": "python3"
  },
  "language_info": {
   "codemirror_mode": {
    "name": "ipython",
    "version": 3
   },
   "file_extension": ".py",
   "mimetype": "text/x-python",
   "name": "python",
   "nbconvert_exporter": "python",
   "pygments_lexer": "ipython3",
   "version": "3.12.3"
  }
 },
 "nbformat": 4,
 "nbformat_minor": 2
}
