{
 "cells": [
  {
   "cell_type": "markdown",
   "id": "6184f464-74c5-4ed3-be16-d2be369ff20e",
   "metadata": {},
   "source": [
    "Q1"
   ]
  },
  {
   "cell_type": "code",
   "execution_count": 4,
   "id": "2c653515-9524-4b5c-95ad-9dfd3604d57c",
   "metadata": {},
   "outputs": [
    {
     "name": "stdin",
     "output_type": "stream",
     "text": [
      "Enter your name\n",
      " anudeep\n",
      "Enter your roll number s\n",
      "Enter your branch 12\n"
     ]
    },
    {
     "name": "stdout",
     "output_type": "stream",
     "text": [
      "('anudeep', 's', '12')\n"
     ]
    }
   ],
   "source": [
    "# class is a keyword used for creating a different objects \n",
    "# where as objects are used for defining the properties and codes thatwe want wih respect to a specific class. \n",
    "# Example\n",
    "class student:\n",
    "    def __init__(s, name, roll_no, branch):\n",
    "        \n",
    "        \n",
    "       s.name = name \n",
    "       s.roll_no = roll_no \n",
    "       s.branch = branch\n",
    "    \n",
    "    def return_things(m):\n",
    "        return m.name, m.roll_no, m.branch\n",
    "anudeep = student(input(\"Enter your name\\n\"),input(\"Enter your roll number\"),input(\"Enter your branch\") )\n",
    "print(anudeep.return_things())\n",
    "    "
   ]
  },
  {
   "cell_type": "markdown",
   "id": "24fbd80b-9c35-4ab5-9d9f-7d51671de752",
   "metadata": {},
   "source": [
    "Q2\n"
   ]
  },
  {
   "cell_type": "code",
   "execution_count": 5,
   "id": "37132fd3-65c2-4cf2-a82e-457b899ca018",
   "metadata": {},
   "outputs": [],
   "source": [
    "#The four pillars of OOPS in Python are  \n",
    "# --->Inheritance\n",
    "# --->Encapsulation\n",
    "# --->Polymorphism \n",
    "# --->Abstraction\n"
   ]
  },
  {
   "cell_type": "markdown",
   "id": "28b14ac2-8c32-401c-81e9-beecb2a1d4aa",
   "metadata": {},
   "source": [
    "Q3"
   ]
  },
  {
   "cell_type": "code",
   "execution_count": 9,
   "id": "4b2d4643-c74d-43c9-8790-b5e927a7000d",
   "metadata": {},
   "outputs": [
    {
     "name": "stdout",
     "output_type": "stream",
     "text": [
      "Surya\n"
     ]
    }
   ],
   "source": [
    "# __init__ is a built-in keyword,called construct used for taking data from user to implement in specific class of object/'s \n",
    "#Example\n",
    "class name:\n",
    "    def __init__(self, name):\n",
    "         self.name = name \n",
    "   \n",
    "    \n",
    "    def prt(self):\n",
    "        return self.name \n",
    "surya = name(\"Surya\")\n",
    "print(surya.prt())\n",
    "        "
   ]
  },
  {
   "cell_type": "markdown",
   "id": "a43b1cde-6897-4e8c-975a-66f8d5aee168",
   "metadata": {},
   "source": [
    "\n",
    "Q4"
   ]
  },
  {
   "cell_type": "code",
   "execution_count": 10,
   "id": "a0057a14-8221-47b9-aee3-51f9d83078c6",
   "metadata": {
    "tags": []
   },
   "outputs": [],
   "source": [
    "# self is a inbuilt keyword used for representing instance of a required class \n",
    "# especially it is use in OOPS part for defining properties in a object of the specific class \n"
   ]
  },
  {
   "cell_type": "markdown",
   "id": "d2bda917-d9cf-404f-8c13-38018a384b6a",
   "metadata": {},
   "source": [
    "Q5"
   ]
  },
  {
   "cell_type": "code",
   "execution_count": 1,
   "id": "258b6d78-c29f-44cc-aa38-03a7b353b93a",
   "metadata": {},
   "outputs": [
    {
     "name": "stdout",
     "output_type": "stream",
     "text": [
      "Amazon is an Online Ecommerce Store\n",
      "Ebay is an Online Store\n",
      "OLX is an Online Buy Sell Store\n",
      "Amazon is an Online Ecommerce Store\n",
      "Ebay is an Online Store\n",
      "OLX is an Online Buy Sell Store\n",
      "Amazon is an Online Ecommerce Store popularity of 100\n",
      "Ebay is an Online Store popularity of 70\n",
      "OLX is an Online Buy Sell Store popularity of 60\n",
      "Amazon is an Online Ecommerce Store\n",
      "Amazon is an Online Ecommerce Store\n",
      "Amazon is an Online Ecommerce Store\n",
      "This is Student class inheriting PC and Laptop\n",
      "This is Mouse class inheriting Laptop class\n"
     ]
    }
   ],
   "source": [
    "#Inheritance:-> \n",
    "              #Inheritance in python programming is the concept of deriving a new \n",
    "              #class from an existing class. Using the concept of inheritance we \n",
    "              #can inherit the properties of the existing class to our new class. \n",
    "\n",
    "\"\"\"\n",
    " Single inheritance:->  When child class is derived from only one parent class. This is called single inheritance. \n",
    "                      The example we did above is the best example for single inheritance in python programming.\n",
    "\"\"\"\n",
    "#syntax_of_single_inheritance\n",
    "\n",
    "class Brands:               #parent_class\n",
    "    brand_name_1 = \"Amazon\"\n",
    "    brand_name_2 = \"Ebay\"\n",
    "    brand_name_3 = \"OLX\"\n",
    "    \n",
    "class Products(Brands):       #child_class\n",
    "    prod_1 = \"Online Ecommerce Store\"\n",
    "    prod_2 = \"Online Store\"\n",
    "    prod_3 = \"Online Buy Sell Store\"\n",
    "    \n",
    "obj_1 = Products()          #Object_creation\n",
    "print(obj_1.brand_name_1+\" is an \"+obj_1.prod_1)\n",
    "print(obj_1.brand_name_2+\" is an \"+obj_1.prod_2)\n",
    "print(obj_1.brand_name_3+\" is an \"+obj_1.prod_3)\n",
    "\"\"\"\n",
    " Multiple Inheritance:->   When child class is derived or inherited from more than one parent class. \n",
    "                           This is called multiple inheritance. In multiple inheritance, we have two \n",
    "                           parent classes/base classes and one child class that inherits both parent \n",
    "                           classes properties.\n",
    "\"\"\"\n",
    "\n",
    "#example_of_multiple_inheritance\n",
    "\n",
    "class Brands:               #parent_class\n",
    "    brand_name_1 = \"Amazon\"\n",
    "    brand_name_2 = \"Ebay\"\n",
    "    brand_name_3 = \"OLX\"\n",
    "    \n",
    "class Products:            #child_class\n",
    "    prod_1 = \"Online Ecommerce Store\"\n",
    "    prod_2 = \"Online Store\"\n",
    "    prod_3 = \"Online Buy Sell Store\"\n",
    "\n",
    "class Popularity(Brands,Products):\n",
    "    prod_1_popularity = 100\n",
    "    prod_2_popularity = 70\n",
    "    prod_3_popularity = 60\n",
    "    \n",
    "obj_1 = Popularity()          #Object_creation\n",
    "print(obj_1.brand_name_1+\" is an \"+obj_1.prod_1)\n",
    "print(obj_1.brand_name_2+\" is an \"+obj_1.prod_2)\n",
    "print(obj_1.brand_name_3+\" is an \"+obj_1.prod_3)\n",
    "\n",
    "\"\"\"\n",
    " Multilevel Inheritance:->  In multilevel inheritance, we have one parent class and child class that is derived or inherited from that parent class. \n",
    "                           We have a grand-child class that is derived from the child class. See the below-given flow diagram to understand more clearly.\n",
    "\"\"\"\n",
    "#example_of_multilevel_inheritance\n",
    "\n",
    "class Brands:                      #parent_class\n",
    "    brand_name_1 = \"Amazon\"\n",
    "    brand_name_2 = \"Ebay\"\n",
    "    brand_name_3 = \"OLX\"\n",
    "    \n",
    "class Products(Brands):            #child_class\n",
    "    prod_1 = \"Online Ecommerce Store\"\n",
    "    prod_2 = \"Online Store\"\n",
    "    prod_3 = \"Online Buy Sell Store\"\n",
    "\n",
    "class Popularity(Products):        #grand_child_class\n",
    "    prod_1_popularity = 100\n",
    "    prod_2_popularity = 70\n",
    "    prod_3_popularity = 60\n",
    "    \n",
    "    \n",
    "obj_1 = Popularity()          #Object_creation\n",
    "print(obj_1.brand_name_1+\" is an \"+obj_1.prod_1+\" popularity of \"+str(obj_1.prod_1_popularity))\n",
    "print(obj_1.brand_name_2+\" is an \"+obj_1.prod_2+\" popularity of \"+str(obj_1.prod_2_popularity))\n",
    "print(obj_1.brand_name_3+\" is an \"+obj_1.prod_3+\" popularity of \"+str(obj_1.prod_3_popularity))\n",
    "\n",
    "\"\"\"\n",
    " Hierarchical inheritance:->  When we derive or inherit more than one child class from one(same) parent class. \n",
    "                             Then this type of inheritance is called hierarchical inheritance.\n",
    "\"\"\"\n",
    "#example\n",
    "\n",
    "class Brands:                      #parent_class\n",
    "    brand_name_1 = \"Amazon\"\n",
    "    brand_name_2 = \"Ebay\"\n",
    "    brand_name_3 = \"OLX\"\n",
    "    \n",
    "class Products(Brands):            #child_class\n",
    "    prod_1 = \"Online Ecommerce Store\"\n",
    "    prod_2 = \"Online Store\"\n",
    "    prod_3 = \"Online Buy Sell Store\"\n",
    "\n",
    "class Popularity(Brands):        #grand_child_class\n",
    "    prod_1_popularity = 100\n",
    "    prod_2_popularity = 70\n",
    "    prod_3_popularity = 60\n",
    "\n",
    "class Value(Brands):\n",
    "    prod_1_value = \"Excellent Value\"\n",
    "    prod_2_value = \"Better Value\"\n",
    "    prod_3_value = \"Good Value\"\n",
    "    \n",
    "obj_1 = Products()          #Object_creation\n",
    "obj_2 = Popularity()\n",
    "obj_3 = Value()\n",
    "print(obj_1.brand_name_1+\" is an \"+obj_1.prod_1)\n",
    "print(obj_1.brand_name_1+\" is an \"+obj_1.prod_1)\n",
    "print(obj_1.brand_name_1+\" is an \"+obj_1.prod_1)\n",
    "\n",
    "\"\"\"\n",
    " Hybrid Inheritance:-> Hybrid inheritance satisfies more than one form of inheritance ie. It may be consists of all types of inheritance that we have done above. \n",
    "                       It is not wrong if we say Hybrid Inheritance is the combinations of simple, multiple, multilevel and hierarchical inheritance. \n",
    "                       This type of inheritance is very helpful if we want to use concepts of inheritance without any limitations according to our requirements.\n",
    "\"\"\"\n",
    "\n",
    "#Example_Hybrid_inheritance\n",
    "class PC:\n",
    "    def fun1(self):\n",
    "        print(\"This is PC class\")\n",
    "\n",
    "class Laptop(PC):\n",
    "    def fun2(self):\n",
    "        print(\"This is Laptop class inheriting PC class\")\n",
    "\n",
    "class Mouse(Laptop):\n",
    "    def fun3(self):\n",
    "        print(\"This is Mouse class inheriting Laptop class\")\n",
    "\n",
    "class Student(Mouse, Laptop):\n",
    "    def fun4(self):\n",
    "        print(\"This is Student class inheriting PC and Laptop\")\n",
    "\n",
    "# Driver’s code\n",
    "obj = Student()\n",
    "obj1 = Mouse()\n",
    "obj.fun4()\n",
    "obj.fun3()"
   ]
  },
  {
   "cell_type": "code",
   "execution_count": null,
   "id": "f5ee9040-e39f-4e0c-a9b6-481176a859a2",
   "metadata": {},
   "outputs": [],
   "source": []
  },
  {
   "cell_type": "code",
   "execution_count": null,
   "id": "0c62edd9-9b0f-4cd2-89c0-a992707d4d20",
   "metadata": {},
   "outputs": [],
   "source": []
  }
 ],
 "metadata": {
  "kernelspec": {
   "display_name": "Python 3 (ipykernel)",
   "language": "python",
   "name": "python3"
  },
  "language_info": {
   "codemirror_mode": {
    "name": "ipython",
    "version": 3
   },
   "file_extension": ".py",
   "mimetype": "text/x-python",
   "name": "python",
   "nbconvert_exporter": "python",
   "pygments_lexer": "ipython3",
   "version": "3.10.8"
  }
 },
 "nbformat": 4,
 "nbformat_minor": 5
}
