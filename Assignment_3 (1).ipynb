{
 "cells": [
  {
   "cell_type": "markdown",
   "id": "f7c17eff-e6d8-4265-ad9a-f26e49a314e3",
   "metadata": {},
   "source": [
    "Q1"
   ]
  },
  {
   "cell_type": "code",
   "execution_count": 7,
   "id": "51c8293e-ad26-4d0f-8d95-0ece66a62d34",
   "metadata": {},
   "outputs": [
    {
     "name": "stdout",
     "output_type": "stream",
     "text": [
      "[('Virat Kohli', 24936), ('Jack Kallis', 25534), ('Ricky Ponting', 27483), ('Sachin Tendulkar', 34357)]\n"
     ]
    }
   ],
   "source": [
    "data = [('Sachin Tendulkar', 34357), ('Ricky Ponting', 27483), ('Jack Kallis', 25534), ('Virat Kohli', 24936)]\n",
    "\n",
    "sorted_data = sorted(data, key=lambda x: x[1])\n",
    "\n",
    "print(sorted_data)"
   ]
  },
  {
   "cell_type": "markdown",
   "id": "87db5e58-be21-49d2-b7d1-5f2e168dde88",
   "metadata": {},
   "source": [
    "Q2"
   ]
  },
  {
   "cell_type": "code",
   "execution_count": 1,
   "id": "c51fc427-1d3f-4905-a194-379c42a50674",
   "metadata": {},
   "outputs": [
    {
     "name": "stdout",
     "output_type": "stream",
     "text": [
      "[1, 4, 9, 16, 25, 36, 49, 64, 81, 100]\n"
     ]
    }
   ],
   "source": [
    "i_2 = [1, 2, 3, 4, 5, 6, 7, 8, 9, 10]\n",
    "print(list(map(lambda x : x **2, i_2)))"
   ]
  },
  {
   "cell_type": "markdown",
   "id": "339181e3-89a0-49e7-9c85-4d164599576a",
   "metadata": {},
   "source": [
    "Q3\n"
   ]
  },
  {
   "cell_type": "code",
   "execution_count": 2,
   "id": "fb95df17-d05d-4ab0-a8c1-4b33c1a8b16f",
   "metadata": {},
   "outputs": [
    {
     "name": "stdout",
     "output_type": "stream",
     "text": [
      "['1', '2', '3', '4', '5', '6', '7', '8', '9', '10']\n"
     ]
    }
   ],
   "source": [
    "i_3 = [1, 2, 3, 4, 5, 6, 7, 8, 9, 10] \n",
    "print(list(map(lambda x : str(x) , i_3)))"
   ]
  },
  {
   "cell_type": "markdown",
   "id": "bc4b9c05-5326-44fa-b7a9-02f4e717b649",
   "metadata": {},
   "source": [
    "Q4"
   ]
  },
  {
   "cell_type": "code",
   "execution_count": 4,
   "id": "4f60e0dc-a14a-4a60-b342-3704ab03147b",
   "metadata": {},
   "outputs": [
    {
     "name": "stdout",
     "output_type": "stream",
     "text": [
      "15511210043330985984000000\n"
     ]
    }
   ],
   "source": [
    "i_4 = range(1,26)\n",
    "from functools import reduce\n",
    "print(reduce(lambda x,y: x*y, i_4))"
   ]
  },
  {
   "cell_type": "markdown",
   "id": "8740e977-5f79-443f-ac37-c7ed5b9752c7",
   "metadata": {},
   "source": [
    "Q5"
   ]
  },
  {
   "cell_type": "code",
   "execution_count": 5,
   "id": "2bed0ad2-d1c8-4334-bf44-e6e5d5ba4304",
   "metadata": {},
   "outputs": [
    {
     "name": "stdout",
     "output_type": "stream",
     "text": [
      "[2, 3, 6, 9, 27, 60, 90, 120, 46]\n"
     ]
    }
   ],
   "source": [
    "i_5 = [2, 3, 6, 9, 27, 60, 90, 120, 55, 46] \n",
    "print(list(filter(lambda x : x%2 == 0 or x%3 == 0, i_5)))"
   ]
  },
  {
   "cell_type": "markdown",
   "id": "79dcc1cc-85fb-4fe3-836e-b8ef4c2af89e",
   "metadata": {},
   "source": [
    "Q6"
   ]
  },
  {
   "cell_type": "code",
   "execution_count": 6,
   "id": "34dd7904-53d5-44f9-846a-77af9bde4073",
   "metadata": {},
   "outputs": [
    {
     "name": "stdout",
     "output_type": "stream",
     "text": [
      "['php', 'aba', 'radar', 'level']\n"
     ]
    }
   ],
   "source": [
    "s_6 = ['python', 'php', 'aba', 'radar', 'level'] \n",
    "print(list(filter(lambda x : x == \"\".join(reversed(x)), s_6))) \n"
   ]
  },
  {
   "cell_type": "code",
   "execution_count": null,
   "id": "975b8850-687a-486a-af58-0fb197852862",
   "metadata": {},
   "outputs": [],
   "source": []
  }
 ],
 "metadata": {
  "kernelspec": {
   "display_name": "Python 3 (ipykernel)",
   "language": "python",
   "name": "python3"
  },
  "language_info": {
   "codemirror_mode": {
    "name": "ipython",
    "version": 3
   },
   "file_extension": ".py",
   "mimetype": "text/x-python",
   "name": "python",
   "nbconvert_exporter": "python",
   "pygments_lexer": "ipython3",
   "version": "3.10.8"
  }
 },
 "nbformat": 4,
 "nbformat_minor": 5
}
