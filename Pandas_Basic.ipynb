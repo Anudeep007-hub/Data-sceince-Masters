{
 "cells": [
  {
   "cell_type": "markdown",
   "id": "94035978-3deb-434d-83d3-0986b292b7c7",
   "metadata": {},
   "source": [
    "Q-1"
   ]
  },
  {
   "cell_type": "code",
   "execution_count": 2,
   "id": "ee52eaa1-90ba-4673-ae1c-3965e794dc86",
   "metadata": {},
   "outputs": [
    {
     "name": "stdout",
     "output_type": "stream",
     "text": [
      "0     4\n",
      "1     8\n",
      "2    15\n",
      "3    16\n",
      "4    23\n",
      "5    42\n",
      "dtype: int64\n"
     ]
    }
   ],
   "source": [
    "import pandas as pd \n",
    "a = [4,8,15,16,23,42] \n",
    "q1 = pd.Series(a) \n",
    "print(q1)"
   ]
  },
  {
   "cell_type": "markdown",
   "id": "6c2a9f15-6222-4f14-9d5a-cafc67971405",
   "metadata": {},
   "source": [
    "Q-2"
   ]
  },
  {
   "cell_type": "code",
   "execution_count": 9,
   "id": "3192b282-33cf-4e6f-a1f9-48efddbfbe8e",
   "metadata": {},
   "outputs": [
    {
     "name": "stdout",
     "output_type": "stream",
     "text": [
      "0     1\n",
      "1     2\n",
      "2     3\n",
      "3     4\n",
      "4     5\n",
      "5     6\n",
      "6     7\n",
      "7     8\n",
      "8     9\n",
      "9    10\n",
      "dtype: int64\n"
     ]
    }
   ],
   "source": [
    "def func(lst):\n",
    "    q2 = pd.Series(lst)\n",
    "    return q2\n",
    "    \n",
    "    \n",
    "    \n",
    "b = [1,2,3,4,5,6,7,8,9,10] \n",
    "print(func(b))"
   ]
  },
  {
   "cell_type": "markdown",
   "id": "df548697-5baa-4217-b0a3-b5619e050a8c",
   "metadata": {},
   "source": [
    "Q-3"
   ]
  },
  {
   "cell_type": "code",
   "execution_count": 13,
   "id": "4c275696-9e7f-4bb7-838c-14910d0e32cd",
   "metadata": {},
   "outputs": [
    {
     "name": "stdout",
     "output_type": "stream",
     "text": [
      "     name  Age  Gender\n",
      "0   Alice   25  Female\n",
      "1     Bob   30    Male\n",
      "2  Claire   27  Female\n"
     ]
    }
   ],
   "source": [
    "c = {\n",
    "    \"name\":[\"Alice\", \"Bob\", \"Claire\"], \n",
    "    \"Age\":[25,30,27],\n",
    "    \"Gender\":[\"Female\", \"Male\", \"Female\"]\n",
    "} \n",
    "q3 = pd.DataFrame(c)\n",
    "print(q3)"
   ]
  },
  {
   "cell_type": "markdown",
   "id": "04671410-e9b7-4083-a148-7c9394418cbb",
   "metadata": {},
   "source": [
    "Q-4"
   ]
  },
  {
   "cell_type": "raw",
   "id": "d35003c2-5b82-4d0f-a167-9dd5291b2b14",
   "metadata": {},
   "source": [
    "Data Frame:- \n",
    "             Showing up of data in tablualar format using multidimentional arrays, wehre as in Series data is shown up in a singular column."
   ]
  },
  {
   "cell_type": "markdown",
   "id": "574575e2-2683-480c-9afb-e1ad65524ee4",
   "metadata": {},
   "source": [
    "Q-5"
   ]
  },
  {
   "cell_type": "raw",
   "id": "315dfd99-2fdb-477a-8d72-835ac22e14e7",
   "metadata": {},
   "source": [
    "'DataFrame', 'Series', 'heading', 'tail' are some comman functions used in Pandas to manipulate data. \n"
   ]
  },
  {
   "cell_type": "code",
   "execution_count": 14,
   "id": "aeaf4e63-666d-4318-866b-5406c521f07a",
   "metadata": {},
   "outputs": [
    {
     "name": "stdout",
     "output_type": "stream",
     "text": [
      "              Name     Movies Language\n",
      "0        Rajamouli  Baahubali   Telugu\n",
      "1    Prasanth Neel     Salaar   Telugu\n",
      "2  Lokesh Kanagraj     Vikram    Tamil\n"
     ]
    }
   ],
   "source": [
    "# EG:- \n",
    "var1 = {\n",
    "    \"Name\":[\"Rajamouli\", \"Prasanth Neel\", \"Lokesh Kanagraj\"],\n",
    "    \"Movies\":[\"Baahubali\", \"Salaar\", \"Vikram\"], \n",
    "    \"Language\":[\"Telugu\", \"Telugu\", \"Tamil\"]\n",
    "} \n",
    "\n",
    "df1 = pd.DataFrame(var1) \n",
    "df2 = pd.Series(var1) \n"
   ]
  },
  {
   "cell_type": "code",
   "execution_count": 15,
   "id": "8e73714a-2461-4fc5-8c63-d7704031b7bd",
   "metadata": {},
   "outputs": [
    {
     "name": "stdout",
     "output_type": "stream",
     "text": [
      "              Name     Movies Language\n",
      "0        Rajamouli  Baahubali   Telugu\n",
      "1    Prasanth Neel     Salaar   Telugu\n",
      "2  Lokesh Kanagraj     Vikram    Tamil\n"
     ]
    }
   ],
   "source": [
    "print(df1)"
   ]
  },
  {
   "cell_type": "code",
   "execution_count": 16,
   "id": "5dd6b8b0-a5e7-49e4-836b-539799bbf895",
   "metadata": {},
   "outputs": [
    {
     "name": "stdout",
     "output_type": "stream",
     "text": [
      "Name        [Rajamouli, Prasanth Neel, Lokesh Kanagraj]\n",
      "Movies                      [Baahubali, Salaar, Vikram]\n",
      "Language                        [Telugu, Telugu, Tamil]\n",
      "dtype: object\n"
     ]
    }
   ],
   "source": [
    "print(df2)"
   ]
  },
  {
   "cell_type": "code",
   "execution_count": 17,
   "id": "fe2d4a16-1c00-4ff5-a6d3-439c7b021ee0",
   "metadata": {},
   "outputs": [
    {
     "name": "stdout",
     "output_type": "stream",
     "text": [
      "            Name     Movies Language\n",
      "0      Rajamouli  Baahubali   Telugu\n",
      "1  Prasanth Neel     Salaar   Telugu\n"
     ]
    }
   ],
   "source": [
    "print(df1.head(2))"
   ]
  },
  {
   "cell_type": "code",
   "execution_count": 18,
   "id": "8467901b-d6c9-43de-93cc-8ca36f5cd28c",
   "metadata": {},
   "outputs": [
    {
     "name": "stdout",
     "output_type": "stream",
     "text": [
      "              Name  Movies Language\n",
      "2  Lokesh Kanagraj  Vikram    Tamil\n"
     ]
    }
   ],
   "source": [
    "print(df1.tail(1))"
   ]
  },
  {
   "cell_type": "code",
   "execution_count": 19,
   "id": "f53e357c-09a0-429b-b83a-e77c0150ac13",
   "metadata": {},
   "outputs": [
    {
     "name": "stdout",
     "output_type": "stream",
     "text": [
      "              Name     Movies Language\n",
      "0        Rajamouli  Baahubali   Telugu\n",
      "1    Prasanth Neel     Salaar   Telugu\n",
      "2  Lokesh Kanagraj     Vikram    Tamil\n"
     ]
    }
   ],
   "source": []
  },
  {
   "cell_type": "markdown",
   "id": "20a620c1-92e4-451e-96c3-0b9c28c6a2f0",
   "metadata": {},
   "source": [
    "Q-6"
   ]
  },
  {
   "cell_type": "raw",
   "id": "361f33f1-61f7-45b0-b553-c5a4111353c3",
   "metadata": {},
   "source": [
    "Except Series, DataFrames and panel are mutable"
   ]
  },
  {
   "cell_type": "markdown",
   "id": "bbc1c7bf-275d-47db-8204-d3e758c842b5",
   "metadata": {},
   "source": [
    "Q-7"
   ]
  },
  {
   "cell_type": "code",
   "execution_count": 24,
   "id": "6daa4e3d-734f-4824-b2be-5cb9d76c10a0",
   "metadata": {},
   "outputs": [
    {
     "name": "stdout",
     "output_type": "stream",
     "text": [
      "    2   3   4   5   6\n",
      "0   2   3   4   5   6\n",
      "1   4   6   8  10  12\n",
      "2   6   9  12  15  18\n",
      "3   8  12  16  20  24\n",
      "4  10  15  20  25  30\n"
     ]
    }
   ],
   "source": [
    "n = {\n",
    "    \"2\":[2,4,6,8,10],\n",
    "    \"3\":[3,6,9,12,15],\n",
    "    \"4\":[4,8,12,16,20],\n",
    "    \"5\":[5,10,15,20,25],\n",
    "    \"6\":[6,12,18,24,30]\n",
    "} \n",
    "df6 = pd.DataFrame(n) \n",
    "print(df6)"
   ]
  },
  {
   "cell_type": "code",
   "execution_count": null,
   "id": "da388366-ff3e-45d9-8b50-72557b96b291",
   "metadata": {},
   "outputs": [],
   "source": []
  }
 ],
 "metadata": {
  "kernelspec": {
   "display_name": "Python 3 (ipykernel)",
   "language": "python",
   "name": "python3"
  },
  "language_info": {
   "codemirror_mode": {
    "name": "ipython",
    "version": 3
   },
   "file_extension": ".py",
   "mimetype": "text/x-python",
   "name": "python",
   "nbconvert_exporter": "python",
   "pygments_lexer": "ipython3",
   "version": "3.10.8"
  }
 },
 "nbformat": 4,
 "nbformat_minor": 5
}
