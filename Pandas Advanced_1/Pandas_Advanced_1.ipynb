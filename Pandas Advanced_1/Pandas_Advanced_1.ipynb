{
 "cells": [
  {
   "cell_type": "markdown",
   "id": "db3c4728-a447-4d53-b970-06cd59442646",
   "metadata": {},
   "source": [
    "Q-1"
   ]
  },
  {
   "cell_type": "markdown",
   "id": "d6ca6cc6-2508-480d-8702-994f8c61aa73",
   "metadata": {},
   "source": [
    "Here are the five functions in pandas"
   ]
  },
  {
   "cell_type": "code",
   "execution_count": 2,
   "id": "bc4e710d-5b81-4459-87fb-c055b581f454",
   "metadata": {},
   "outputs": [
    {
     "name": "stdout",
     "output_type": "stream",
     "text": [
      "    id         name  class  mark  gender\n",
      "0    1     John Deo   Four    75  female\n",
      "1    2     Max Ruin  Three    85    male\n",
      "2    3       Arnold  Three    55    male\n",
      "3    4   Krish Star   Four    60  female\n",
      "4    5    John Mike   Four    60  female\n",
      "5    6    Alex John   Four    55    male\n",
      "6    7  My John Rob  Fifth    78    male\n",
      "7    8       Asruid   Five    85    male\n",
      "8    9      Tes Qry    Six    78    male\n",
      "9   10     Big John   Four    55  female\n",
      "10  11       Ronald    Six    89  female\n",
      "11  12        Recky    Six    94  female\n",
      "12  13          Kty  Seven    88  female\n",
      "13  14         Bigy  Seven    88  female\n",
      "14  15     Tade Row   Four    88    male\n",
      "15  16        Gimmy   Four    88    male\n",
      "16  17        Tumyu    Six    54    male\n",
      "17  18        Honny   Five    75    male\n",
      "18  19        Tinny   Nine    18    male\n",
      "19  20       Jackly   Nine    65  female\n",
      "20  21   Babby John   Four    69  female\n",
      "21  22       Reggid  Seven    55  female\n",
      "22  23        Herod  Eight    79    male\n",
      "23  24    Tiddy Now  Seven    78    male\n",
      "24  25     Giff Tow  Seven    88    male\n",
      "25  26       Crelea  Seven    79    male\n",
      "26  27     Big Nose  Three    81  female\n",
      "27  28    Rojj Base  Seven    86  female\n",
      "28  29  Tess Played  Seven    55    male\n",
      "29  30    Reppy Red    Six    79  female\n",
      "30  31  Marry Toeey   Four    88    male\n",
      "31  32    Binn Rott  Seven    90  female\n",
      "32  33    Kenn Rein    Six    96  female\n",
      "33  34     Gain Toe  Seven    69    male\n",
      "34  35   Rows Noump    Six    88  female\n"
     ]
    }
   ],
   "source": [
    "# read_csv - first function\n",
    "import pandas as pd \n",
    "df = pd.read_csv(\"student.csv\") \n",
    "print(df)\n"
   ]
  },
  {
   "cell_type": "code",
   "execution_count": 3,
   "id": "c8eb5fe5-8421-4194-ab7a-d9060cba638a",
   "metadata": {},
   "outputs": [
    {
     "data": {
      "text/html": [
       "<div>\n",
       "<style scoped>\n",
       "    .dataframe tbody tr th:only-of-type {\n",
       "        vertical-align: middle;\n",
       "    }\n",
       "\n",
       "    .dataframe tbody tr th {\n",
       "        vertical-align: top;\n",
       "    }\n",
       "\n",
       "    .dataframe thead th {\n",
       "        text-align: right;\n",
       "    }\n",
       "</style>\n",
       "<table border=\"1\" class=\"dataframe\">\n",
       "  <thead>\n",
       "    <tr style=\"text-align: right;\">\n",
       "      <th></th>\n",
       "      <th>id</th>\n",
       "      <th>name</th>\n",
       "      <th>class</th>\n",
       "      <th>mark</th>\n",
       "      <th>gender</th>\n",
       "    </tr>\n",
       "  </thead>\n",
       "  <tbody>\n",
       "    <tr>\n",
       "      <th>0</th>\n",
       "      <td>1</td>\n",
       "      <td>John Deo</td>\n",
       "      <td>Four</td>\n",
       "      <td>75</td>\n",
       "      <td>female</td>\n",
       "    </tr>\n",
       "    <tr>\n",
       "      <th>1</th>\n",
       "      <td>2</td>\n",
       "      <td>Max Ruin</td>\n",
       "      <td>Three</td>\n",
       "      <td>85</td>\n",
       "      <td>male</td>\n",
       "    </tr>\n",
       "    <tr>\n",
       "      <th>2</th>\n",
       "      <td>3</td>\n",
       "      <td>Arnold</td>\n",
       "      <td>Three</td>\n",
       "      <td>55</td>\n",
       "      <td>male</td>\n",
       "    </tr>\n",
       "    <tr>\n",
       "      <th>3</th>\n",
       "      <td>4</td>\n",
       "      <td>Krish Star</td>\n",
       "      <td>Four</td>\n",
       "      <td>60</td>\n",
       "      <td>female</td>\n",
       "    </tr>\n",
       "    <tr>\n",
       "      <th>4</th>\n",
       "      <td>5</td>\n",
       "      <td>John Mike</td>\n",
       "      <td>Four</td>\n",
       "      <td>60</td>\n",
       "      <td>female</td>\n",
       "    </tr>\n",
       "  </tbody>\n",
       "</table>\n",
       "</div>"
      ],
      "text/plain": [
       "   id        name  class  mark  gender\n",
       "0   1    John Deo   Four    75  female\n",
       "1   2    Max Ruin  Three    85    male\n",
       "2   3      Arnold  Three    55    male\n",
       "3   4  Krish Star   Four    60  female\n",
       "4   5   John Mike   Four    60  female"
      ]
     },
     "execution_count": 3,
     "metadata": {},
     "output_type": "execute_result"
    }
   ],
   "source": [
    "# head - second function \n",
    "df.head() \n",
    "# which displays the first five tuples in a data frame"
   ]
  },
  {
   "cell_type": "code",
   "execution_count": 4,
   "id": "8f0bff1c-cc96-4b24-bbd3-2f737b53dc6d",
   "metadata": {},
   "outputs": [
    {
     "data": {
      "text/html": [
       "<div>\n",
       "<style scoped>\n",
       "    .dataframe tbody tr th:only-of-type {\n",
       "        vertical-align: middle;\n",
       "    }\n",
       "\n",
       "    .dataframe tbody tr th {\n",
       "        vertical-align: top;\n",
       "    }\n",
       "\n",
       "    .dataframe thead th {\n",
       "        text-align: right;\n",
       "    }\n",
       "</style>\n",
       "<table border=\"1\" class=\"dataframe\">\n",
       "  <thead>\n",
       "    <tr style=\"text-align: right;\">\n",
       "      <th></th>\n",
       "      <th>id</th>\n",
       "      <th>name</th>\n",
       "      <th>class</th>\n",
       "      <th>mark</th>\n",
       "      <th>gender</th>\n",
       "    </tr>\n",
       "  </thead>\n",
       "  <tbody>\n",
       "    <tr>\n",
       "      <th>30</th>\n",
       "      <td>31</td>\n",
       "      <td>Marry Toeey</td>\n",
       "      <td>Four</td>\n",
       "      <td>88</td>\n",
       "      <td>male</td>\n",
       "    </tr>\n",
       "    <tr>\n",
       "      <th>31</th>\n",
       "      <td>32</td>\n",
       "      <td>Binn Rott</td>\n",
       "      <td>Seven</td>\n",
       "      <td>90</td>\n",
       "      <td>female</td>\n",
       "    </tr>\n",
       "    <tr>\n",
       "      <th>32</th>\n",
       "      <td>33</td>\n",
       "      <td>Kenn Rein</td>\n",
       "      <td>Six</td>\n",
       "      <td>96</td>\n",
       "      <td>female</td>\n",
       "    </tr>\n",
       "    <tr>\n",
       "      <th>33</th>\n",
       "      <td>34</td>\n",
       "      <td>Gain Toe</td>\n",
       "      <td>Seven</td>\n",
       "      <td>69</td>\n",
       "      <td>male</td>\n",
       "    </tr>\n",
       "    <tr>\n",
       "      <th>34</th>\n",
       "      <td>35</td>\n",
       "      <td>Rows Noump</td>\n",
       "      <td>Six</td>\n",
       "      <td>88</td>\n",
       "      <td>female</td>\n",
       "    </tr>\n",
       "  </tbody>\n",
       "</table>\n",
       "</div>"
      ],
      "text/plain": [
       "    id         name  class  mark  gender\n",
       "30  31  Marry Toeey   Four    88    male\n",
       "31  32    Binn Rott  Seven    90  female\n",
       "32  33    Kenn Rein    Six    96  female\n",
       "33  34     Gain Toe  Seven    69    male\n",
       "34  35   Rows Noump    Six    88  female"
      ]
     },
     "execution_count": 4,
     "metadata": {},
     "output_type": "execute_result"
    }
   ],
   "source": [
    "# tail- third function \n",
    "df.tail() \n",
    "# which results in showing the last five tuples in a fata frame"
   ]
  },
  {
   "cell_type": "code",
   "execution_count": 5,
   "id": "f794ddad-20d9-4446-810b-467d4b138502",
   "metadata": {},
   "outputs": [
    {
     "data": {
      "text/html": [
       "<div>\n",
       "<style scoped>\n",
       "    .dataframe tbody tr th:only-of-type {\n",
       "        vertical-align: middle;\n",
       "    }\n",
       "\n",
       "    .dataframe tbody tr th {\n",
       "        vertical-align: top;\n",
       "    }\n",
       "\n",
       "    .dataframe thead th {\n",
       "        text-align: right;\n",
       "    }\n",
       "</style>\n",
       "<table border=\"1\" class=\"dataframe\">\n",
       "  <thead>\n",
       "    <tr style=\"text-align: right;\">\n",
       "      <th></th>\n",
       "      <th>id</th>\n",
       "      <th>mark</th>\n",
       "    </tr>\n",
       "  </thead>\n",
       "  <tbody>\n",
       "    <tr>\n",
       "      <th>count</th>\n",
       "      <td>35.000000</td>\n",
       "      <td>35.000000</td>\n",
       "    </tr>\n",
       "    <tr>\n",
       "      <th>mean</th>\n",
       "      <td>18.000000</td>\n",
       "      <td>74.657143</td>\n",
       "    </tr>\n",
       "    <tr>\n",
       "      <th>std</th>\n",
       "      <td>10.246951</td>\n",
       "      <td>16.401117</td>\n",
       "    </tr>\n",
       "    <tr>\n",
       "      <th>min</th>\n",
       "      <td>1.000000</td>\n",
       "      <td>18.000000</td>\n",
       "    </tr>\n",
       "    <tr>\n",
       "      <th>25%</th>\n",
       "      <td>9.500000</td>\n",
       "      <td>62.500000</td>\n",
       "    </tr>\n",
       "    <tr>\n",
       "      <th>50%</th>\n",
       "      <td>18.000000</td>\n",
       "      <td>79.000000</td>\n",
       "    </tr>\n",
       "    <tr>\n",
       "      <th>75%</th>\n",
       "      <td>26.500000</td>\n",
       "      <td>88.000000</td>\n",
       "    </tr>\n",
       "    <tr>\n",
       "      <th>max</th>\n",
       "      <td>35.000000</td>\n",
       "      <td>96.000000</td>\n",
       "    </tr>\n",
       "  </tbody>\n",
       "</table>\n",
       "</div>"
      ],
      "text/plain": [
       "              id       mark\n",
       "count  35.000000  35.000000\n",
       "mean   18.000000  74.657143\n",
       "std    10.246951  16.401117\n",
       "min     1.000000  18.000000\n",
       "25%     9.500000  62.500000\n",
       "50%    18.000000  79.000000\n",
       "75%    26.500000  88.000000\n",
       "max    35.000000  96.000000"
      ]
     },
     "execution_count": 5,
     "metadata": {},
     "output_type": "execute_result"
    }
   ],
   "source": [
    "# describe - fourth function \n",
    "df.describe() \n",
    "# describe which results in showing up of basic mathematical fucntions \n",
    "# of only numerical data type"
   ]
  },
  {
   "cell_type": "code",
   "execution_count": 8,
   "id": "c0355428-3015-4edc-ae00-af3a7471fd26",
   "metadata": {},
   "outputs": [
    {
     "name": "stdout",
     "output_type": "stream",
     "text": [
      "    id         name  class  mark  gender\n",
      "0    1     John Deo   Four    75  female\n",
      "1    2     Max Ruin  Three    85    male\n",
      "2    3       Arnold  Three    55    male\n",
      "3    4   Krish Star   Four    60  female\n",
      "4    5    John Mike   Four    60  female\n",
      "5    6    Alex John   Four    55    male\n",
      "6    7  My John Rob   Five    78    male\n",
      "7    8       Asruid   Five    85    male\n",
      "8    9      Tes Qry    Six    78    male\n",
      "9   10     Big John   Four    55  female\n",
      "10  11       Ronald    Six    89  female\n",
      "11  12        Recky    Six    94  female\n",
      "12  13          Kty  Seven    88  female\n",
      "13  14         Bigy  Seven    88  female\n",
      "14  15     Tade Row   Four    88    male\n",
      "15  16        Gimmy   Four    88    male\n",
      "16  17        Tumyu    Six    54    male\n",
      "17  18        Honny   Five    75    male\n",
      "18  19        Tinny   Nine    18    male\n",
      "19  20       Jackly   Nine    65  female\n",
      "20  21   Babby John   Four    69  female\n",
      "21  22       Reggid  Seven    55  female\n",
      "22  23        Herod  Eight    79    male\n",
      "23  24    Tiddy Now  Seven    78    male\n",
      "24  25     Giff Tow    Six    88    male\n",
      "25  26       Crelea  Seven    79    male\n",
      "26  27     Big Nose  Three    81  female\n",
      "27  28    Rojj Base  Seven    86  female\n",
      "28  29  Tess Played  Seven    55    male\n",
      "29  30    Reppy Red    Six    79  female\n",
      "30  31  Marry Toeey   Four    88    male\n",
      "31  32    Binn Rott  Seven    90  female\n",
      "32  33    Kenn Rein    Six    96  female\n",
      "33  34     Gain Toe  Seven    69    male\n",
      "34  35   Rows Noump    Six    88  female\n"
     ]
    }
   ],
   "source": [
    "# read_excel \n",
    "fg = pd.read_excel(\"student.xlsx\") \n",
    "print(fg) \n",
    "# This properety read the file that is in excel format"
   ]
  },
  {
   "cell_type": "markdown",
   "id": "42034f7b-878a-480b-a6ed-3096fb68be8b",
   "metadata": {},
   "source": [
    "Q-2"
   ]
  },
  {
   "cell_type": "code",
   "execution_count": 4,
   "id": "278234bb-c9ea-41aa-a3da-c268651f6fc2",
   "metadata": {},
   "outputs": [
    {
     "name": "stdout",
     "output_type": "stream",
     "text": [
      "Original DataFrame:\n",
      "    A   B   C\n",
      "0  10  40  70\n",
      "1  20  50  80\n",
      "2  30  60  90\n",
      "\n",
      "DataFrame after reindexing:\n",
      "    A   B   C\n",
      "1  10  40  70\n",
      "3  20  50  80\n",
      "5  30  60  90\n"
     ]
    }
   ],
   "source": [
    "import pandas as pd \n",
    "\n",
    "\n",
    "def reindex_dataframe(df):\n",
    "    # Create a new index starting from 1 and incrementing by 2\n",
    "    new_index = range(1, len(df) * 2, 2)\n",
    "    \n",
    "    # Set the new index to the DataFrame\n",
    "    df_reindexed = df.set_index(pd.Index(new_index))\n",
    "    \n",
    "    return df_reindexed\n",
    "\n",
    "# Example usage:\n",
    "# Create a sample DataFrame with columns 'A', 'B', and 'C'\n",
    "data = {'A': [10, 20, 30],\n",
    "        'B': [40, 50, 60],\n",
    "        'C': [70, 80, 90]}\n",
    "\n",
    "df = pd.DataFrame(data)\n",
    "\n",
    "# Display the original DataFrame\n",
    "print(\"Original DataFrame:\")\n",
    "print(df)\n",
    "\n",
    "# Call the function to reindex the DataFrame\n",
    "df_reindexed = reindex_dataframe(df)\n",
    "\n",
    "# Display the DataFrame after reindexing\n",
    "print(\"\\nDataFrame after reindexing:\")\n",
    "print(df_reindexed)\n"
   ]
  },
  {
   "cell_type": "markdown",
   "id": "e45745e0-5e62-464d-badc-29916b732026",
   "metadata": {},
   "source": [
    "Q-3"
   ]
  },
  {
   "cell_type": "code",
   "execution_count": 13,
   "id": "07050cf8-d79b-4ae3-88eb-fb0654117a2d",
   "metadata": {},
   "outputs": [
    {
     "name": "stdout",
     "output_type": "stream",
     "text": [
      "Values    70\n",
      "Name: 0, dtype: int64\n"
     ]
    }
   ],
   "source": [
    "import pandas as pd \n",
    "def return_sum(df):\n",
    "    temp = 0\n",
    "    for i in range(3):\n",
    "        temp += df.loc[i] # Itering the row values \n",
    "    return temp # returning the sum of first three values\n",
    "\n",
    "pdx = {\n",
    "    \"Values\":[12,13,45,78,90,32,54]\n",
    "}\n",
    "\n",
    "df = pd.DataFrame(pdx)\n",
    "x = return_sum(df)\n",
    "print(x)\n",
    "\n",
    "\n",
    "    \n",
    "        \n",
    "    \n",
    "    "
   ]
  },
  {
   "cell_type": "markdown",
   "id": "692f6735-6e4b-4da8-88c2-5d69942231dc",
   "metadata": {},
   "source": [
    "Q-4"
   ]
  },
  {
   "cell_type": "code",
   "execution_count": 43,
   "id": "95418470-52be-4124-8051-f4a835df897b",
   "metadata": {},
   "outputs": [
    {
     "name": "stdout",
     "output_type": "stream",
     "text": [
      "                          Text  Word_Count\n",
      "0                Hello, world!           2\n",
      "1            Python is awesome           3\n",
      "2  Data Science is interesting           4\n"
     ]
    }
   ],
   "source": [
    "import pandas as pd\n",
    "\n",
    "def add_word_count_column(df, text_column_name='Text', new_column_name='Word_Count'):\n",
    "    # Function to count the number of words in a text\n",
    "    def count_words(text):\n",
    "        words = str(text).split()\n",
    "        return len(words)\n",
    "\n",
    "    # Apply the function to create the new column\n",
    "    df[new_column_name] = df[text_column_name].apply(count_words)\n",
    "\n",
    "    return df\n",
    "\n",
    "# Example usage:\n",
    "# Create a sample DataFrame\n",
    "data = {'Text': ['Hello, world!', 'Python is awesome', 'Data Science is interesting']}\n",
    "df1 = pd.DataFrame(data)\n",
    "\n",
    "# Call the function to add the 'Word_Count' column\n",
    "df1 = add_word_count_column(df)\n",
    "\n",
    "# Display the updated DataFrame\n",
    "print(df1)\n"
   ]
  },
  {
   "cell_type": "markdown",
   "id": "a16d43b2-8660-40c7-972b-e4e03fb5f48d",
   "metadata": {},
   "source": [
    "Q-5"
   ]
  },
  {
   "cell_type": "code",
   "execution_count": 45,
   "id": "1b446672-8838-427d-b066-4c74984e8c00",
   "metadata": {},
   "outputs": [
    {
     "data": {
      "text/plain": [
       "12"
      ]
     },
     "execution_count": 45,
     "metadata": {},
     "output_type": "execute_result"
    }
   ],
   "source": [
    "import pandas as pd\n",
    "\n",
    "pdf = {\n",
    "    \"A\":[1,2,3,4,5,6], \n",
    "    \"B\" :[12,13,14,15,16, 17]\n",
    "} \n",
    "\n",
    "df = pd.DataFrame(pdf)\n",
    "\n",
    "df.size # It refers to size of the total data frame columns\n"
   ]
  },
  {
   "cell_type": "code",
   "execution_count": 46,
   "id": "0a6d6003-069a-43d7-a3f6-acbd31157257",
   "metadata": {},
   "outputs": [
    {
     "data": {
      "text/plain": [
       "(6, 2)"
      ]
     },
     "execution_count": 46,
     "metadata": {},
     "output_type": "execute_result"
    }
   ],
   "source": [
    "df.shape # It refer to pair of values with first value containing number of tuples and second value containing number of columns "
   ]
  },
  {
   "cell_type": "markdown",
   "id": "eecb263b-4e0d-4875-8e5e-fa93ec217e51",
   "metadata": {},
   "source": [
    "Q-6"
   ]
  },
  {
   "cell_type": "code",
   "execution_count": 48,
   "id": "d740a784-b853-4133-b268-0652151dcb6c",
   "metadata": {},
   "outputs": [
    {
     "name": "stdout",
     "output_type": "stream",
     "text": [
      "    id         name  class  mark  gender\n",
      "0    1     John Deo   Four    75  female\n",
      "1    2     Max Ruin  Three    85    male\n",
      "2    3       Arnold  Three    55    male\n",
      "3    4   Krish Star   Four    60  female\n",
      "4    5    John Mike   Four    60  female\n",
      "5    6    Alex John   Four    55    male\n",
      "6    7  My John Rob   Five    78    male\n",
      "7    8       Asruid   Five    85    male\n",
      "8    9      Tes Qry    Six    78    male\n",
      "9   10     Big John   Four    55  female\n",
      "10  11       Ronald    Six    89  female\n",
      "11  12        Recky    Six    94  female\n",
      "12  13          Kty  Seven    88  female\n",
      "13  14         Bigy  Seven    88  female\n",
      "14  15     Tade Row   Four    88    male\n",
      "15  16        Gimmy   Four    88    male\n",
      "16  17        Tumyu    Six    54    male\n",
      "17  18        Honny   Five    75    male\n",
      "18  19        Tinny   Nine    18    male\n",
      "19  20       Jackly   Nine    65  female\n",
      "20  21   Babby John   Four    69  female\n",
      "21  22       Reggid  Seven    55  female\n",
      "22  23        Herod  Eight    79    male\n",
      "23  24    Tiddy Now  Seven    78    male\n",
      "24  25     Giff Tow    Six    88    male\n",
      "25  26       Crelea  Seven    79    male\n",
      "26  27     Big Nose  Three    81  female\n",
      "27  28    Rojj Base  Seven    86  female\n",
      "28  29  Tess Played  Seven    55    male\n",
      "29  30    Reppy Red    Six    79  female\n",
      "30  31  Marry Toeey   Four    88    male\n",
      "31  32    Binn Rott  Seven    90  female\n",
      "32  33    Kenn Rein    Six    96  female\n",
      "33  34     Gain Toe  Seven    69    male\n",
      "34  35   Rows Noump    Six    88  female\n"
     ]
    }
   ],
   "source": [
    "# we use pd.read_excel(\"File.xlsx\") fucntion to read pandas \n",
    "import pandas as pd \n",
    "df = pd.read_excel(\"student.xlsx\") \n",
    "print(df)"
   ]
  },
  {
   "cell_type": "markdown",
   "id": "2a36ba43-e21f-448a-9f4a-635dda763546",
   "metadata": {},
   "source": [
    "Q-7"
   ]
  },
  {
   "cell_type": "code",
   "execution_count": 27,
   "id": "7775e29d-aae5-4d92-bf30-2c90eaac7e8a",
   "metadata": {},
   "outputs": [
    {
     "name": "stdout",
     "output_type": "stream",
     "text": [
      "                 Email  Username\n",
      "0       joe@domain.com       joe\n",
      "1    mathew@domain.com    mathew\n",
      "2      root@domain.com      root\n",
      "3     messi@domain.com     messi\n",
      "4  anderson@domain.com  anderson\n",
      "5     david@domain.com     david\n"
     ]
    }
   ],
   "source": [
    "import pandas as pd  \n",
    "\n",
    "def user_name(df7):\n",
    "    for i in range(len(df7)):\n",
    "        x = df7[\"Email\"][i]\n",
    "        y = x.split(\"@\")\n",
    "        df7[\"Username\"][i] = y[0]\n",
    "    \n",
    "\n",
    "\n",
    "\n",
    "f7 = {\n",
    "    \"Email\":[\"joe@domain.com\", \"mathew@domain.com\", \"root@domain.com\",\n",
    "            \"messi@domain.com\",\"anderson@domain.com\",\"david@domain.com\"] \n",
    "} \n",
    "df7 = pd.DataFrame(f7)  \n",
    "df7[\"Username\"] = None\n",
    "user_name(df7) \n",
    "print(df7)\n",
    "\n"
   ]
  },
  {
   "cell_type": "markdown",
   "id": "bd56f10a-9e34-4adf-80a1-59ee01d32a2a",
   "metadata": {},
   "source": [
    "Q-8"
   ]
  },
  {
   "cell_type": "code",
   "execution_count": 32,
   "id": "9aa506df-4a92-4473-8540-1ca07b6fe582",
   "metadata": {},
   "outputs": [
    {
     "name": "stdout",
     "output_type": "stream",
     "text": [
      "   A  B   C\n",
      "3  7  2  26\n",
      "4  9  3  27\n"
     ]
    }
   ],
   "source": [
    "import pandas as pd  \n",
    "\n",
    "def arth(df8):\n",
    "    lsn = df8[(df8[\"A\"]>5) & (df8[\"B\"]<10)]\n",
    "    print(lsn)\n",
    "    \n",
    "    \n",
    "\n",
    "f8 = { \"A\":[1,3,5,7,9,12,34,90],\n",
    "       \"B\":[4,5,6,2,3,14,17,18],\n",
    "      \"C\":[23,24,25,26,27,28,30,34]\n",
    "} \n",
    "df8 = pd.DataFrame(f8)  \n",
    "arth(df8)\n",
    "\n",
    "\n"
   ]
  },
  {
   "cell_type": "markdown",
   "id": "f9d590d1-ad12-4bdf-8db9-8c64c9c56297",
   "metadata": {},
   "source": [
    "Q-9"
   ]
  },
  {
   "cell_type": "code",
   "execution_count": 47,
   "id": "0bcb5ba0-2428-4663-b14c-6f8b95246e01",
   "metadata": {},
   "outputs": [
    {
     "name": "stdout",
     "output_type": "stream",
     "text": [
      "{'Mean': 17.77777777777778, 'Median': 5.0, 'Standard Deviation': 38.470046067615314}\n"
     ]
    }
   ],
   "source": [
    "import pandas as pd\n",
    "\n",
    "def calculate_statistics(df):\n",
    "    # Check if the 'Values' column exists in the DataFrame\n",
    "    if 'Values' not in df.columns:\n",
    "        return \"Error: 'Values' column not found in the DataFrame.\"\n",
    "\n",
    "    # Calculate mean, median, and standard deviation\n",
    "    mean_value = df['Values'].mean()\n",
    "    median_value = df['Values'].median()\n",
    "    std_deviation = df['Values'].std()\n",
    "\n",
    "    # Create a dictionary to store the results\n",
    "    result_dict = {\n",
    "        'Mean': mean_value,\n",
    "        'Median': median_value,\n",
    "        'Standard Deviation': std_deviation\n",
    "    }\n",
    "\n",
    "    return result_dict\n",
    "\n",
    "\n",
    "\n",
    "f9 = {\n",
    "    \"Values\":[1,2,3,4,5,6,7,12,120]\n",
    "}\n",
    "\n",
    "df9 = pd.DataFrame(f9)\n",
    "new_df9 = calculate_statistics(df9)\n",
    "print(new_df9)"
   ]
  },
  {
   "cell_type": "markdown",
   "id": "fe8c1707-c553-472d-b78a-a420df7e030d",
   "metadata": {},
   "source": [
    "Q-10"
   ]
  },
  {
   "cell_type": "code",
   "execution_count": 52,
   "id": "4970cd3c-9833-4710-ad9d-32a68d7a119a",
   "metadata": {},
   "outputs": [
    {
     "name": "stdout",
     "output_type": "stream",
     "text": [
      "   Sales  Date  MovingAverage\n",
      "0     12 -2034      12.000000\n",
      "1     23 -2033      17.500000\n",
      "2     45 -2032      26.666667\n",
      "3     67 -2031      36.750000\n",
      "4     12 -2030      31.800000\n",
      "5     33 -2029      32.000000\n",
      "6     22 -2028      30.571429\n",
      "7     90 -2027      41.714286\n",
      "8    100 -2026      52.714286\n"
     ]
    }
   ],
   "source": [
    "import pandas as pd \n",
    "\n",
    "\n",
    "\n",
    "def calculate_moving_average(df):\n",
    "    # Check if the required columns exist in the DataFrame\n",
    "    if 'Sales' not in df.columns or 'Date' not in df.columns:\n",
    "        return \"Error: 'Sales' and 'Date' columns are required in the DataFrame.\"\n",
    "\n",
    "    # Sort the DataFrame by the 'Date' column\n",
    "    df.sort_values(by='Date', inplace=True)\n",
    "\n",
    "    # Calculate the moving average using a window of size 7\n",
    "    df['MovingAverage'] = df['Sales'].rolling(window=7, min_periods=1).mean()\n",
    "\n",
    "    return df\n",
    "\n",
    "# Example usage:\n",
    "# Assuming 'df' is your DataFrame\n",
    "# df = calculate_moving_average(df)\n",
    "# print(df)\n",
    "\n",
    "\n",
    "\n",
    "\n",
    "\n",
    "\n",
    "\n",
    "\n",
    "\n",
    "f10 = {\n",
    "    \"Sales\":[12,23,45,67,12,33,22,90,100],\n",
    "    \"Date\":[1-12-2023, 2-12-2023, 3-12-2023,4-12-2023,\n",
    "           5-12-2023,6-12-2023,7-12-2023,8-12-2023,\n",
    "           9-12-2023]\n",
    "}\n",
    "\n",
    "df10 = pd.DataFrame(f10) \n",
    "new_df10 = calculate_moving_average(df10)\n",
    "print(new_df10)"
   ]
  },
  {
   "cell_type": "markdown",
   "id": "004ea232-9af8-41ad-8a03-14791736b38a",
   "metadata": {},
   "source": [
    "Q-11"
   ]
  },
  {
   "cell_type": "code",
   "execution_count": 59,
   "id": "213a88e4-6dcb-4f12-b40b-ec014e32ee37",
   "metadata": {},
   "outputs": [
    {
     "name": "stdout",
     "output_type": "stream",
     "text": [
      "   Date                      new_Date   Weekday\n",
      "0  1933 1970-01-01 00:00:00.000001933  Thursday\n",
      "1  2002 1970-01-01 00:00:00.000002002  Thursday\n",
      "2  2006 1970-01-01 00:00:00.000002006  Thursday\n",
      "3  2006 1970-01-01 00:00:00.000002006  Thursday\n",
      "4  2008 1970-01-01 00:00:00.000002008  Thursday\n",
      "5  2004 1970-01-01 00:00:00.000002004  Thursday\n"
     ]
    }
   ],
   "source": [
    "import pandas as pd\n",
    "\n",
    "def add_weekday_column(df):\n",
    "    # Check if the 'Date' column exists in the DataFrame\n",
    "    if 'Date' not in df.columns:\n",
    "        return \"Error: 'Date' column not found in the DataFrame.\"\n",
    "\n",
    "    # Convert the 'Date' column to datetime if it's not already\n",
    "    df['new_Date'] = pd.to_datetime(df['Date'])\n",
    "\n",
    "    # Add a new 'Weekday' column with the weekday names\n",
    "    df['Weekday'] = df['new_Date'].dt.day_name()\n",
    "\n",
    "    return df\n",
    "\n",
    "f11 = {\n",
    "    \"Date\":[2023-12-78, 2021-17-2, 2022-12-4, 2023-9-8, 2023-3-12, 2022-5-13]\n",
    "}\n",
    "df11 = pd.DataFrame(f11)\n",
    "new_df11 = add_weekday_column(df11)\n",
    "print(new_df11)"
   ]
  },
  {
   "cell_type": "markdown",
   "id": "ff57d787-7399-43ca-bc2b-5d0275cbcfcb",
   "metadata": {},
   "source": [
    "Q-12"
   ]
  },
  {
   "cell_type": "code",
   "execution_count": 67,
   "id": "42d345a9-b9a2-4c0a-a81e-6e91b95ae905",
   "metadata": {},
   "outputs": [
    {
     "name": "stdout",
     "output_type": "stream",
     "text": [
      "Empty DataFrame\n",
      "Columns: [Date, Value]\n",
      "Index: []\n"
     ]
    }
   ],
   "source": [
    "import pandas as pd\n",
    "\n",
    "# Sample DataFrame with 'Date' column containing timestamps\n",
    "data = {'Date': [2023-1-13, 2022-1-24, 2020-1-14, 2019-12-4,\n",
    "                2021-12-4, 2016-1-4, 2017-12-4, 2018-12-4,\n",
    "                ],\n",
    "        'Value': [1,2,3,4,5,6,7,8]}\n",
    "\n",
    "df = pd.DataFrame(data)\n",
    "\n",
    "# Function to filter rows based on date range\n",
    "def filter_date_range(df, start_date, end_date):\n",
    "    df['Date'] = pd.to_datetime(df['Date'])  # Convert 'Date' column to datetime\n",
    "    filtered_df = df[(df['Date'] >= start_date) & (df['Date'] <= end_date)].copy()  # Make a copy to avoid SettingWithCopyWarning\n",
    "    return filtered_df\n",
    "\n",
    "# Specify the date range\n",
    "start_date = '2023-01-01'\n",
    "end_date = '2023-01-31'\n",
    "\n",
    "# Filter DataFrame based on the date range\n",
    "filtered_df = filter_date_range(df, start_date, end_date)\n",
    "\n",
    "# Print the result\n",
    "print(filtered_df)\n"
   ]
  },
  {
   "cell_type": "markdown",
   "id": "f571734c-f693-4ff5-920e-17995f560c2c",
   "metadata": {},
   "source": [
    "Q-13"
   ]
  },
  {
   "cell_type": "markdown",
   "id": "69920bbb-4c59-4cd4-adcb-f0c3fc448bde",
   "metadata": {},
   "source": [
    "To use basic functions of pandas we need implement the statement \n",
    "\"import pandas as pd\".With this we import pandas libary as we use the fucntions of pandas with the alias name pd like,  \n",
    "\"pd.read_csv(\"File.csv\")\" which reads the data in csv format.\n",
    "An example is given below"
   ]
  },
  {
   "cell_type": "code",
   "execution_count": 2,
   "id": "f7536037-e9c8-415c-bd34-4bb69f3f02a7",
   "metadata": {},
   "outputs": [
    {
     "name": "stdout",
     "output_type": "stream",
     "text": [
      "    id         name  class  mark  gender\n",
      "0    1     John Deo   Four    75  female\n",
      "1    2     Max Ruin  Three    85    male\n",
      "2    3       Arnold  Three    55    male\n",
      "3    4   Krish Star   Four    60  female\n",
      "4    5    John Mike   Four    60  female\n",
      "5    6    Alex John   Four    55    male\n",
      "6    7  My John Rob  Fifth    78    male\n",
      "7    8       Asruid   Five    85    male\n",
      "8    9      Tes Qry    Six    78    male\n",
      "9   10     Big John   Four    55  female\n",
      "10  11       Ronald    Six    89  female\n",
      "11  12        Recky    Six    94  female\n",
      "12  13          Kty  Seven    88  female\n",
      "13  14         Bigy  Seven    88  female\n",
      "14  15     Tade Row   Four    88    male\n",
      "15  16        Gimmy   Four    88    male\n",
      "16  17        Tumyu    Six    54    male\n",
      "17  18        Honny   Five    75    male\n",
      "18  19        Tinny   Nine    18    male\n",
      "19  20       Jackly   Nine    65  female\n",
      "20  21   Babby John   Four    69  female\n",
      "21  22       Reggid  Seven    55  female\n",
      "22  23        Herod  Eight    79    male\n",
      "23  24    Tiddy Now  Seven    78    male\n",
      "24  25     Giff Tow  Seven    88    male\n",
      "25  26       Crelea  Seven    79    male\n",
      "26  27     Big Nose  Three    81  female\n",
      "27  28    Rojj Base  Seven    86  female\n",
      "28  29  Tess Played  Seven    55    male\n",
      "29  30    Reppy Red    Six    79  female\n",
      "30  31  Marry Toeey   Four    88    male\n",
      "31  32    Binn Rott  Seven    90  female\n",
      "32  33    Kenn Rein    Six    96  female\n",
      "33  34     Gain Toe  Seven    69    male\n",
      "34  35   Rows Noump    Six    88  female\n"
     ]
    }
   ],
   "source": [
    "import pandas as pd \n",
    "dff = pd.read_csv(\"student.csv\")\n",
    "print(dff)"
   ]
  },
  {
   "cell_type": "code",
   "execution_count": null,
   "id": "8e4032fc-e20b-4110-9d30-54b9491a05f7",
   "metadata": {},
   "outputs": [],
   "source": []
  }
 ],
 "metadata": {
  "kernelspec": {
   "display_name": "Python 3 (ipykernel)",
   "language": "python",
   "name": "python3"
  },
  "language_info": {
   "codemirror_mode": {
    "name": "ipython",
    "version": 3
   },
   "file_extension": ".py",
   "mimetype": "text/x-python",
   "name": "python",
   "nbconvert_exporter": "python",
   "pygments_lexer": "ipython3",
   "version": "3.10.8"
  }
 },
 "nbformat": 4,
 "nbformat_minor": 5
}
