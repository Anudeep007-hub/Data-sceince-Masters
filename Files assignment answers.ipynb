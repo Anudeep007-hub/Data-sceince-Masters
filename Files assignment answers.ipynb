{
 "cells": [
  {
   "cell_type": "markdown",
   "id": "b423d2e5-7f2a-481a-9593-dd557118f634",
   "metadata": {},
   "source": [
    "Q1\n"
   ]
  },
  {
   "cell_type": "markdown",
   "id": "c9a436d8-faf4-471e-a24f-839ed3c45113",
   "metadata": {},
   "source": [
    " \" open() \" function is used to open a file"
   ]
  },
  {
   "cell_type": "markdown",
   "id": "7b215146-7aa3-4865-a0b8-a614833dfa85",
   "metadata": {},
   "source": [
    "The different modes of opening a file are:-\n",
    "* open(\"file name\", \"w\") -- For appending the file \n",
    "* open(\"file name\", \"r\") -- For reading a file\n",
    "* open(\"file name\", \"wb\") -- For both writing & reading a file"
   ]
  },
  {
   "cell_type": "markdown",
   "id": "488ddb4b-b187-41d8-8b2d-2d88b0d03c1e",
   "metadata": {},
   "source": [
    "Q2"
   ]
  },
  {
   "cell_type": "markdown",
   "id": "9358173a-ee66-40f6-b487-f305067a3667",
   "metadata": {},
   "source": [
    "close() function is used to close a file after making changes to it, especially when we write something in a file we should close the file if not then it will not perform its fucntionality."
   ]
  },
  {
   "cell_type": "markdown",
   "id": "5ce886e2-a5a4-4b4e-a3e9-b8d845ce1cfe",
   "metadata": {},
   "source": [
    "Q3"
   ]
  },
  {
   "cell_type": "code",
   "execution_count": 3,
   "id": "0b88f1a7-7568-43ba-a2a4-ded0907233b9",
   "metadata": {},
   "outputs": [
    {
     "data": {
      "text/plain": [
       "'I want to become a Data Scientist'"
      ]
     },
     "execution_count": 3,
     "metadata": {},
     "output_type": "execute_result"
    }
   ],
   "source": [
    "s = open(\"text.txt\", \"w\") \n",
    "s.write(\"I want to become a Data Scientist\")\n",
    "s.close() \n",
    "\n",
    "s = open(\"text.txt\", \"r\") \n",
    "#s.read()\n",
    "s.readline()"
   ]
  },
  {
   "cell_type": "markdown",
   "id": "d8cf1818-1a83-40db-a34e-a1e3d835d6fe",
   "metadata": {},
   "source": [
    "Q4"
   ]
  },
  {
   "cell_type": "raw",
   "id": "3609329f-b3e2-42f1-874d-0ab0fa68d4e1",
   "metadata": {},
   "source": [
    "read() -- Is used to open a file and read the content in it \n",
    "readline() -- It returns one line of the whole content in a file \n",
    "readlines() -- It returns each line in a lost format from the file that we give"
   ]
  },
  {
   "cell_type": "markdown",
   "id": "375407fc-f0fd-4b1a-af07-bcc17b84a62c",
   "metadata": {},
   "source": [
    "Q5"
   ]
  },
  {
   "cell_type": "raw",
   "id": "bcdce85c-217e-4784-8764-c01fdceb4e70",
   "metadata": {},
   "source": [
    "The with statement in Python is used in conjunction with the open() function to work with files. It provides a convenient way to ensure that resources are properly managed and released, particularly when dealing with file operations."
   ]
  },
  {
   "cell_type": "code",
   "execution_count": 4,
   "id": "7a99a615-32f6-47f5-b7ba-0d164828ced8",
   "metadata": {},
   "outputs": [
    {
     "name": "stdout",
     "output_type": "stream",
     "text": [
      "I want to become a Data Scientist\n"
     ]
    }
   ],
   "source": [
    "with open('text.txt', 'r') as file:\n",
    "    # Perform file operations\n",
    "    data = file.read()\n",
    "    print(data)\n",
    "# File is automatically closed outside the with block\n"
   ]
  },
  {
   "cell_type": "markdown",
   "id": "17aff66f-1918-4280-826d-a79790a4fbe2",
   "metadata": {},
   "source": [
    "Q6"
   ]
  },
  {
   "cell_type": "code",
   "execution_count": 5,
   "id": "720c8702-5b30-4e87-9e18-ad94515d6fd3",
   "metadata": {},
   "outputs": [],
   "source": [
    "\"\"\"\n",
    "\n",
    "The write() function:\n",
    "The write() function is used to write a single string or a sequence of characters to a file. It takes a string as its argument and writes it to the file at the current position. If the file does not exist, it will be created. If the file already exists, the new data will be appended to the end of the file.\n",
    "Here's an example that demonstrates the usage of the write() function:\n",
    "\"\"\"\n",
    "\n",
    "# Open the file in write mode\n",
    "with open('file.txt', 'w') as file:\n",
    "    file.write('Hello, World!\\n')\n",
    "    file.write('This is a test file.\\n')\n"
   ]
  },
  {
   "cell_type": "code",
   "execution_count": 6,
   "id": "3b6b0a68-c1a6-457d-8ba5-072431e39437",
   "metadata": {},
   "outputs": [],
   "source": [
    "\"\"\"\n",
    "The writelines() function:\n",
    "The writelines() function is used to write a list of strings to a file. It takes an iterable (such as a list or tuple) as its argument, where each element represents a line of text to be written. Similar to the write() function, if the file does not exist, it will be created, and if it exists, the new data will be appended to the end of the file.\n",
    "Here's an example that demonstrates the usage of the writelines() function:\n",
    "\"\"\"\n",
    "\n",
    "lines = ['Line 1\\n', 'Line 2\\n', 'Line 3\\n']\n",
    "\n",
    "# Open the file in write mode\n",
    "with open('file.txt', 'w') as file:\n",
    "    file.writelines(lines)\n",
    "\n"
   ]
  },
  {
   "cell_type": "code",
   "execution_count": null,
   "id": "78d2052c-349e-4e45-8f82-a04670f2c832",
   "metadata": {},
   "outputs": [],
   "source": []
  }
 ],
 "metadata": {
  "kernelspec": {
   "display_name": "Python 3 (ipykernel)",
   "language": "python",
   "name": "python3"
  },
  "language_info": {
   "codemirror_mode": {
    "name": "ipython",
    "version": 3
   },
   "file_extension": ".py",
   "mimetype": "text/x-python",
   "name": "python",
   "nbconvert_exporter": "python",
   "pygments_lexer": "ipython3",
   "version": "3.10.8"
  }
 },
 "nbformat": 4,
 "nbformat_minor": 5
}
