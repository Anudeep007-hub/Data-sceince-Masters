{
 "cells": [
  {
   "cell_type": "markdown",
   "id": "daf9312b-c641-4667-9797-b019a81bc98d",
   "metadata": {},
   "source": [
    "Q1\n"
   ]
  },
  {
   "cell_type": "code",
   "execution_count": 9,
   "id": "30fbb249-7c7d-43c4-94a0-ece2ade754a2",
   "metadata": {},
   "outputs": [
    {
     "name": "stdout",
     "output_type": "stream",
     "text": [
      "[1, 3, 5, 7, 9, 11, 13, 15, 17, 19, 21, 23, 25]\n"
     ]
    }
   ],
   "source": [
    "# \"def\" is the key word is used to create a function\n",
    "def odd_num(*a):\n",
    "    odd_str = []\n",
    "    for i in a:\n",
    "        if (i%2 != 0):\n",
    "            odd_str.append(i)\n",
    "    return odd_str\n",
    "print(odd_num(1,2,3,4,5,6,7,8,9,10,11,12,13,14,15,16,17,18,19,20,21,22,23,24,25))\n"
   ]
  },
  {
   "cell_type": "markdown",
   "id": "5e000519-4286-4524-a6fc-29027b7c4a4a",
   "metadata": {},
   "source": [
    "Q2\n"
   ]
  },
  {
   "cell_type": "code",
   "execution_count": 15,
   "id": "6e37e54e-3801-4fd2-9cb5-a224e11f739d",
   "metadata": {},
   "outputs": [
    {
     "name": "stdin",
     "output_type": "stream",
     "text": [
      "Enter any elements 2,34\n"
     ]
    },
    {
     "data": {
      "text/plain": [
       "{'a': 23, 'b': 56}"
      ]
     },
     "execution_count": 15,
     "metadata": {},
     "output_type": "execute_result"
    }
   ],
   "source": [
    "# Actually *args and **kwargs are not key words inplace of that we can define  \n",
    "# any words  \n",
    "# *args is used to input any of data type with users input and store in the form of tuple \n",
    "#Usage of *args in fucntions \n",
    "def find_num(*k):\n",
    "    return k\n",
    "find_num(input(\"Enter any elements\"))\n",
    "# **kwargs is used to store data types in the format of dictionaries.\n",
    "# Usage of **kwargs in fucntions \n",
    "def test(**a):\n",
    "    return a \n",
    "test(a = 23, b = 56)\n"
   ]
  },
  {
   "cell_type": "markdown",
   "id": "77d54459-5226-44fe-b1c5-f5b3e4550cfd",
   "metadata": {},
   "source": [
    "Q3\n"
   ]
  },
  {
   "cell_type": "code",
   "execution_count": 17,
   "id": "c2b41141-31f5-440c-b11e-1df0da19508b",
   "metadata": {},
   "outputs": [
    {
     "name": "stdout",
     "output_type": "stream",
     "text": [
      "2\n",
      "4\n",
      "6\n",
      "8\n",
      "10\n"
     ]
    }
   ],
   "source": [
    "# Iterator is a format in which we can store countable number of objects\n",
    "# next()is used to return the next item in a series \n",
    "# generally for loop is used for iteration of objects undder conditions\n",
    "a = [2,4,6,8,10,12,14,16,18,20]\n",
    "for i in a:\n",
    "    if (i>10):\n",
    "        break\n",
    "    else :\n",
    "        print(i)"
   ]
  },
  {
   "cell_type": "markdown",
   "id": "afa3eb08-2458-4c4c-8f66-bf151fda2741",
   "metadata": {},
   "source": [
    "Q4"
   ]
  },
  {
   "cell_type": "code",
   "execution_count": 27,
   "id": "3fa7efc9-35b7-4a7d-aa0b-cd54da1d004c",
   "metadata": {},
   "outputs": [],
   "source": [
    "# Generator function is used to iterate a sequence of numbers, if we want to store all of the data that prints. \n",
    "# yield is used for cpntrolling the flow of generator function\n",
    "\n",
    "def fib(k):\n",
    "    a,b = 0,1 \n",
    "    for i in range(k):\n",
    "        yield a\n",
    "        a,b = b,a+b\n",
    "\n",
    "        \n",
    "\n",
    "\n",
    "    "
   ]
  },
  {
   "cell_type": "code",
   "execution_count": 30,
   "id": "cc128caf-b163-469c-88c7-e880fa86d2ad",
   "metadata": {},
   "outputs": [
    {
     "name": "stdout",
     "output_type": "stream",
     "text": [
      "0\n",
      "1\n",
      "1\n",
      "2\n",
      "3\n",
      "5\n",
      "8\n",
      "13\n",
      "21\n",
      "34\n"
     ]
    }
   ],
   "source": [
    "for i in (fib(10)):\n",
    "    print(i)"
   ]
  },
  {
   "cell_type": "markdown",
   "id": "a64c84c9-d990-444e-a5ae-624eda072ee5",
   "metadata": {},
   "source": [
    "Q5"
   ]
  },
  {
   "cell_type": "code",
   "execution_count": 40,
   "id": "138590dd-e2d6-48de-a9d8-2986ea994bd4",
   "metadata": {},
   "outputs": [
    {
     "ename": "NameError",
     "evalue": "name 'prime_gen' is not defined",
     "output_type": "error",
     "traceback": [
      "\u001b[0;31m---------------------------------------------------------------------------\u001b[0m",
      "\u001b[0;31mNameError\u001b[0m                                 Traceback (most recent call last)",
      "Cell \u001b[0;32mIn[40], line 1\u001b[0m\n\u001b[0;32m----> 1\u001b[0m primes \u001b[38;5;241m=\u001b[39m \u001b[43mprime_gen\u001b[49m()\n\u001b[1;32m      2\u001b[0m \u001b[38;5;28;01mfor\u001b[39;00m i \u001b[38;5;129;01min\u001b[39;00m \u001b[38;5;28mrange\u001b[39m(\u001b[38;5;241m20\u001b[39m):\n\u001b[1;32m      3\u001b[0m     \u001b[38;5;28mprint\u001b[39m(\u001b[38;5;28mnext\u001b[39m(primes))\n",
      "\u001b[0;31mNameError\u001b[0m: name 'prime_gen' is not defined"
     ]
    }
   ],
   "source": [
    "\n",
    "primes = prime_gen()\n",
    "for i in range(20):\n",
    "    print(next(primes))\n",
    "    \n",
    "    "
   ]
  },
  {
   "cell_type": "code",
   "execution_count": null,
   "id": "5cef2bcb-558e-41ea-96bc-5ff4cd80634b",
   "metadata": {},
   "outputs": [],
   "source": []
  },
  {
   "cell_type": "code",
   "execution_count": null,
   "id": "2ca6c8fc-1288-4057-aee1-b28d5866951a",
   "metadata": {},
   "outputs": [],
   "source": []
  },
  {
   "cell_type": "code",
   "execution_count": null,
   "id": "d6a154fd-eacb-46aa-91cf-799712cc64c5",
   "metadata": {},
   "outputs": [],
   "source": []
  }
 ],
 "metadata": {
  "kernelspec": {
   "display_name": "Python 3 (ipykernel)",
   "language": "python",
   "name": "python3"
  },
  "language_info": {
   "codemirror_mode": {
    "name": "ipython",
    "version": 3
   },
   "file_extension": ".py",
   "mimetype": "text/x-python",
   "name": "python",
   "nbconvert_exporter": "python",
   "pygments_lexer": "ipython3",
   "version": "3.10.8"
  }
 },
 "nbformat": 4,
 "nbformat_minor": 5
}
